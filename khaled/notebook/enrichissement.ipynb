{
 "cells": [
  {
   "cell_type": "markdown",
   "metadata": {
    "toc": true
   },
   "source": [
    "<h1>Table of Contents<span class=\"tocSkip\"></span></h1>\n",
    "<div class=\"toc\"><ul class=\"toc-item\"><li><span><a href=\"#Préparation-des-données-mutations-et-de-leurs-positions.\" data-toc-modified-id=\"Préparation-des-données-mutations-et-de-leurs-positions.-1\"><span class=\"toc-item-num\">1&nbsp;&nbsp;</span>Préparation des données <code>mutations</code> et de leurs positions.</a></span></li><li><span><a href=\"#Filosofi\" data-toc-modified-id=\"Filosofi-2\"><span class=\"toc-item-num\">2&nbsp;&nbsp;</span>Filosofi</a></span><ul class=\"toc-item\"><li><span><a href=\"#Présentation-de-la-base-Filosofi\" data-toc-modified-id=\"Présentation-de-la-base-Filosofi-2.1\"><span class=\"toc-item-num\">2.1&nbsp;&nbsp;</span>Présentation de la base Filosofi</a></span></li><li><span><a href=\"#Analyse-du-fichier-carroyée-de-200m\" data-toc-modified-id=\"Analyse-du-fichier-carroyée-de-200m-2.2\"><span class=\"toc-item-num\">2.2&nbsp;&nbsp;</span>Analyse du fichier carroyée de 200m</a></span><ul class=\"toc-item\"><li><span><a href=\"#Sauvegarde-du-fichier-restreint-à-Paris\" data-toc-modified-id=\"Sauvegarde-du-fichier-restreint-à-Paris-2.2.1\"><span class=\"toc-item-num\">2.2.1&nbsp;&nbsp;</span>Sauvegarde du fichier restreint à Paris</a></span></li><li><span><a href=\"#Analyse-de-la-table\" data-toc-modified-id=\"Analyse-de-la-table-2.2.2\"><span class=\"toc-item-num\">2.2.2&nbsp;&nbsp;</span>Analyse de la table</a></span><ul class=\"toc-item\"><li><span><a href=\"#Quelques-définitions\" data-toc-modified-id=\"Quelques-définitions-2.2.2.1\"><span class=\"toc-item-num\">2.2.2.1&nbsp;&nbsp;</span>Quelques définitions</a></span></li><li><span><a href=\"#Lecture\" data-toc-modified-id=\"Lecture-2.2.2.2\"><span class=\"toc-item-num\">2.2.2.2&nbsp;&nbsp;</span>Lecture</a></span></li><li><span><a href=\"#Analyse-de-la-table-par-arrondissement\" data-toc-modified-id=\"Analyse-de-la-table-par-arrondissement-2.2.2.3\"><span class=\"toc-item-num\">2.2.2.3&nbsp;&nbsp;</span>Analyse de la table par arrondissement</a></span></li></ul></li></ul></li><li><span><a href=\"#Récupération-du-revenu-local\" data-toc-modified-id=\"Récupération-du-revenu-local-2.3\"><span class=\"toc-item-num\">2.3&nbsp;&nbsp;</span>Récupération du revenu local</a></span></li></ul></li></ul></div>"
   ]
  },
  {
   "cell_type": "markdown",
   "metadata": {},
   "source": [
    "# Préparation des données `mutations` et de leurs positions."
   ]
  },
  {
   "cell_type": "code",
   "execution_count": 124,
   "metadata": {
    "ExecuteTime": {
     "end_time": "2020-10-30T23:15:24.735607Z",
     "start_time": "2020-10-30T23:15:24.732599Z"
    }
   },
   "outputs": [],
   "source": [
    "import pandas as pd\n",
    "import geopandas as gpd\n",
    "import re\n",
    "import sklearn\n",
    "import matplotlib.pyplot as plt"
   ]
  },
  {
   "cell_type": "code",
   "execution_count": 7,
   "metadata": {
    "ExecuteTime": {
     "end_time": "2020-10-30T16:07:44.229483Z",
     "start_time": "2020-10-30T16:07:44.225485Z"
    }
   },
   "outputs": [],
   "source": [
    "dossier_donnees = \"C:/Users/khale/OneDrive/Documents/Ensae/Python pour le data scientist/Projets/dvf_ensae_sbra/khaled/data/r11/\""
   ]
  },
  {
   "cell_type": "code",
   "execution_count": 8,
   "metadata": {
    "ExecuteTime": {
     "end_time": "2020-10-30T16:08:55.115433Z",
     "start_time": "2020-10-30T16:07:45.577413Z"
    },
    "collapsed": true
   },
   "outputs": [
    {
     "name": "stderr",
     "output_type": "stream",
     "text": [
      "C:\\Users\\khale\\anaconda3\\envs\\projet_2A\\lib\\site-packages\\pyproj\\crs\\crs.py:53: FutureWarning: '+init=<authority>:<code>' syntax is deprecated. '<authority>:<code>' is the preferred initialization method. When making the change, be mindful of axis order changes: https://pyproj4.github.io/pyproj/stable/gotchas.html#axis-order-changes-in-proj-6\n",
      "  return _prepare_from_string(\" \".join(pjargs))\n"
     ]
    }
   ],
   "source": [
    "mutation_geomlocmut = gpd.read_file(dossier_donnees + \"r11_mutation_geomlocmut.shp\")\n",
    "mutation_geomlocmut = mutation_geomlocmut.rename(columns={\"IDMUTATION\" : \"idmutation\"})\n",
    "mutation_geomlocmut_wgs = mutation_geomlocmut.to_crs({'init' :'epsg:4326'}) "
   ]
  },
  {
   "cell_type": "code",
   "execution_count": 9,
   "metadata": {
    "ExecuteTime": {
     "end_time": "2020-10-30T16:10:49.469280Z",
     "start_time": "2020-10-30T16:10:37.669969Z"
    }
   },
   "outputs": [
    {
     "data": {
      "text/plain": [
       "(1218527, 61)"
      ]
     },
     "execution_count": 9,
     "metadata": {},
     "output_type": "execute_result"
    }
   ],
   "source": [
    "mutation_brute = pd.read_csv(dossier_donnees + \"r11_mutation.csv\")\n",
    "mutation_brute.shape"
   ]
  },
  {
   "cell_type": "markdown",
   "metadata": {},
   "source": [
    "On se retreint également aux mutations ayant eu lieu dans le département de Paris."
   ]
  },
  {
   "cell_type": "code",
   "execution_count": 10,
   "metadata": {
    "ExecuteTime": {
     "end_time": "2020-10-30T16:11:08.723207Z",
     "start_time": "2020-10-30T16:11:08.480505Z"
    }
   },
   "outputs": [],
   "source": [
    "code_mutation_paris = list(mutation_brute[mutation_brute[\"coddep\"] == 75][\"idmutation\"])\n",
    "\n",
    "mutation_geomlocmut_wgs_paris = mutation_geomlocmut_wgs[mutation_geomlocmut_wgs[\"idmutation\"].isin(code_mutation_paris)]"
   ]
  },
  {
   "cell_type": "markdown",
   "metadata": {},
   "source": [
    "# Filosofi"
   ]
  },
  {
   "cell_type": "markdown",
   "metadata": {},
   "source": [
    "## Présentation de la base Filosofi"
   ]
  },
  {
   "cell_type": "markdown",
   "metadata": {},
   "source": [
    "Depuis plusieurs années, l’Insee diffuse des indicateurs sur les revenus déclarés des ménages à tous les niveaux géographiques jusqu’à l’infracommunal (RFL) ainsi que des indicateurs de revenus disponibles au niveau départemental (RDL).\n",
    "\n",
    "Le dispositif FiLoSoFi a été mis en œuvre afin de disposer d’indicateurs de niveau de vie, d’inégalité et de pauvreté à un niveau local infra-départemental. Il remplace les dispositifs Revenus Fiscaux Localisés (RFL) et Revenus Disponibles Localisés (RDL).\n",
    "\n",
    "Les données sont disponibles à une échelle carroyée (carreau de 200m / 1km) [ici](https://www.insee.fr/fr/statistiques/4176290?sommaire=4176305)."
   ]
  },
  {
   "cell_type": "markdown",
   "metadata": {},
   "source": [
    "## Analyse du fichier carroyée de 200m "
   ]
  },
  {
   "cell_type": "code",
   "execution_count": 12,
   "metadata": {
    "ExecuteTime": {
     "end_time": "2020-10-30T16:16:48.053350Z",
     "start_time": "2020-10-30T16:16:48.045336Z"
    }
   },
   "outputs": [],
   "source": [
    "chemin_donnees_filo = r\"C:\\Users\\khale\\OneDrive\\Documents\\Ensae\\Python pour le data scientist\\Projets\\dvf_ensae_sbra\\khaled\\data\\filosofi\\metropole\\Filosofi2015_carreaux_200m_metropole.shp\".replace(\"\\\\\",\"/\")"
   ]
  },
  {
   "cell_type": "code",
   "execution_count": 13,
   "metadata": {
    "ExecuteTime": {
     "end_time": "2020-10-30T16:20:41.422113Z",
     "start_time": "2020-10-30T16:16:51.709735Z"
    }
   },
   "outputs": [],
   "source": [
    "filosofi_france = gpd.read_file(chemin_donnees_filo)"
   ]
  },
  {
   "cell_type": "code",
   "execution_count": 14,
   "metadata": {
    "ExecuteTime": {
     "end_time": "2020-10-30T16:25:44.104239Z",
     "start_time": "2020-10-30T16:25:42.478747Z"
    }
   },
   "outputs": [],
   "source": [
    "filosofi_paris = filosofi_france[filosofi_france[\"Depcom\"].str[:2] == \"75\"]"
   ]
  },
  {
   "cell_type": "code",
   "execution_count": 15,
   "metadata": {
    "ExecuteTime": {
     "end_time": "2020-10-30T16:31:19.228217Z",
     "start_time": "2020-10-30T16:31:19.222228Z"
    }
   },
   "outputs": [],
   "source": [
    "del filosofi_france"
   ]
  },
  {
   "cell_type": "markdown",
   "metadata": {},
   "source": [
    "Transformation en WGS84. "
   ]
  },
  {
   "cell_type": "code",
   "execution_count": 16,
   "metadata": {
    "ExecuteTime": {
     "end_time": "2020-10-30T16:31:31.912103Z",
     "start_time": "2020-10-30T16:31:31.630615Z"
    },
    "collapsed": true
   },
   "outputs": [
    {
     "name": "stderr",
     "output_type": "stream",
     "text": [
      "C:\\Users\\khale\\anaconda3\\envs\\projet_2A\\lib\\site-packages\\pyproj\\crs\\crs.py:53: FutureWarning: '+init=<authority>:<code>' syntax is deprecated. '<authority>:<code>' is the preferred initialization method. When making the change, be mindful of axis order changes: https://pyproj4.github.io/pyproj/stable/gotchas.html#axis-order-changes-in-proj-6\n",
      "  return _prepare_from_string(\" \".join(pjargs))\n",
      "C:\\Users\\khale\\anaconda3\\envs\\projet_2A\\lib\\site-packages\\geopandas\\geodataframe.py:853: SettingWithCopyWarning: \n",
      "A value is trying to be set on a copy of a slice from a DataFrame.\n",
      "Try using .loc[row_indexer,col_indexer] = value instead\n",
      "\n",
      "See the caveats in the documentation: https://pandas.pydata.org/pandas-docs/stable/user_guide/indexing.html#returning-a-view-versus-a-copy\n",
      "  super(GeoDataFrame, self).__setitem__(key, value)\n"
     ]
    }
   ],
   "source": [
    "filosofi_paris[\"geometry\"] = filosofi_paris[\"geometry\"].to_crs({'init' :'epsg:4326'})"
   ]
  },
  {
   "cell_type": "code",
   "execution_count": 22,
   "metadata": {
    "ExecuteTime": {
     "end_time": "2020-10-30T16:39:44.263122Z",
     "start_time": "2020-10-30T16:39:44.239457Z"
    },
    "scrolled": true
   },
   "outputs": [
    {
     "data": {
      "text/html": [
       "<div>\n",
       "<style scoped>\n",
       "    .dataframe tbody tr th:only-of-type {\n",
       "        vertical-align: middle;\n",
       "    }\n",
       "\n",
       "    .dataframe tbody tr th {\n",
       "        vertical-align: top;\n",
       "    }\n",
       "\n",
       "    .dataframe thead th {\n",
       "        text-align: right;\n",
       "    }\n",
       "</style>\n",
       "<table border=\"1\" class=\"dataframe\">\n",
       "  <thead>\n",
       "    <tr style=\"text-align: right;\">\n",
       "      <th></th>\n",
       "      <th>IdINSPIRE</th>\n",
       "      <th>Id_carr1km</th>\n",
       "      <th>I_est_cr</th>\n",
       "      <th>Id_carr_n</th>\n",
       "      <th>Groupe</th>\n",
       "      <th>Depcom</th>\n",
       "      <th>I_pauv</th>\n",
       "      <th>Id_car2010</th>\n",
       "      <th>Ind</th>\n",
       "      <th>Men</th>\n",
       "      <th>...</th>\n",
       "      <th>Ind_11_17</th>\n",
       "      <th>Ind_18_24</th>\n",
       "      <th>Ind_25_39</th>\n",
       "      <th>Ind_40_54</th>\n",
       "      <th>Ind_55_64</th>\n",
       "      <th>Ind_65_79</th>\n",
       "      <th>Ind_80p</th>\n",
       "      <th>Ind_inc</th>\n",
       "      <th>I_est_1km</th>\n",
       "      <th>geometry</th>\n",
       "    </tr>\n",
       "  </thead>\n",
       "  <tbody>\n",
       "    <tr>\n",
       "      <th>0</th>\n",
       "      <td>CRS3035RES200mN2893400E3763200</td>\n",
       "      <td>CRS3035RES1000mN2893000E3763000</td>\n",
       "      <td>0</td>\n",
       "      <td>CRS3035RES1000mN2893000E3763000</td>\n",
       "      <td>866132</td>\n",
       "      <td>75119</td>\n",
       "      <td>0</td>\n",
       "      <td>CRS3035RES200mN2893400E3763200</td>\n",
       "      <td>2818.5</td>\n",
       "      <td>990.0</td>\n",
       "      <td>...</td>\n",
       "      <td>308.0</td>\n",
       "      <td>208.0</td>\n",
       "      <td>517.0</td>\n",
       "      <td>524.0</td>\n",
       "      <td>362.0</td>\n",
       "      <td>351.0</td>\n",
       "      <td>93.0</td>\n",
       "      <td>69.0</td>\n",
       "      <td>0</td>\n",
       "      <td>POLYGON ((2.37974 48.89386, 2.37946 48.89565, ...</td>\n",
       "    </tr>\n",
       "    <tr>\n",
       "      <th>1</th>\n",
       "      <td>CRS3035RES200mN2890000E3762200</td>\n",
       "      <td>CRS3035RES1000mN2890000E3762000</td>\n",
       "      <td>0</td>\n",
       "      <td>CRS3035RES200mN2890000E3762200</td>\n",
       "      <td>862504</td>\n",
       "      <td>75111</td>\n",
       "      <td>0</td>\n",
       "      <td>CRS3035RES200mN2890000E3762200</td>\n",
       "      <td>1543.5</td>\n",
       "      <td>926.0</td>\n",
       "      <td>...</td>\n",
       "      <td>57.0</td>\n",
       "      <td>57.5</td>\n",
       "      <td>577.5</td>\n",
       "      <td>305.0</td>\n",
       "      <td>162.0</td>\n",
       "      <td>155.0</td>\n",
       "      <td>64.0</td>\n",
       "      <td>23.0</td>\n",
       "      <td>0</td>\n",
       "      <td>POLYGON ((2.37086 48.86254, 2.37058 48.86432, ...</td>\n",
       "    </tr>\n",
       "    <tr>\n",
       "      <th>2</th>\n",
       "      <td>CRS3035RES200mN2893400E3762400</td>\n",
       "      <td>CRS3035RES1000mN2893000E3762000</td>\n",
       "      <td>0</td>\n",
       "      <td>CRS3035RES1000mN2893000E3762000</td>\n",
       "      <td>866107</td>\n",
       "      <td>75119</td>\n",
       "      <td>0</td>\n",
       "      <td>CRS3035RES200mN2893400E3762400</td>\n",
       "      <td>1338.0</td>\n",
       "      <td>508.0</td>\n",
       "      <td>...</td>\n",
       "      <td>126.5</td>\n",
       "      <td>83.5</td>\n",
       "      <td>244.0</td>\n",
       "      <td>276.0</td>\n",
       "      <td>185.0</td>\n",
       "      <td>173.0</td>\n",
       "      <td>47.0</td>\n",
       "      <td>25.0</td>\n",
       "      <td>0</td>\n",
       "      <td>POLYGON ((2.36888 48.89312, 2.36860 48.89490, ...</td>\n",
       "    </tr>\n",
       "    <tr>\n",
       "      <th>3</th>\n",
       "      <td>CRS3035RES200mN2891800E3763600</td>\n",
       "      <td>CRS3035RES1000mN2891000E3763000</td>\n",
       "      <td>0</td>\n",
       "      <td>CRS3035RES200mN2891800E3763600</td>\n",
       "      <td>862421</td>\n",
       "      <td>75119</td>\n",
       "      <td>0</td>\n",
       "      <td>CRS3035RES200mN2891800E3763600</td>\n",
       "      <td>1235.5</td>\n",
       "      <td>633.0</td>\n",
       "      <td>...</td>\n",
       "      <td>87.5</td>\n",
       "      <td>39.0</td>\n",
       "      <td>345.0</td>\n",
       "      <td>270.0</td>\n",
       "      <td>124.0</td>\n",
       "      <td>126.0</td>\n",
       "      <td>68.0</td>\n",
       "      <td>35.0</td>\n",
       "      <td>0</td>\n",
       "      <td>POLYGON ((2.38737 48.87993, 2.38710 48.88172, ...</td>\n",
       "    </tr>\n",
       "    <tr>\n",
       "      <th>4</th>\n",
       "      <td>CRS3035RES200mN2890800E3763200</td>\n",
       "      <td>CRS3035RES1000mN2890000E3763000</td>\n",
       "      <td>0</td>\n",
       "      <td>CRS3035RES200mN2890800E3763200</td>\n",
       "      <td>862464</td>\n",
       "      <td>75120</td>\n",
       "      <td>0</td>\n",
       "      <td>CRS3035RES200mN2890800E3763200</td>\n",
       "      <td>685.0</td>\n",
       "      <td>349.0</td>\n",
       "      <td>...</td>\n",
       "      <td>48.5</td>\n",
       "      <td>24.5</td>\n",
       "      <td>152.0</td>\n",
       "      <td>141.0</td>\n",
       "      <td>69.0</td>\n",
       "      <td>124.0</td>\n",
       "      <td>38.0</td>\n",
       "      <td>13.0</td>\n",
       "      <td>0</td>\n",
       "      <td>POLYGON ((2.38332 48.87062, 2.38305 48.87240, ...</td>\n",
       "    </tr>\n",
       "  </tbody>\n",
       "</table>\n",
       "<p>5 rows × 38 columns</p>\n",
       "</div>"
      ],
      "text/plain": [
       "                        IdINSPIRE                       Id_carr1km  I_est_cr  \\\n",
       "0  CRS3035RES200mN2893400E3763200  CRS3035RES1000mN2893000E3763000         0   \n",
       "1  CRS3035RES200mN2890000E3762200  CRS3035RES1000mN2890000E3762000         0   \n",
       "2  CRS3035RES200mN2893400E3762400  CRS3035RES1000mN2893000E3762000         0   \n",
       "3  CRS3035RES200mN2891800E3763600  CRS3035RES1000mN2891000E3763000         0   \n",
       "4  CRS3035RES200mN2890800E3763200  CRS3035RES1000mN2890000E3763000         0   \n",
       "\n",
       "                         Id_carr_n  Groupe Depcom  I_pauv  \\\n",
       "0  CRS3035RES1000mN2893000E3763000  866132  75119       0   \n",
       "1   CRS3035RES200mN2890000E3762200  862504  75111       0   \n",
       "2  CRS3035RES1000mN2893000E3762000  866107  75119       0   \n",
       "3   CRS3035RES200mN2891800E3763600  862421  75119       0   \n",
       "4   CRS3035RES200mN2890800E3763200  862464  75120       0   \n",
       "\n",
       "                       Id_car2010     Ind    Men  ...  Ind_11_17  Ind_18_24  \\\n",
       "0  CRS3035RES200mN2893400E3763200  2818.5  990.0  ...      308.0      208.0   \n",
       "1  CRS3035RES200mN2890000E3762200  1543.5  926.0  ...       57.0       57.5   \n",
       "2  CRS3035RES200mN2893400E3762400  1338.0  508.0  ...      126.5       83.5   \n",
       "3  CRS3035RES200mN2891800E3763600  1235.5  633.0  ...       87.5       39.0   \n",
       "4  CRS3035RES200mN2890800E3763200   685.0  349.0  ...       48.5       24.5   \n",
       "\n",
       "   Ind_25_39  Ind_40_54  Ind_55_64  Ind_65_79  Ind_80p  Ind_inc  I_est_1km  \\\n",
       "0      517.0      524.0      362.0      351.0     93.0     69.0          0   \n",
       "1      577.5      305.0      162.0      155.0     64.0     23.0          0   \n",
       "2      244.0      276.0      185.0      173.0     47.0     25.0          0   \n",
       "3      345.0      270.0      124.0      126.0     68.0     35.0          0   \n",
       "4      152.0      141.0       69.0      124.0     38.0     13.0          0   \n",
       "\n",
       "                                            geometry  \n",
       "0  POLYGON ((2.37974 48.89386, 2.37946 48.89565, ...  \n",
       "1  POLYGON ((2.37086 48.86254, 2.37058 48.86432, ...  \n",
       "2  POLYGON ((2.36888 48.89312, 2.36860 48.89490, ...  \n",
       "3  POLYGON ((2.38737 48.87993, 2.38710 48.88172, ...  \n",
       "4  POLYGON ((2.38332 48.87062, 2.38305 48.87240, ...  \n",
       "\n",
       "[5 rows x 38 columns]"
      ]
     },
     "execution_count": 22,
     "metadata": {},
     "output_type": "execute_result"
    }
   ],
   "source": [
    "filosofi_paris.head()"
   ]
  },
  {
   "cell_type": "markdown",
   "metadata": {},
   "source": [
    "### Sauvegarde du fichier restreint à Paris"
   ]
  },
  {
   "cell_type": "markdown",
   "metadata": {},
   "source": [
    "Le fichier est ici enregistré afin de réduire le temps d'ouverture de la table pour les prochaines analyses."
   ]
  },
  {
   "cell_type": "code",
   "execution_count": 24,
   "metadata": {
    "ExecuteTime": {
     "end_time": "2020-10-30T16:49:59.440510Z",
     "start_time": "2020-10-30T16:49:58.055616Z"
    }
   },
   "outputs": [],
   "source": [
    "saving_path_paris = r\"C:\\Users\\khale\\OneDrive\\Documents\\Ensae\\Python pour le data scientist\\Projets\\dvf_ensae_sbra\\khaled\\data\\filosofi\\metropole\\filosofi_75.shp\".replace(\"\\\\\",\"/\")\n",
    "\n",
    "filosofi_paris.to_file(saving_path_paris)"
   ]
  },
  {
   "cell_type": "markdown",
   "metadata": {},
   "source": [
    "### Analyse de la table"
   ]
  },
  {
   "cell_type": "markdown",
   "metadata": {},
   "source": [
    "#### Quelques définitions"
   ]
  },
  {
   "cell_type": "markdown",
   "metadata": {},
   "source": [
    "#### Lecture"
   ]
  },
  {
   "cell_type": "code",
   "execution_count": 81,
   "metadata": {
    "ExecuteTime": {
     "end_time": "2020-10-30T21:10:47.030503Z",
     "start_time": "2020-10-30T21:10:46.702553Z"
    }
   },
   "outputs": [],
   "source": [
    "filosofi_paris = gpd.read_file(r\"C:\\Users\\khale\\OneDrive\\Documents\\Ensae\\Python pour le data scientist\\Projets\\dvf_ensae_sbra\\khaled\\data\\filosofi\\metropole\\filosofi_75.shp\".replace(\"\\\\\",\"/\"))"
   ]
  },
  {
   "cell_type": "code",
   "execution_count": 82,
   "metadata": {
    "ExecuteTime": {
     "end_time": "2020-10-30T21:11:03.107921Z",
     "start_time": "2020-10-30T21:11:03.102487Z"
    }
   },
   "outputs": [],
   "source": [
    "filosofi_paris2 = filosofi_paris.copy()"
   ]
  },
  {
   "cell_type": "markdown",
   "metadata": {},
   "source": [
    "Cette table est constituée des 37 variables suivantes : \n",
    "\n",
    "|  IdINSPIRE |                                                                             Identifiant Inspire du carreau de 200 m                                                                             |\n",
    "|:----------:|:-----------------------------------------------------------------------------------------------------------------------------------------------------------------------------------------------:|\n",
    "| Id_carr1km |                                                           Identifiant Inspire du carreau de 1 km auquel appartient le carreau de 200 m                                                          |\n",
    "|  I_est_cr  |                                                           Vaut 1 si le carreau de 200 m est imputé par une valeur approchée, 0 sinon.                                                           |\n",
    "|  Id_carr_n |                                                      Identifiant Inspire du carreau de niveau naturel auquel appartient le carreau de 200 m                                                     |\n",
    "|   Groupe   |                                                               Numéro du groupe auquel appartient le carreau (voir documentation).                                                               |\n",
    "|   Depcom   |                                        Code commune, selon le code officiel géographique 2019, auquel sont rattachés la majorité des ménages du carreau.                                        |\n",
    "|   I_pauv   |                            Nombre de carreaux de 200 m compris dans le carreau qui ont été traités pour respecter la confidentialité sur le nombre de ménages pauvres                           |\n",
    "| Id_car2010 | Identifiant Inspire du carreau de 200 m figurant dans la base de données carroyées à 200 m diffusée avec la source RFL2010 (le nombre de caractères peut être différent de celui de IdINSPIRE). |\n",
    "|     Ind    |                                                                                        Nombre d’individus                                                                                       |\n",
    "|     Men    |                                                                                        Nombre de ménages                                                                                        |\n",
    "|  Men_pauv  |                                                                                    Nombre de ménages pauvres                                                                                    |\n",
    "|  Men_1ind  |                                                                               Nombre de ménages d’un seul individu                                                                              |\n",
    "|  Men_5ind  |                                                                             Nombre de ménages de 5 individus ou plus                                                                            |\n",
    "|  Men_prop  |                                                                                 Nombre de ménages propriétaires                                                                                 |\n",
    "|   Men_fmp  |                                                                                 Nombre de ménages monoparentaux                                                                                 |\n",
    "|   Ind_snv  |                                                                        Somme des niveaux de vie winsorisés des individus                                                                        |\n",
    "|  Men_surf  |                                                                           Somme de la surface des logements du carreau                                                                          |\n",
    "|  Men_coll  |                                                                            Nombre de ménages en logements collectifs                                                                            |\n",
    "|  Men_mais  |                                                                                   Nombre de ménages en maison                                                                                   |\n",
    "|  Log_av45  |                                                                            Nombre de logements construits avant 1945                                                                            |\n",
    "|  Log_45_70 |                                                                        Nombre de logements construits entre 1945 et 1969                                                                        |\n",
    "|  Log_70_90 |                                                                        Nombre de logements construits entre 1970 et 1989                                                                        |\n",
    "|  Log_ap90  |                                                                            Nombre de logements construits depuis 1990                                                                           |\n",
    "|   Log_inc  |                                                                  Nombre de logements dont la date de construction est inconnue                                                                  |\n",
    "|   Log_soc  |                                                                                   Nombre de logements sociaux                                                                                   |\n",
    "|   Ind_0_3  |                                                                                 Nombre d’individus de 0 à 3 ans                                                                                 |\n",
    "|   Ind_4_5  |                                                                                 Nombre d’individus de 4 à 5 ans                                                                                 |\n",
    "|  Ind_6_10  |                                                                                 Nombre d’individus de 6 à 10 ans                                                                                |\n",
    "|  Ind_11_17 |                                                                                Nombre d’individus de 11 à 17 ans                                                                                |\n",
    "|  Ind_18_24 |                                                                                Nombre d’individus de 18 à 24 ans                                                                                |\n",
    "|  Ind_25_39 |                                                                                Nombre d’individus de 25 à 39 ans                                                                                |\n",
    "|  Ind_40_54 |                                                                                Nombre d’individus de 40 à 54 ans                                                                                |\n",
    "|  Ind_55_64 |                                                                                Nombre d’individus de 55 à 64 ans                                                                                |\n",
    "|  Ind_65_79 |                                                                                Nombre d’individus de 65 à 79 ans                                                                                |\n",
    "|   Ind_80p  |                                                                               Nombre d’individus de 80 ans ou plus                                                                              |\n",
    "|   Ind_inc  |                                                                            Nombre d’individus dont l’âge est inconnu                                                                            |\n",
    "|  I_est_1km |                                        Vaut 1 si le carreau de 1 km auquel est rattaché le carreau de 200 m est imputé par une valeur approchée, 0 sinon.                                       |"
   ]
  },
  {
   "cell_type": "markdown",
   "metadata": {},
   "source": [
    " #### Analyse de la table par arrondissement"
   ]
  },
  {
   "cell_type": "markdown",
   "metadata": {},
   "source": [
    "#####  Construction de la table"
   ]
  },
  {
   "cell_type": "markdown",
   "metadata": {},
   "source": [
    "L'analyse va être réalisé à une échelle agrégée pour la prise en main de la table. Nous allons considérer l'arrondissement comme individu statistique. Certaines variables doivent être donc recalculées : par exemple, la part de 65 à 79 ans plutôt que le nombre. À la partie suivante, on propose une fonction permettant de renvoyer la table avec les \"nouvelles\" variables (proportion, écart type, surface moyenne etc...) à partir d'un zonage quelconque (défini à l'aide d'une variable)."
   ]
  },
  {
   "cell_type": "code",
   "execution_count": 83,
   "metadata": {
    "ExecuteTime": {
     "end_time": "2020-10-30T21:11:06.956772Z",
     "start_time": "2020-10-30T21:11:06.949776Z"
    },
    "scrolled": false
   },
   "outputs": [],
   "source": [
    "filosofi_paris[\"arrond\"] = filosofi_paris[\"Depcom\"].str[3:]"
   ]
  },
  {
   "cell_type": "code",
   "execution_count": 84,
   "metadata": {
    "ExecuteTime": {
     "end_time": "2020-10-30T21:11:07.902892Z",
     "start_time": "2020-10-30T21:11:07.889967Z"
    }
   },
   "outputs": [],
   "source": [
    "ind_par_arrond = filosofi_paris.filter(regex = \"(?i)(.*(arrond|men|log|ind).*)\").groupby(\"arrond\").sum() \n",
    "#(?!) devant un regex permet d'être insensible à la casse"
   ]
  },
  {
   "cell_type": "markdown",
   "metadata": {},
   "source": [
    "Mise en pourcentage pour éviter les effets tailles"
   ]
  },
  {
   "cell_type": "code",
   "execution_count": 85,
   "metadata": {
    "ExecuteTime": {
     "end_time": "2020-10-30T21:11:08.864523Z",
     "start_time": "2020-10-30T21:11:08.848899Z"
    }
   },
   "outputs": [],
   "source": [
    "\n",
    "ind_par_arrond.loc[:,\"Ind_0_3\":\"Ind_inc\"] = ind_par_arrond.loc[:,\"Ind_0_3\":\"Ind_inc\"].apply(lambda x : 100*x /ind_par_arrond[\"Ind\"])\n",
    "\n",
    "nb_log = ind_par_arrond.loc[:, \"Log_av45\":\"Log_inc\"].apply(sum, axis = 1)\n",
    "ind_par_arrond.loc[:, \"Log_av45\":\"Log_inc\"] = ind_par_arrond.loc[:, \"Log_av45\":\"Log_inc\"].apply(lambda x: 100*x/nb_log) #la lambda fonction est appliquée colonne par colonne\n",
    "\n",
    "ind_par_arrond[\"Log_soc\"] = 100*ind_par_arrond[\"Log_soc\"]/nb_log\n",
    "\n",
    "ind_par_arrond.loc[:, \"Men_pauv\":\"Men_fmp\"] = ind_par_arrond.loc[:, \"Men_pauv\":\"Men_fmp\"].apply(lambda x : 100*x / ind_par_arrond[\"Men\"])"
   ]
  },
  {
   "cell_type": "markdown",
   "metadata": {
    "ExecuteTime": {
     "end_time": "2020-10-30T22:24:32.342483Z",
     "start_time": "2020-10-30T22:24:32.337487Z"
    }
   },
   "source": [
    "Les ménages sont répartis entre logement collectif et en maison. Attention : si cela ne somme pas à 100%, c'est qu'il y a les caravanes qui ont été exclues. Cette information est issue de la taxe d'habitation."
   ]
  },
  {
   "cell_type": "code",
   "execution_count": 96,
   "metadata": {
    "ExecuteTime": {
     "end_time": "2020-10-30T21:54:39.046394Z",
     "start_time": "2020-10-30T21:54:39.041458Z"
    }
   },
   "outputs": [],
   "source": [
    "ind_par_arrond.loc[:, \"Men_coll\":\"Men_mais\"] = ind_par_arrond.loc[:, \"Men_coll\":\"Men_mais\"].apply(lambda x : 100*x / ind_par_arrond[\"Men\"])"
   ]
  },
  {
   "cell_type": "markdown",
   "metadata": {},
   "source": [
    "Dans la table *ind_par_arrond*, nous disposons de : \n",
    "- la somme des niveaux de vie winsorisés (application d'une fonction du type $\\min(revenu,seuil)$) des individus\n",
    "- la somme de la surface des logements du carreau\n",
    "\n",
    "Nous allons ajouter : \n",
    "- le niveau de vie winsorisé par habitant *nv_par_hab*\n",
    "- la surface moyenne des logements par arrondissement *sur_moyen*\n"
   ]
  },
  {
   "cell_type": "code",
   "execution_count": 101,
   "metadata": {
    "ExecuteTime": {
     "end_time": "2020-10-30T22:31:12.086393Z",
     "start_time": "2020-10-30T22:31:12.082384Z"
    }
   },
   "outputs": [],
   "source": [
    "#ind_par_arrond[[\"nv_par_hab\"]]\n",
    "ind_par_arrond[\"nv_par_hab\"] = ind_par_arrond[\"Ind_snv\"]/ind_par_arrond[\"Ind\"]\n",
    "ind_par_arrond[\"ind_par_arrond\"] = ind_par_arrond[\"Men_surf\"]/nb_log"
   ]
  },
  {
   "cell_type": "markdown",
   "metadata": {},
   "source": [
    "##### Analyse factorielle de la table par arrondissement"
   ]
  },
  {
   "cell_type": "markdown",
   "metadata": {},
   "source": [
    "Choix des variables pour l'analyse "
   ]
  },
  {
   "cell_type": "code",
   "execution_count": 104,
   "metadata": {
    "ExecuteTime": {
     "end_time": "2020-10-30T22:54:16.322243Z",
     "start_time": "2020-10-30T22:54:16.317447Z"
    }
   },
   "outputs": [
    {
     "data": {
      "text/plain": [
       "Index(['Ind', 'Men', 'Men_pauv', 'Men_1ind', 'Men_5ind', 'Men_prop', 'Men_fmp',\n",
       "       'Ind_snv', 'Men_surf', 'Men_coll', 'Men_mais', 'Log_av45', 'Log_45_70',\n",
       "       'Log_70_90', 'Log_ap90', 'Log_inc', 'Log_soc', 'Ind_0_3', 'Ind_4_5',\n",
       "       'Ind_6_10', 'Ind_11_17', 'Ind_18_24', 'Ind_25_39', 'Ind_40_54',\n",
       "       'Ind_55_64', 'Ind_65_79', 'Ind_80p', 'Ind_inc', 'nv_par_hab',\n",
       "       'ind_par_arrond'],\n",
       "      dtype='object')"
      ]
     },
     "execution_count": 104,
     "metadata": {},
     "output_type": "execute_result"
    }
   ],
   "source": [
    "ind_par_arrond.columns"
   ]
  },
  {
   "cell_type": "code",
   "execution_count": 106,
   "metadata": {
    "ExecuteTime": {
     "end_time": "2020-10-30T22:54:59.872295Z",
     "start_time": "2020-10-30T22:54:59.834287Z"
    }
   },
   "outputs": [
    {
     "data": {
      "text/html": [
       "<div>\n",
       "<style scoped>\n",
       "    .dataframe tbody tr th:only-of-type {\n",
       "        vertical-align: middle;\n",
       "    }\n",
       "\n",
       "    .dataframe tbody tr th {\n",
       "        vertical-align: top;\n",
       "    }\n",
       "\n",
       "    .dataframe thead th {\n",
       "        text-align: right;\n",
       "    }\n",
       "</style>\n",
       "<table border=\"1\" class=\"dataframe\">\n",
       "  <thead>\n",
       "    <tr style=\"text-align: right;\">\n",
       "      <th></th>\n",
       "      <th>Ind</th>\n",
       "      <th>Men</th>\n",
       "      <th>Men_pauv</th>\n",
       "      <th>Men_1ind</th>\n",
       "      <th>Men_5ind</th>\n",
       "      <th>Men_prop</th>\n",
       "      <th>Men_fmp</th>\n",
       "      <th>Ind_snv</th>\n",
       "      <th>Men_surf</th>\n",
       "      <th>Men_coll</th>\n",
       "      <th>...</th>\n",
       "      <th>Ind_11_17</th>\n",
       "      <th>Ind_18_24</th>\n",
       "      <th>Ind_25_39</th>\n",
       "      <th>Ind_40_54</th>\n",
       "      <th>Ind_55_64</th>\n",
       "      <th>Ind_65_79</th>\n",
       "      <th>Ind_80p</th>\n",
       "      <th>Ind_inc</th>\n",
       "      <th>nv_par_hab</th>\n",
       "      <th>ind_par_arrond</th>\n",
       "    </tr>\n",
       "    <tr>\n",
       "      <th>arrond</th>\n",
       "      <th></th>\n",
       "      <th></th>\n",
       "      <th></th>\n",
       "      <th></th>\n",
       "      <th></th>\n",
       "      <th></th>\n",
       "      <th></th>\n",
       "      <th></th>\n",
       "      <th></th>\n",
       "      <th></th>\n",
       "      <th></th>\n",
       "      <th></th>\n",
       "      <th></th>\n",
       "      <th></th>\n",
       "      <th></th>\n",
       "      <th></th>\n",
       "      <th></th>\n",
       "      <th></th>\n",
       "      <th></th>\n",
       "      <th></th>\n",
       "      <th></th>\n",
       "    </tr>\n",
       "  </thead>\n",
       "  <tbody>\n",
       "    <tr>\n",
       "      <th>01</th>\n",
       "      <td>15272.0</td>\n",
       "      <td>8361.2</td>\n",
       "      <td>13.232550</td>\n",
       "      <td>52.625221</td>\n",
       "      <td>3.565278</td>\n",
       "      <td>31.194087</td>\n",
       "      <td>8.972396</td>\n",
       "      <td>5.869567e+08</td>\n",
       "      <td>493935.0</td>\n",
       "      <td>97.977563</td>\n",
       "      <td>...</td>\n",
       "      <td>5.906888</td>\n",
       "      <td>4.401519</td>\n",
       "      <td>25.561812</td>\n",
       "      <td>22.935437</td>\n",
       "      <td>11.289288</td>\n",
       "      <td>12.923651</td>\n",
       "      <td>5.150602</td>\n",
       "      <td>2.731797</td>\n",
       "      <td>38433.516599</td>\n",
       "      <td>59.074654</td>\n",
       "    </tr>\n",
       "    <tr>\n",
       "      <th>02</th>\n",
       "      <td>21137.0</td>\n",
       "      <td>11659.0</td>\n",
       "      <td>15.001287</td>\n",
       "      <td>54.567287</td>\n",
       "      <td>3.550905</td>\n",
       "      <td>34.059525</td>\n",
       "      <td>7.273351</td>\n",
       "      <td>7.394809e+08</td>\n",
       "      <td>585414.0</td>\n",
       "      <td>98.739171</td>\n",
       "      <td>...</td>\n",
       "      <td>5.249089</td>\n",
       "      <td>4.269764</td>\n",
       "      <td>32.788475</td>\n",
       "      <td>23.570043</td>\n",
       "      <td>9.996688</td>\n",
       "      <td>9.173487</td>\n",
       "      <td>2.739272</td>\n",
       "      <td>2.072196</td>\n",
       "      <td>34985.140999</td>\n",
       "      <td>50.211339</td>\n",
       "    </tr>\n",
       "    <tr>\n",
       "      <th>03</th>\n",
       "      <td>36011.0</td>\n",
       "      <td>19747.0</td>\n",
       "      <td>13.997063</td>\n",
       "      <td>54.079101</td>\n",
       "      <td>3.782853</td>\n",
       "      <td>37.869043</td>\n",
       "      <td>7.773333</td>\n",
       "      <td>1.303419e+09</td>\n",
       "      <td>1072752.0</td>\n",
       "      <td>98.749177</td>\n",
       "      <td>...</td>\n",
       "      <td>5.569132</td>\n",
       "      <td>4.068201</td>\n",
       "      <td>29.413235</td>\n",
       "      <td>22.744439</td>\n",
       "      <td>11.102163</td>\n",
       "      <td>11.313210</td>\n",
       "      <td>3.773847</td>\n",
       "      <td>2.357613</td>\n",
       "      <td>36195.029161</td>\n",
       "      <td>54.324809</td>\n",
       "    </tr>\n",
       "    <tr>\n",
       "      <th>04</th>\n",
       "      <td>25454.0</td>\n",
       "      <td>13819.2</td>\n",
       "      <td>13.558672</td>\n",
       "      <td>52.267859</td>\n",
       "      <td>3.581249</td>\n",
       "      <td>34.371020</td>\n",
       "      <td>8.710345</td>\n",
       "      <td>9.240984e+08</td>\n",
       "      <td>790943.0</td>\n",
       "      <td>97.981793</td>\n",
       "      <td>...</td>\n",
       "      <td>5.802231</td>\n",
       "      <td>4.064980</td>\n",
       "      <td>25.359865</td>\n",
       "      <td>21.626856</td>\n",
       "      <td>12.141510</td>\n",
       "      <td>13.548755</td>\n",
       "      <td>5.309578</td>\n",
       "      <td>2.717451</td>\n",
       "      <td>36304.643651</td>\n",
       "      <td>57.235079</td>\n",
       "    </tr>\n",
       "    <tr>\n",
       "      <th>05</th>\n",
       "      <td>49386.0</td>\n",
       "      <td>26144.8</td>\n",
       "      <td>13.180441</td>\n",
       "      <td>51.699382</td>\n",
       "      <td>4.310609</td>\n",
       "      <td>36.979438</td>\n",
       "      <td>8.384076</td>\n",
       "      <td>1.862882e+09</td>\n",
       "      <td>1476419.8</td>\n",
       "      <td>98.148771</td>\n",
       "      <td>...</td>\n",
       "      <td>6.558741</td>\n",
       "      <td>4.719961</td>\n",
       "      <td>23.179444</td>\n",
       "      <td>19.358320</td>\n",
       "      <td>11.791803</td>\n",
       "      <td>15.216863</td>\n",
       "      <td>6.254809</td>\n",
       "      <td>3.395699</td>\n",
       "      <td>37720.856907</td>\n",
       "      <td>56.470878</td>\n",
       "    </tr>\n",
       "    <tr>\n",
       "      <th>06</th>\n",
       "      <td>35762.5</td>\n",
       "      <td>19105.0</td>\n",
       "      <td>12.494111</td>\n",
       "      <td>51.886941</td>\n",
       "      <td>4.344412</td>\n",
       "      <td>41.973305</td>\n",
       "      <td>7.757132</td>\n",
       "      <td>1.559496e+09</td>\n",
       "      <td>1318186.0</td>\n",
       "      <td>96.461659</td>\n",
       "      <td>...</td>\n",
       "      <td>6.239776</td>\n",
       "      <td>4.457183</td>\n",
       "      <td>20.440405</td>\n",
       "      <td>19.162531</td>\n",
       "      <td>12.264243</td>\n",
       "      <td>17.241524</td>\n",
       "      <td>7.902132</td>\n",
       "      <td>3.587557</td>\n",
       "      <td>43607.030840</td>\n",
       "      <td>68.996912</td>\n",
       "    </tr>\n",
       "    <tr>\n",
       "      <th>07</th>\n",
       "      <td>48239.5</td>\n",
       "      <td>24534.1</td>\n",
       "      <td>11.207258</td>\n",
       "      <td>49.201723</td>\n",
       "      <td>5.594255</td>\n",
       "      <td>41.219772</td>\n",
       "      <td>7.194884</td>\n",
       "      <td>2.232585e+09</td>\n",
       "      <td>1872908.3</td>\n",
       "      <td>94.713480</td>\n",
       "      <td>...</td>\n",
       "      <td>7.063091</td>\n",
       "      <td>4.668166</td>\n",
       "      <td>20.409623</td>\n",
       "      <td>19.572342</td>\n",
       "      <td>11.875952</td>\n",
       "      <td>15.577690</td>\n",
       "      <td>7.535319</td>\n",
       "      <td>3.761026</td>\n",
       "      <td>46281.254474</td>\n",
       "      <td>76.338985</td>\n",
       "    </tr>\n",
       "    <tr>\n",
       "      <th>08</th>\n",
       "      <td>37865.0</td>\n",
       "      <td>17503.0</td>\n",
       "      <td>12.790379</td>\n",
       "      <td>43.281723</td>\n",
       "      <td>7.362738</td>\n",
       "      <td>37.789522</td>\n",
       "      <td>8.444267</td>\n",
       "      <td>1.686523e+09</td>\n",
       "      <td>1399120.7</td>\n",
       "      <td>93.253157</td>\n",
       "      <td>...</td>\n",
       "      <td>7.909151</td>\n",
       "      <td>4.914301</td>\n",
       "      <td>21.354021</td>\n",
       "      <td>21.596461</td>\n",
       "      <td>11.937937</td>\n",
       "      <td>11.488446</td>\n",
       "      <td>4.834544</td>\n",
       "      <td>4.217351</td>\n",
       "      <td>44540.428742</td>\n",
       "      <td>79.936051</td>\n",
       "    </tr>\n",
       "    <tr>\n",
       "      <th>09</th>\n",
       "      <td>55118.0</td>\n",
       "      <td>27925.0</td>\n",
       "      <td>12.848344</td>\n",
       "      <td>49.192480</td>\n",
       "      <td>4.920322</td>\n",
       "      <td>41.407341</td>\n",
       "      <td>8.064458</td>\n",
       "      <td>2.064245e+09</td>\n",
       "      <td>1667331.9</td>\n",
       "      <td>96.995524</td>\n",
       "      <td>...</td>\n",
       "      <td>6.629413</td>\n",
       "      <td>4.317101</td>\n",
       "      <td>28.843572</td>\n",
       "      <td>21.386843</td>\n",
       "      <td>10.301535</td>\n",
       "      <td>9.958634</td>\n",
       "      <td>3.882761</td>\n",
       "      <td>2.908306</td>\n",
       "      <td>37451.381393</td>\n",
       "      <td>59.707499</td>\n",
       "    </tr>\n",
       "    <tr>\n",
       "      <th>10</th>\n",
       "      <td>92202.5</td>\n",
       "      <td>45323.0</td>\n",
       "      <td>16.614081</td>\n",
       "      <td>48.476491</td>\n",
       "      <td>5.716744</td>\n",
       "      <td>37.407056</td>\n",
       "      <td>8.860843</td>\n",
       "      <td>2.698611e+09</td>\n",
       "      <td>2351111.0</td>\n",
       "      <td>98.779869</td>\n",
       "      <td>...</td>\n",
       "      <td>6.571948</td>\n",
       "      <td>4.389794</td>\n",
       "      <td>29.942247</td>\n",
       "      <td>22.025433</td>\n",
       "      <td>10.610341</td>\n",
       "      <td>9.190640</td>\n",
       "      <td>2.977143</td>\n",
       "      <td>2.256446</td>\n",
       "      <td>29268.304896</td>\n",
       "      <td>51.874567</td>\n",
       "    </tr>\n",
       "    <tr>\n",
       "      <th>11</th>\n",
       "      <td>142481.5</td>\n",
       "      <td>76358.0</td>\n",
       "      <td>14.695251</td>\n",
       "      <td>53.605385</td>\n",
       "      <td>4.146258</td>\n",
       "      <td>36.517457</td>\n",
       "      <td>8.119647</td>\n",
       "      <td>4.239509e+09</td>\n",
       "      <td>3730147.0</td>\n",
       "      <td>99.360905</td>\n",
       "      <td>...</td>\n",
       "      <td>5.666701</td>\n",
       "      <td>4.481634</td>\n",
       "      <td>30.413422</td>\n",
       "      <td>20.581619</td>\n",
       "      <td>10.844917</td>\n",
       "      <td>11.207771</td>\n",
       "      <td>4.115622</td>\n",
       "      <td>2.175019</td>\n",
       "      <td>29754.802640</td>\n",
       "      <td>48.850769</td>\n",
       "    </tr>\n",
       "    <tr>\n",
       "      <th>12</th>\n",
       "      <td>138471.5</td>\n",
       "      <td>67868.0</td>\n",
       "      <td>11.416131</td>\n",
       "      <td>48.342076</td>\n",
       "      <td>5.458242</td>\n",
       "      <td>32.490275</td>\n",
       "      <td>9.419314</td>\n",
       "      <td>4.178107e+09</td>\n",
       "      <td>3669874.7</td>\n",
       "      <td>99.284493</td>\n",
       "      <td>...</td>\n",
       "      <td>6.692135</td>\n",
       "      <td>4.610913</td>\n",
       "      <td>25.314595</td>\n",
       "      <td>20.131507</td>\n",
       "      <td>11.156736</td>\n",
       "      <td>11.345512</td>\n",
       "      <td>5.218041</td>\n",
       "      <td>3.994179</td>\n",
       "      <td>30173.045721</td>\n",
       "      <td>54.073712</td>\n",
       "    </tr>\n",
       "    <tr>\n",
       "      <th>13</th>\n",
       "      <td>172372.5</td>\n",
       "      <td>82491.4</td>\n",
       "      <td>14.134686</td>\n",
       "      <td>46.300099</td>\n",
       "      <td>6.291444</td>\n",
       "      <td>26.153514</td>\n",
       "      <td>11.115341</td>\n",
       "      <td>4.699688e+09</td>\n",
       "      <td>4547712.3</td>\n",
       "      <td>99.036748</td>\n",
       "      <td>...</td>\n",
       "      <td>7.292405</td>\n",
       "      <td>5.312448</td>\n",
       "      <td>22.983597</td>\n",
       "      <td>20.102743</td>\n",
       "      <td>12.360672</td>\n",
       "      <td>12.760620</td>\n",
       "      <td>4.857851</td>\n",
       "      <td>2.824697</td>\n",
       "      <td>27264.722401</td>\n",
       "      <td>55.129532</td>\n",
       "    </tr>\n",
       "    <tr>\n",
       "      <th>14</th>\n",
       "      <td>122299.5</td>\n",
       "      <td>62750.1</td>\n",
       "      <td>12.168905</td>\n",
       "      <td>49.666853</td>\n",
       "      <td>4.720152</td>\n",
       "      <td>31.427838</td>\n",
       "      <td>10.361736</td>\n",
       "      <td>3.852701e+09</td>\n",
       "      <td>3470844.9</td>\n",
       "      <td>98.476496</td>\n",
       "      <td>...</td>\n",
       "      <td>6.677787</td>\n",
       "      <td>5.018336</td>\n",
       "      <td>24.265921</td>\n",
       "      <td>19.679721</td>\n",
       "      <td>11.994407</td>\n",
       "      <td>13.332025</td>\n",
       "      <td>5.470995</td>\n",
       "      <td>2.806962</td>\n",
       "      <td>31502.184980</td>\n",
       "      <td>55.312181</td>\n",
       "    </tr>\n",
       "    <tr>\n",
       "      <th>15</th>\n",
       "      <td>218179.5</td>\n",
       "      <td>112738.8</td>\n",
       "      <td>11.357669</td>\n",
       "      <td>50.525995</td>\n",
       "      <td>4.774931</td>\n",
       "      <td>33.719891</td>\n",
       "      <td>8.263703</td>\n",
       "      <td>7.499561e+09</td>\n",
       "      <td>6298026.0</td>\n",
       "      <td>98.552938</td>\n",
       "      <td>...</td>\n",
       "      <td>6.407614</td>\n",
       "      <td>4.573299</td>\n",
       "      <td>25.527650</td>\n",
       "      <td>19.574020</td>\n",
       "      <td>11.085643</td>\n",
       "      <td>12.688406</td>\n",
       "      <td>6.046581</td>\n",
       "      <td>3.061837</td>\n",
       "      <td>34373.353367</td>\n",
       "      <td>55.863873</td>\n",
       "    </tr>\n",
       "    <tr>\n",
       "      <th>16</th>\n",
       "      <td>156081.5</td>\n",
       "      <td>73860.5</td>\n",
       "      <td>13.547024</td>\n",
       "      <td>44.188707</td>\n",
       "      <td>6.946338</td>\n",
       "      <td>44.971940</td>\n",
       "      <td>8.808362</td>\n",
       "      <td>6.756944e+09</td>\n",
       "      <td>5910460.0</td>\n",
       "      <td>91.965259</td>\n",
       "      <td>...</td>\n",
       "      <td>7.948219</td>\n",
       "      <td>4.691908</td>\n",
       "      <td>17.833568</td>\n",
       "      <td>20.686564</td>\n",
       "      <td>12.141413</td>\n",
       "      <td>14.492813</td>\n",
       "      <td>7.484487</td>\n",
       "      <td>3.959470</td>\n",
       "      <td>43291.129179</td>\n",
       "      <td>80.021933</td>\n",
       "    </tr>\n",
       "    <tr>\n",
       "      <th>17</th>\n",
       "      <td>165334.5</td>\n",
       "      <td>81155.0</td>\n",
       "      <td>13.124145</td>\n",
       "      <td>47.973507</td>\n",
       "      <td>6.058900</td>\n",
       "      <td>35.953422</td>\n",
       "      <td>8.838642</td>\n",
       "      <td>5.924600e+09</td>\n",
       "      <td>4856261.0</td>\n",
       "      <td>97.050089</td>\n",
       "      <td>...</td>\n",
       "      <td>6.874548</td>\n",
       "      <td>4.734704</td>\n",
       "      <td>26.946886</td>\n",
       "      <td>20.007318</td>\n",
       "      <td>10.461821</td>\n",
       "      <td>10.884540</td>\n",
       "      <td>4.968715</td>\n",
       "      <td>2.911371</td>\n",
       "      <td>35834.022837</td>\n",
       "      <td>59.839332</td>\n",
       "    </tr>\n",
       "    <tr>\n",
       "      <th>18</th>\n",
       "      <td>183959.0</td>\n",
       "      <td>92219.7</td>\n",
       "      <td>18.409949</td>\n",
       "      <td>51.300752</td>\n",
       "      <td>5.868486</td>\n",
       "      <td>34.422038</td>\n",
       "      <td>9.674180</td>\n",
       "      <td>4.685538e+09</td>\n",
       "      <td>4305874.2</td>\n",
       "      <td>99.206243</td>\n",
       "      <td>...</td>\n",
       "      <td>6.682739</td>\n",
       "      <td>4.664463</td>\n",
       "      <td>28.893884</td>\n",
       "      <td>21.051647</td>\n",
       "      <td>10.815019</td>\n",
       "      <td>10.078007</td>\n",
       "      <td>3.560739</td>\n",
       "      <td>1.846335</td>\n",
       "      <td>25470.556450</td>\n",
       "      <td>46.691479</td>\n",
       "    </tr>\n",
       "    <tr>\n",
       "      <th>19</th>\n",
       "      <td>191231.0</td>\n",
       "      <td>81330.3</td>\n",
       "      <td>18.582496</td>\n",
       "      <td>42.358383</td>\n",
       "      <td>10.030333</td>\n",
       "      <td>27.963010</td>\n",
       "      <td>11.699945</td>\n",
       "      <td>4.411502e+09</td>\n",
       "      <td>4496199.4</td>\n",
       "      <td>98.856392</td>\n",
       "      <td>...</td>\n",
       "      <td>8.647029</td>\n",
       "      <td>5.321418</td>\n",
       "      <td>23.170982</td>\n",
       "      <td>20.665792</td>\n",
       "      <td>11.462681</td>\n",
       "      <td>10.228676</td>\n",
       "      <td>3.564851</td>\n",
       "      <td>2.643138</td>\n",
       "      <td>23068.968747</td>\n",
       "      <td>55.283202</td>\n",
       "    </tr>\n",
       "    <tr>\n",
       "      <th>20</th>\n",
       "      <td>194493.0</td>\n",
       "      <td>89720.1</td>\n",
       "      <td>16.519264</td>\n",
       "      <td>46.153649</td>\n",
       "      <td>7.314972</td>\n",
       "      <td>27.993058</td>\n",
       "      <td>11.472123</td>\n",
       "      <td>4.704587e+09</td>\n",
       "      <td>4747558.1</td>\n",
       "      <td>98.977932</td>\n",
       "      <td>...</td>\n",
       "      <td>7.643463</td>\n",
       "      <td>4.962595</td>\n",
       "      <td>24.599651</td>\n",
       "      <td>21.373674</td>\n",
       "      <td>11.726695</td>\n",
       "      <td>10.639149</td>\n",
       "      <td>3.782604</td>\n",
       "      <td>2.461271</td>\n",
       "      <td>24188.977690</td>\n",
       "      <td>52.915212</td>\n",
       "    </tr>\n",
       "  </tbody>\n",
       "</table>\n",
       "<p>20 rows × 30 columns</p>\n",
       "</div>"
      ],
      "text/plain": [
       "             Ind       Men   Men_pauv   Men_1ind   Men_5ind   Men_prop  \\\n",
       "arrond                                                                   \n",
       "01       15272.0    8361.2  13.232550  52.625221   3.565278  31.194087   \n",
       "02       21137.0   11659.0  15.001287  54.567287   3.550905  34.059525   \n",
       "03       36011.0   19747.0  13.997063  54.079101   3.782853  37.869043   \n",
       "04       25454.0   13819.2  13.558672  52.267859   3.581249  34.371020   \n",
       "05       49386.0   26144.8  13.180441  51.699382   4.310609  36.979438   \n",
       "06       35762.5   19105.0  12.494111  51.886941   4.344412  41.973305   \n",
       "07       48239.5   24534.1  11.207258  49.201723   5.594255  41.219772   \n",
       "08       37865.0   17503.0  12.790379  43.281723   7.362738  37.789522   \n",
       "09       55118.0   27925.0  12.848344  49.192480   4.920322  41.407341   \n",
       "10       92202.5   45323.0  16.614081  48.476491   5.716744  37.407056   \n",
       "11      142481.5   76358.0  14.695251  53.605385   4.146258  36.517457   \n",
       "12      138471.5   67868.0  11.416131  48.342076   5.458242  32.490275   \n",
       "13      172372.5   82491.4  14.134686  46.300099   6.291444  26.153514   \n",
       "14      122299.5   62750.1  12.168905  49.666853   4.720152  31.427838   \n",
       "15      218179.5  112738.8  11.357669  50.525995   4.774931  33.719891   \n",
       "16      156081.5   73860.5  13.547024  44.188707   6.946338  44.971940   \n",
       "17      165334.5   81155.0  13.124145  47.973507   6.058900  35.953422   \n",
       "18      183959.0   92219.7  18.409949  51.300752   5.868486  34.422038   \n",
       "19      191231.0   81330.3  18.582496  42.358383  10.030333  27.963010   \n",
       "20      194493.0   89720.1  16.519264  46.153649   7.314972  27.993058   \n",
       "\n",
       "          Men_fmp       Ind_snv   Men_surf   Men_coll  ...  Ind_11_17  \\\n",
       "arrond                                                 ...              \n",
       "01       8.972396  5.869567e+08   493935.0  97.977563  ...   5.906888   \n",
       "02       7.273351  7.394809e+08   585414.0  98.739171  ...   5.249089   \n",
       "03       7.773333  1.303419e+09  1072752.0  98.749177  ...   5.569132   \n",
       "04       8.710345  9.240984e+08   790943.0  97.981793  ...   5.802231   \n",
       "05       8.384076  1.862882e+09  1476419.8  98.148771  ...   6.558741   \n",
       "06       7.757132  1.559496e+09  1318186.0  96.461659  ...   6.239776   \n",
       "07       7.194884  2.232585e+09  1872908.3  94.713480  ...   7.063091   \n",
       "08       8.444267  1.686523e+09  1399120.7  93.253157  ...   7.909151   \n",
       "09       8.064458  2.064245e+09  1667331.9  96.995524  ...   6.629413   \n",
       "10       8.860843  2.698611e+09  2351111.0  98.779869  ...   6.571948   \n",
       "11       8.119647  4.239509e+09  3730147.0  99.360905  ...   5.666701   \n",
       "12       9.419314  4.178107e+09  3669874.7  99.284493  ...   6.692135   \n",
       "13      11.115341  4.699688e+09  4547712.3  99.036748  ...   7.292405   \n",
       "14      10.361736  3.852701e+09  3470844.9  98.476496  ...   6.677787   \n",
       "15       8.263703  7.499561e+09  6298026.0  98.552938  ...   6.407614   \n",
       "16       8.808362  6.756944e+09  5910460.0  91.965259  ...   7.948219   \n",
       "17       8.838642  5.924600e+09  4856261.0  97.050089  ...   6.874548   \n",
       "18       9.674180  4.685538e+09  4305874.2  99.206243  ...   6.682739   \n",
       "19      11.699945  4.411502e+09  4496199.4  98.856392  ...   8.647029   \n",
       "20      11.472123  4.704587e+09  4747558.1  98.977932  ...   7.643463   \n",
       "\n",
       "        Ind_18_24  Ind_25_39  Ind_40_54  Ind_55_64  Ind_65_79   Ind_80p  \\\n",
       "arrond                                                                    \n",
       "01       4.401519  25.561812  22.935437  11.289288  12.923651  5.150602   \n",
       "02       4.269764  32.788475  23.570043   9.996688   9.173487  2.739272   \n",
       "03       4.068201  29.413235  22.744439  11.102163  11.313210  3.773847   \n",
       "04       4.064980  25.359865  21.626856  12.141510  13.548755  5.309578   \n",
       "05       4.719961  23.179444  19.358320  11.791803  15.216863  6.254809   \n",
       "06       4.457183  20.440405  19.162531  12.264243  17.241524  7.902132   \n",
       "07       4.668166  20.409623  19.572342  11.875952  15.577690  7.535319   \n",
       "08       4.914301  21.354021  21.596461  11.937937  11.488446  4.834544   \n",
       "09       4.317101  28.843572  21.386843  10.301535   9.958634  3.882761   \n",
       "10       4.389794  29.942247  22.025433  10.610341   9.190640  2.977143   \n",
       "11       4.481634  30.413422  20.581619  10.844917  11.207771  4.115622   \n",
       "12       4.610913  25.314595  20.131507  11.156736  11.345512  5.218041   \n",
       "13       5.312448  22.983597  20.102743  12.360672  12.760620  4.857851   \n",
       "14       5.018336  24.265921  19.679721  11.994407  13.332025  5.470995   \n",
       "15       4.573299  25.527650  19.574020  11.085643  12.688406  6.046581   \n",
       "16       4.691908  17.833568  20.686564  12.141413  14.492813  7.484487   \n",
       "17       4.734704  26.946886  20.007318  10.461821  10.884540  4.968715   \n",
       "18       4.664463  28.893884  21.051647  10.815019  10.078007  3.560739   \n",
       "19       5.321418  23.170982  20.665792  11.462681  10.228676  3.564851   \n",
       "20       4.962595  24.599651  21.373674  11.726695  10.639149  3.782604   \n",
       "\n",
       "         Ind_inc    nv_par_hab  ind_par_arrond  \n",
       "arrond                                          \n",
       "01      2.731797  38433.516599       59.074654  \n",
       "02      2.072196  34985.140999       50.211339  \n",
       "03      2.357613  36195.029161       54.324809  \n",
       "04      2.717451  36304.643651       57.235079  \n",
       "05      3.395699  37720.856907       56.470878  \n",
       "06      3.587557  43607.030840       68.996912  \n",
       "07      3.761026  46281.254474       76.338985  \n",
       "08      4.217351  44540.428742       79.936051  \n",
       "09      2.908306  37451.381393       59.707499  \n",
       "10      2.256446  29268.304896       51.874567  \n",
       "11      2.175019  29754.802640       48.850769  \n",
       "12      3.994179  30173.045721       54.073712  \n",
       "13      2.824697  27264.722401       55.129532  \n",
       "14      2.806962  31502.184980       55.312181  \n",
       "15      3.061837  34373.353367       55.863873  \n",
       "16      3.959470  43291.129179       80.021933  \n",
       "17      2.911371  35834.022837       59.839332  \n",
       "18      1.846335  25470.556450       46.691479  \n",
       "19      2.643138  23068.968747       55.283202  \n",
       "20      2.461271  24188.977690       52.915212  \n",
       "\n",
       "[20 rows x 30 columns]"
      ]
     },
     "execution_count": 106,
     "metadata": {},
     "output_type": "execute_result"
    }
   ],
   "source": [
    "ind_par_arrond"
   ]
  },
  {
   "cell_type": "markdown",
   "metadata": {},
   "source": [
    "On centre et réduit les données en amont en utilisant la classe `StandardScaler`."
   ]
  },
  {
   "cell_type": "code",
   "execution_count": 137,
   "metadata": {
    "ExecuteTime": {
     "end_time": "2020-10-30T23:29:59.962582Z",
     "start_time": "2020-10-30T23:29:59.956466Z"
    }
   },
   "outputs": [],
   "source": [
    "from sklearn.preprocessing import StandardScaler\n",
    "\n",
    "sc = StandardScaler()\n",
    "\n",
    "ind_par_arrond_c_r = sc.fit_transform(ind_par_arrond)"
   ]
  },
  {
   "cell_type": "markdown",
   "metadata": {},
   "source": [
    "Première analyse pour obtenir le *barplot* des inerties et ainsi déterminer le nombre d'axes à conserver."
   ]
  },
  {
   "cell_type": "code",
   "execution_count": 131,
   "metadata": {
    "ExecuteTime": {
     "end_time": "2020-10-30T23:26:32.440386Z",
     "start_time": "2020-10-30T23:26:32.437384Z"
    }
   },
   "outputs": [],
   "source": [
    "from sklearn.decomposition import PCA\n",
    "\n",
    "acp = PCA(svd_solver= \"full\")\n",
    "\n",
    "coord = acp.fit_transform(ind_par_arrond_c_r)\n",
    "\n",
    "eigval = (len(ind_par_arrond_c_r) - 1)/(len(ind_par_arrond_c_r))*acp.explained_variance_ratio_ "
   ]
  },
  {
   "cell_type": "code",
   "execution_count": 130,
   "metadata": {
    "ExecuteTime": {
     "end_time": "2020-10-30T23:18:08.244084Z",
     "start_time": "2020-10-30T23:18:08.060140Z"
    }
   },
   "outputs": [
    {
     "data": {
      "text/plain": [
       "<BarContainer object of 20 artists>"
      ]
     },
     "execution_count": 130,
     "metadata": {},
     "output_type": "execute_result"
    },
    {
     "data": {
      "image/png": "[encoded data removed]",
      "text/plain": [
       "<Figure size 432x288 with 1 Axes>"
      ]
     },
     "metadata": {
      "needs_background": "light"
     },
     "output_type": "display_data"
    }
   ],
   "source": [
    "#Pour faire des plots avec des arrays --> matplotlib\n",
    "\n",
    "plt.bar(range(len(acp.explained_variance_ratio_)), acp.explained_variance_ratio_)"
   ]
  },
  {
   "cell_type": "markdown",
   "metadata": {},
   "source": [
    "On conservera ici soit deux axes soit quatre axes à l'aide de la méthode du coude ou du critère de Kaiser."
   ]
  },
  {
   "cell_type": "markdown",
   "metadata": {},
   "source": [
    "##### Calcul des aides à l'interprétation"
   ]
  },
  {
   "cell_type": "code",
   "execution_count": 136,
   "metadata": {
    "ExecuteTime": {
     "end_time": "2020-10-30T23:28:28.025257Z",
     "start_time": "2020-10-30T23:28:28.019275Z"
    }
   },
   "outputs": [
    {
     "name": "stdout",
     "output_type": "stream",
     "text": [
      "[24.00124533 43.28882099 35.64238326 19.51393486 14.30000493 40.64704011\n",
      " 35.71791273 42.58089269 15.59502828 15.40200972 15.31690283 13.23097182\n",
      " 37.61639541 11.18496612 25.14736382 58.26008806 11.97978211 23.79776905\n",
      " 77.77167663 39.00481123]\n"
     ]
    }
   ],
   "source": [
    "ctr = coord**2\n",
    "\n",
    "#Contribution des individus\n",
    "for j in range(4):\n",
    " ctr[:,j] = ctr[:,j]/(len(ind_par_arrond_c_r)*eigval[j])\n",
    "\n",
    "#Qualité de représentation des individus\n",
    "di = np.sum(ind_par_arrond_c_r**2, axis = 1)\n",
    "\n",
    "print(di)"
   ]
  },
  {
   "cell_type": "markdown",
   "metadata": {},
   "source": [
    "## Récupération du revenu local"
   ]
  },
  {
   "cell_type": "code",
   "execution_count": 20,
   "metadata": {
    "ExecuteTime": {
     "end_time": "2020-10-30T16:39:03.905566Z",
     "start_time": "2020-10-30T16:39:03.903570Z"
    }
   },
   "outputs": [],
   "source": [
    "def is_point_in_poly(point, poly):\n",
    "    return point.intersects(poly)"
   ]
  },
  {
   "cell_type": "code",
   "execution_count": 21,
   "metadata": {
    "ExecuteTime": {
     "end_time": "2020-10-30T16:39:04.989833Z",
     "start_time": "2020-10-30T16:39:04.983832Z"
    }
   },
   "outputs": [],
   "source": [
    "#get the number of the poly of the point\n",
    "#Return None if the point isn't in any polygon.\n",
    "def get_number_poly(point, polys):\n",
    "    polys = list(polys)\n",
    "    try: \n",
    "        res = list(map(lambda x : is_point_in_poly(point,x) , polys)).index(True)\n",
    "    except ValueError:\n",
    "        res = None\n",
    "    return res"
   ]
  },
  {
   "cell_type": "markdown",
   "metadata": {},
   "source": [
    "Test de la fonction sur 100 points afin d'avoir une idée du timing : "
   ]
  },
  {
   "cell_type": "code",
   "execution_count": 113,
   "metadata": {},
   "outputs": [],
   "source": [
    "test_100_pts = mutation_geomlocmut_wgs_nord[\"geometry\"].head(100)"
   ]
  },
  {
   "cell_type": "code",
   "execution_count": 137,
   "metadata": {},
   "outputs": [],
   "source": [
    "res2 = list(map(lambda x : get_number_poly(x, filosofi_nord[\"geometry\"]), test_100_pts))"
   ]
  },
  {
   "cell_type": "code",
   "execution_count": 129,
   "metadata": {
    "scrolled": true
   },
   "outputs": [
    {
     "data": {
      "text/plain": [
       "34811    POINT (3.04456 50.57734)\n",
       "34812    POINT (2.90945 50.50903)\n",
       "34813    POINT (3.96977 50.27345)\n",
       "34814    POINT (3.07244 50.66921)\n",
       "34815    POINT (3.96908 50.27449)\n",
       "                   ...           \n",
       "34906    POINT (3.01017 50.61772)\n",
       "34907    POINT (3.04526 50.58991)\n",
       "34908    POINT (3.05940 50.63121)\n",
       "34909    POINT (2.96937 50.65149)\n",
       "34910    POINT (3.05674 50.63487)\n",
       "Name: geometry, Length: 100, dtype: geometry"
      ]
     },
     "execution_count": 129,
     "metadata": {},
     "output_type": "execute_result"
    }
   ],
   "source": [
    "GeoDataFrame({\"points\" : test_100_pts,\n",
    "             \"num_poly\" : }"
   ]
  }
 ],
 "metadata": {
  "kernelspec": {
   "display_name": "projet_2A",
   "language": "python",
   "name": "projet_2a"
  },
  "language_info": {
   "codemirror_mode": {
    "name": "ipython",
    "version": 3
   },
   "file_extension": ".py",
   "mimetype": "text/x-python",
   "name": "python",
   "nbconvert_exporter": "python",
   "pygments_lexer": "ipython3",
   "version": "3.8.5"
  },
  "latex_envs": {
   "LaTeX_envs_menu_present": true,
   "autoclose": false,
   "autocomplete": true,
   "bibliofile": "biblio.bib",
   "cite_by": "apalike",
   "current_citInitial": 1,
   "eqLabelWithNumbers": true,
   "eqNumInitial": 1,
   "hotkeys": {
    "equation": "Ctrl-E",
    "itemize": "Ctrl-I"
   },
   "labels_anchors": false,
   "latex_user_defs": false,
   "report_style_numbering": false,
   "user_envs_cfg": false
  },
  "toc": {
   "base_numbering": 1,
   "nav_menu": {},
   "number_sections": true,
   "sideBar": true,
   "skip_h1_title": false,
   "title_cell": "Table of Contents",
   "title_sidebar": "Contents",
   "toc_cell": true,
   "toc_position": {},
   "toc_section_display": true,
   "toc_window_display": false
  },
  "varInspector": {
   "cols": {
    "lenName": 16,
    "lenType": 16,
    "lenVar": 40
   },
   "kernels_config": {
    "python": {
     "delete_cmd_postfix": "",
     "delete_cmd_prefix": "del ",
     "library": "var_list.py",
     "varRefreshCmd": "print(var_dic_list())"
    },
    "r": {
     "delete_cmd_postfix": ") ",
     "delete_cmd_prefix": "rm(",
     "library": "var_list.r",
     "varRefreshCmd": "cat(var_dic_list()) "
    }
   },
   "types_to_exclude": [
    "module",
    "function",
    "builtin_function_or_method",
    "instance",
    "_Feature"
   ],
   "window_display": false
  }
 },
 "nbformat": 4,
 "nbformat_minor": 4
}
