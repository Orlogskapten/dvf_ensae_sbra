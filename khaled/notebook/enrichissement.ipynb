{
 "cells": [
  {
   "cell_type": "markdown",
   "metadata": {
    "toc": true
   },
   "source": [
    "<h1>Table of Contents<span class=\"tocSkip\"></span></h1>\n",
    "<div class=\"toc\"><ul class=\"toc-item\"><li><span><a href=\"#Préparation-des-données-mutations-et-de-leurs-positions.\" data-toc-modified-id=\"Préparation-des-données-mutations-et-de-leurs-positions.-1\"><span class=\"toc-item-num\">1&nbsp;&nbsp;</span>Préparation des données mutations et de leurs positions.</a></span></li><li><span><a href=\"#Filosofi\" data-toc-modified-id=\"Filosofi-2\"><span class=\"toc-item-num\">2&nbsp;&nbsp;</span>Filosofi</a></span><ul class=\"toc-item\"><li><span><a href=\"#Présentation-de-la-base-Filosofi\" data-toc-modified-id=\"Présentation-de-la-base-Filosofi-2.1\"><span class=\"toc-item-num\">2.1&nbsp;&nbsp;</span>Présentation de la base Filosofi</a></span></li><li><span><a href=\"#Analyse-du-fichier-carroyée-de-200m\" data-toc-modified-id=\"Analyse-du-fichier-carroyée-de-200m-2.2\"><span class=\"toc-item-num\">2.2&nbsp;&nbsp;</span>Analyse du fichier carroyée de 200m</a></span></li><li><span><a href=\"#Récupération-du-revenu-local\" data-toc-modified-id=\"Récupération-du-revenu-local-2.3\"><span class=\"toc-item-num\">2.3&nbsp;&nbsp;</span>Récupération du revenu local</a></span></li></ul></li></ul></div>"
   ]
  },
  {
   "cell_type": "markdown",
   "metadata": {},
   "source": [
    "# Préparation des données mutations et de leurs positions."
   ]
  },
  {
   "cell_type": "code",
   "execution_count": 95,
   "metadata": {},
   "outputs": [],
   "source": [
    "import pandas as pd\n",
    "import geopandas as gpd"
   ]
  },
  {
   "cell_type": "code",
   "execution_count": 26,
   "metadata": {},
   "outputs": [],
   "source": [
    "dossier_donnees = \"C:/Users/khale/OneDrive/Documents/Ensae/Python pour le data scientist/Projet/Immo/Données/r32/\""
   ]
  },
  {
   "cell_type": "code",
   "execution_count": 110,
   "metadata": {},
   "outputs": [
    {
     "name": "stderr",
     "output_type": "stream",
     "text": [
      "C:\\Users\\khale\\anaconda3\\envs\\projet_2A\\lib\\site-packages\\pyproj\\crs\\crs.py:53: FutureWarning: '+init=<authority>:<code>' syntax is deprecated. '<authority>:<code>' is the preferred initialization method. When making the change, be mindful of axis order changes: https://pyproj4.github.io/pyproj/stable/gotchas.html#axis-order-changes-in-proj-6\n",
      "  return _prepare_from_string(\" \".join(pjargs))\n"
     ]
    }
   ],
   "source": [
    "mutation_geomlocmut = gpd.read_file(dossier_donnees + \"r32_mutation_geomlocmut.shp\")\n",
    "mutation_geomlocmut = mutation_geomlocmut.rename(columns={\"IDMUTATION\" : \"idmutation\"})\n",
    "mutation_geomlocmut_wgs = mutation_geomlocmut.to_crs({'init' :'epsg:4326'}) "
   ]
  },
  {
   "cell_type": "code",
   "execution_count": 65,
   "metadata": {},
   "outputs": [],
   "source": [
    "pt_test = mutation_geomlocmut_wgs.iloc[2][\"geometry\"]"
   ]
  },
  {
   "cell_type": "code",
   "execution_count": 96,
   "metadata": {},
   "outputs": [
    {
     "data": {
      "text/plain": [
       "(569592, 61)"
      ]
     },
     "execution_count": 96,
     "metadata": {},
     "output_type": "execute_result"
    }
   ],
   "source": [
    "mutation_brute = pd.read_csv(dossier_donnees + \"r32_mutation.csv\")\n",
    "mutation_brute.shape"
   ]
  },
  {
   "cell_type": "markdown",
   "metadata": {},
   "source": [
    "On se retreint également aux mutations ayant eu lieu dans le département du Nord."
   ]
  },
  {
   "cell_type": "code",
   "execution_count": 107,
   "metadata": {},
   "outputs": [],
   "source": [
    "code_mutation_nord = list(mutation_brute[mutation_brute[\"coddep\"] == 59][\"idmutation\"])"
   ]
  },
  {
   "cell_type": "code",
   "execution_count": 112,
   "metadata": {
    "scrolled": true
   },
   "outputs": [],
   "source": [
    "mutation_geomlocmut_wgs_nord = mutation_geomlocmut_wgs[mutation_geomlocmut_wgs[\"idmutation\"].isin(code_mutation_nord)]"
   ]
  },
  {
   "cell_type": "markdown",
   "metadata": {},
   "source": [
    "# Filosofi"
   ]
  },
  {
   "cell_type": "markdown",
   "metadata": {},
   "source": [
    "## Présentation de la base Filosofi"
   ]
  },
  {
   "cell_type": "markdown",
   "metadata": {},
   "source": [
    "Depuis plusieurs années, l’Insee diffuse des indicateurs sur les revenus déclarés des ménages à tous les niveaux géographiques jusqu’à l’infracommunal (RFL) ainsi que des indicateurs de revenus disponibles au niveau départemental (RDL).\n",
    "\n",
    "Le dispositif FiLoSoFi a été mis en œuvre afin de disposer d’indicateurs de niveau de vie, d’inégalité et de pauvreté à un niveau local infra-départemental. Il remplace les dispositifs Revenus Fiscaux Localisés (RFL) et Revenus Disponibles Localisés (RDL).\n",
    "\n",
    "Les données sont disponibles à une échelle carroyée (carreau de 200m / 1km) [ici](https://www.insee.fr/fr/statistiques/4176290?sommaire=4176305)."
   ]
  },
  {
   "cell_type": "markdown",
   "metadata": {},
   "source": [
    "## Analyse du fichier carroyée de 200m "
   ]
  },
  {
   "cell_type": "code",
   "execution_count": 6,
   "metadata": {},
   "outputs": [],
   "source": [
    "chemin_donnees_filo = r\"C:\\Users\\khale\\OneDrive\\Documents\\Ensae\\Python pour le data scientist\\Projets\\dvf_ensae_sbra\\khaled\\data\\filosofi\\metropole\\Filosofi2015_carreaux_200m_metropole.shp\".replace(\"\\\\\",\"/\")"
   ]
  },
  {
   "cell_type": "code",
   "execution_count": 7,
   "metadata": {},
   "outputs": [],
   "source": [
    "filosofi_france = gpd.read_file(chemin_donnees_filo)"
   ]
  },
  {
   "cell_type": "code",
   "execution_count": 10,
   "metadata": {},
   "outputs": [
    {
     "data": {
      "text/plain": [
       "(2289077, 38)"
      ]
     },
     "execution_count": 10,
     "metadata": {},
     "output_type": "execute_result"
    }
   ],
   "source": [
    "filosofi_france.shape"
   ]
  },
  {
   "cell_type": "code",
   "execution_count": 14,
   "metadata": {},
   "outputs": [],
   "source": [
    "filosofi_nord = filosofi_france[filosofi_france[\"Depcom\"].str[:2] == \"59\"]"
   ]
  },
  {
   "cell_type": "markdown",
   "metadata": {},
   "source": [
    "Transformation en WGS84. "
   ]
  },
  {
   "cell_type": "code",
   "execution_count": 22,
   "metadata": {},
   "outputs": [
    {
     "name": "stderr",
     "output_type": "stream",
     "text": [
      "C:\\Users\\khale\\anaconda3\\envs\\projet_2A\\lib\\site-packages\\pyproj\\crs\\crs.py:53: FutureWarning: '+init=<authority>:<code>' syntax is deprecated. '<authority>:<code>' is the preferred initialization method. When making the change, be mindful of axis order changes: https://pyproj4.github.io/pyproj/stable/gotchas.html#axis-order-changes-in-proj-6\n",
      "  return _prepare_from_string(\" \".join(pjargs))\n"
     ]
    }
   ],
   "source": [
    "filosofi_nord[\"geometry\"] = filosofi_nord[\"geometry\"].to_crs({'init' :'epsg:4326'})"
   ]
  },
  {
   "cell_type": "markdown",
   "metadata": {},
   "source": [
    "## Récupération du revenu local"
   ]
  },
  {
   "cell_type": "code",
   "execution_count": 45,
   "metadata": {},
   "outputs": [
    {
     "data": {
      "text/plain": [
       "False"
      ]
     },
     "execution_count": 45,
     "metadata": {},
     "output_type": "execute_result"
    }
   ],
   "source": [
    "pt_test.intersects(filosofi_nord.iloc[0][\"geometry\"])"
   ]
  },
  {
   "cell_type": "code",
   "execution_count": 69,
   "metadata": {},
   "outputs": [],
   "source": [
    "def is_point_in_poly(point, poly):\n",
    "    return point.intersects(poly)"
   ]
  },
  {
   "cell_type": "code",
   "execution_count": 80,
   "metadata": {},
   "outputs": [],
   "source": [
    "#get the number of the poly of the point\n",
    "#Return None if the point isn't in any polygon.\n",
    "def get_number_poly(point, polys):\n",
    "    try: \n",
    "        res = list(map(lambda x : is_point_in_poly(point,x) , polys)).index(True)\n",
    "    except ValueError:\n",
    "        res = None\n",
    "    return res"
   ]
  },
  {
   "cell_type": "markdown",
   "metadata": {},
   "source": [
    "Test de la fonction sur 100 points afin d'avoir une idée du timing : "
   ]
  },
  {
   "cell_type": "code",
   "execution_count": 113,
   "metadata": {},
   "outputs": [],
   "source": [
    "test_100_pts =mutation_geomlocmut_wgs_nord[\"geometry\"].head(100)"
   ]
  },
  {
   "cell_type": "code",
   "execution_count": 117,
   "metadata": {},
   "outputs": [],
   "source": [
    "res2 = list(map(lambda x : get_number_poly(x, filosofi_nord[\"geometry\"]), test_100_pts))"
   ]
  },
  {
   "cell_type": "code",
   "execution_count": 118,
   "metadata": {},
   "outputs": [
    {
     "data": {
      "text/plain": [
       "[15604,\n",
       " 35858,\n",
       " 8912,\n",
       " 25461,\n",
       " 9078,\n",
       " None,\n",
       " 38206,\n",
       " 13308,\n",
       " 8912,\n",
       " 16810,\n",
       " 19943,\n",
       " 18599,\n",
       " 12004,\n",
       " 2293,\n",
       " 15193,\n",
       " 21704,\n",
       " 33369,\n",
       " 32433,\n",
       " 43931,\n",
       " 20229,\n",
       " 12033,\n",
       " 21893,\n",
       " 16583,\n",
       " 43564,\n",
       " 45023,\n",
       " 34961,\n",
       " 29000,\n",
       " 19960,\n",
       " 29880,\n",
       " 30846,\n",
       " 42374,\n",
       " 18409,\n",
       " 8912,\n",
       " 32040,\n",
       " 25268,\n",
       " 17002,\n",
       " 42832,\n",
       " 36425,\n",
       " 44504,\n",
       " 39782,\n",
       " 15757,\n",
       " 23301,\n",
       " 44461,\n",
       " 40390,\n",
       " 42055,\n",
       " 21704,\n",
       " 23633,\n",
       " 14728,\n",
       " 37106,\n",
       " 41351,\n",
       " 34415,\n",
       " 53,\n",
       " 22061,\n",
       " 26906,\n",
       " 17747,\n",
       " 22063,\n",
       " 28059,\n",
       " 34417,\n",
       " 15193,\n",
       " 34961,\n",
       " 13666,\n",
       " 16990,\n",
       " 44202,\n",
       " 33523,\n",
       " 28413,\n",
       " 41800,\n",
       " 6181,\n",
       " 36963,\n",
       " 37505,\n",
       " 20465,\n",
       " 37327,\n",
       " 33524,\n",
       " 45142,\n",
       " 30198,\n",
       " 21697,\n",
       " 21699,\n",
       " 35613,\n",
       " 26989,\n",
       " 33369,\n",
       " 37233,\n",
       " 33523,\n",
       " 33280,\n",
       " 42444,\n",
       " 39693,\n",
       " 30660,\n",
       " 35581,\n",
       " 45593,\n",
       " 26196,\n",
       " 21702,\n",
       " 37505,\n",
       " 44461,\n",
       " 20229,\n",
       " 24136,\n",
       " 25254,\n",
       " 26471,\n",
       " 44808,\n",
       " 16802,\n",
       " 39694,\n",
       " 37233,\n",
       " 33523]"
      ]
     },
     "execution_count": 118,
     "metadata": {},
     "output_type": "execute_result"
    }
   ],
   "source": [
    "res2"
   ]
  }
 ],
 "metadata": {
  "kernelspec": {
   "display_name": "projet_2A",
   "language": "python",
   "name": "projet_2a"
  },
  "language_info": {
   "codemirror_mode": {
    "name": "ipython",
    "version": 3
   },
   "file_extension": ".py",
   "mimetype": "text/x-python",
   "name": "python",
   "nbconvert_exporter": "python",
   "pygments_lexer": "ipython3",
   "version": "3.8.5"
  },
  "latex_envs": {
   "LaTeX_envs_menu_present": true,
   "autoclose": false,
   "autocomplete": true,
   "bibliofile": "biblio.bib",
   "cite_by": "apalike",
   "current_citInitial": 1,
   "eqLabelWithNumbers": true,
   "eqNumInitial": 1,
   "hotkeys": {
    "equation": "Ctrl-E",
    "itemize": "Ctrl-I"
   },
   "labels_anchors": false,
   "latex_user_defs": false,
   "report_style_numbering": false,
   "user_envs_cfg": false
  },
  "toc": {
   "base_numbering": 1,
   "nav_menu": {},
   "number_sections": true,
   "sideBar": true,
   "skip_h1_title": false,
   "title_cell": "Table of Contents",
   "title_sidebar": "Contents",
   "toc_cell": true,
   "toc_position": {},
   "toc_section_display": true,
   "toc_window_display": false
  },
  "varInspector": {
   "cols": {
    "lenName": 16,
    "lenType": 16,
    "lenVar": 40
   },
   "kernels_config": {
    "python": {
     "delete_cmd_postfix": "",
     "delete_cmd_prefix": "del ",
     "library": "var_list.py",
     "varRefreshCmd": "print(var_dic_list())"
    },
    "r": {
     "delete_cmd_postfix": ") ",
     "delete_cmd_prefix": "rm(",
     "library": "var_list.r",
     "varRefreshCmd": "cat(var_dic_list()) "
    }
   },
   "types_to_exclude": [
    "module",
    "function",
    "builtin_function_or_method",
    "instance",
    "_Feature"
   ],
   "window_display": false
  }
 },
 "nbformat": 4,
 "nbformat_minor": 4
}
