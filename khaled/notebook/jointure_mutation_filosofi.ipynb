{
  "nbformat": 4,
  "nbformat_minor": 0,
  "metadata": {
    "colab": {
      "name": "jointure_mutation_filosofi.ipynb",
      "provenance": [],
      "collapsed_sections": []
    },
    "kernelspec": {
      "name": "python3",
      "display_name": "Python 3"
    }
  },
  "cells": [
    {
      "cell_type": "markdown",
      "metadata": {
        "id": "MMwqqPgJchUl"
      },
      "source": [
        "# Jointure entre le fichier `mutation_geomlocmt` et `filosofi` \n",
        "\n",
        "Le but de ce notebook est de faire le lien entre les mutations disponibles dans la table `mutation_geomlocmut` et les informations disposnibles dans la base `Filosofi`.\n",
        "\n",
        "Les informations géographiques dans la table `mutation_geomlocmut` sont disponibles de manière ponctuelle alors que les données issues de `filosofi`sont fournies par carreaux. Dès lors, il n'existe pas de clefs directes pour joindre ces deux tables. \n",
        "\n",
        "Il faut au préalable pour chaque point de la table `mutation_geomlocmut` déterminer dans quel carreau il se situe. Pour se faire, on utilise les fonctions : \n",
        "\n",
        "- `is_point_in_poly` : vérifie si un objet `Point` appartient à un objet `Polygon`\n",
        "- `get_number_poly` : pour un objet `Point` permet de récupérer l'indice de l'objet `Polygon` auquel il appartient (None sinon).\n",
        "- `add_information_to_points` : permet de faire la jointure entre les tables `mutation` et `filosofi` en utilisant l'indice du `Polygon` d'appartenance du `Point`.\n",
        "\n",
        "Ces fonctions présentent de fortes complexités : nous avons décidé de les lancer sur Google Colab (aucune donnée confidentielle n'est mobilisée ici).\n",
        "\n"
      ]
    },
    {
      "cell_type": "markdown",
      "metadata": {
        "id": "yjVh8fKUg11R"
      },
      "source": [
        "## Préparation de l'espace de travail sur Google Colab"
      ]
    },
    {
      "cell_type": "markdown",
      "metadata": {
        "id": "ZQbiJW-ag-zu"
      },
      "source": [
        "### Lien avec Google Drive\n"
      ]
    },
    {
      "cell_type": "markdown",
      "metadata": {
        "id": "cpNZJ45nhFFM"
      },
      "source": [
        "Les données ont été importées depuis Google Drive. Elles sont disponibles en cliquant [ici](https://drive.google.com/drive/folders/1ut-i30E5ZbZRzdj42B_LNRYM4eR4_XWE?usp=sharing)."
      ]
    },
    {
      "cell_type": "code",
      "metadata": {
        "id": "1jYP02-MBCrB",
        "outputId": "985f1303-a4fd-42e3-9266-d65f03d3a3bf",
        "colab": {
          "base_uri": "https://localhost:8080/"
        }
      },
      "source": [
        "from google.colab import drive\n",
        "drive.mount('/content/drive')"
      ],
      "execution_count": 21,
      "outputs": [
        {
          "output_type": "stream",
          "text": [
            "Drive already mounted at /content/drive; to attempt to forcibly remount, call drive.mount(\"/content/drive\", force_remount=True).\n"
          ],
          "name": "stdout"
        }
      ]
    },
    {
      "cell_type": "markdown",
      "metadata": {
        "id": "9ryckuSUhv4M"
      },
      "source": [
        "### Installation de `geopandas`"
      ]
    },
    {
      "cell_type": "code",
      "metadata": {
        "id": "V5L7CukSKYTc"
      },
      "source": [
        "pip install geopandas"
      ],
      "execution_count": null,
      "outputs": []
    },
    {
      "cell_type": "code",
      "metadata": {
        "id": "hrtqQGJ7KU7g"
      },
      "source": [
        "import geopandas as gpd\n",
        "import pandas as pd"
      ],
      "execution_count": 28,
      "outputs": []
    },
    {
      "cell_type": "markdown",
      "metadata": {
        "id": "hKnVW4Dth2jQ"
      },
      "source": [
        "### Lecture de la table `mutation`"
      ]
    },
    {
      "cell_type": "code",
      "metadata": {
        "id": "8Qkpw_VlKpSO"
      },
      "source": [
        "dossier_donnees = \"/content/drive/My Drive/projet_info_Ensae\""
      ],
      "execution_count": 26,
      "outputs": []
    },
    {
      "cell_type": "code",
      "metadata": {
        "id": "oSRShwz5R-Vz",
        "outputId": "3149b95c-19fe-4d10-9247-b3d49aa1535d",
        "colab": {
          "base_uri": "https://localhost:8080/"
        }
      },
      "source": [
        "mutation_geomlocmut = gpd.read_file(dossier_donnees + \"/mutation/r11_mutation_geomlocmut.shp\")\n",
        "mutation_geomlocmut = mutation_geomlocmut.rename(columns={\"IDMUTATION\" : \"idmutation\"})\n",
        "mutation_geomlocmut_wgs = mutation_geomlocmut.to_crs({'init' :'epsg:4326'}) \n",
        "\n",
        "mutation_brute = pd.read_csv(dossier_donnees + \"/mutation/r11_mutation.csv\")\n",
        "\n",
        "code_mutation_paris = list(mutation_brute[mutation_brute[\"coddep\"] == 75][\"idmutation\"])\n",
        "mutation_geomlocmut_wgs_paris = mutation_geomlocmut_wgs[mutation_geomlocmut_wgs[\"idmutation\"].isin(code_mutation_paris)]"
      ],
      "execution_count": 29,
      "outputs": [
        {
          "output_type": "stream",
          "text": [
            "/usr/local/lib/python3.6/dist-packages/pyproj/crs/crs.py:53: FutureWarning: '+init=<authority>:<code>' syntax is deprecated. '<authority>:<code>' is the preferred initialization method. When making the change, be mindful of axis order changes: https://pyproj4.github.io/pyproj/stable/gotchas.html#axis-order-changes-in-proj-6\n",
            "  return _prepare_from_string(\" \".join(pjargs))\n"
          ],
          "name": "stderr"
        }
      ]
    },
    {
      "cell_type": "markdown",
      "metadata": {
        "id": "21jnSMdzYMS6"
      },
      "source": [
        "### Lecture de la table `Filosofi`"
      ]
    },
    {
      "cell_type": "code",
      "metadata": {
        "id": "OCFkRgcgYPjQ"
      },
      "source": [
        "filosofi_paris = gpd.read_file(dossier_donnees + \"filosofi/filosofi_75.shp\")"
      ],
      "execution_count": 34,
      "outputs": []
    },
    {
      "cell_type": "code",
      "metadata": {
        "id": "CuYh8cuuKluH",
        "outputId": "804e7f31-e880-4bf3-b4a2-aeb5acdf2766",
        "colab": {
          "base_uri": "https://localhost:8080/"
        }
      },
      "source": [
        "filosofi_paris.columns"
      ],
      "execution_count": 211,
      "outputs": [
        {
          "output_type": "execute_result",
          "data": {
            "text/plain": [
              "Index(['IdINSPIRE', 'Id_carr1km', 'I_est_cr', 'Id_carr_n', 'Groupe', 'Depcom',\n",
              "       'I_pauv', 'Id_car2010', 'Ind', 'Men', 'Men_pauv', 'Men_1ind',\n",
              "       'Men_5ind', 'Men_prop', 'Men_fmp', 'Ind_snv', 'Men_surf', 'Men_coll',\n",
              "       'Men_mais', 'Log_av45', 'Log_45_70', 'Log_70_90', 'Log_ap90', 'Log_inc',\n",
              "       'Log_soc', 'Ind_0_3', 'Ind_4_5', 'Ind_6_10', 'Ind_11_17', 'Ind_18_24',\n",
              "       'Ind_25_39', 'Ind_40_54', 'Ind_55_64', 'Ind_65_79', 'Ind_80p',\n",
              "       'Ind_inc', 'I_est_1km', 'geometry'],\n",
              "      dtype='object')"
            ]
          },
          "metadata": {
            "tags": []
          },
          "execution_count": 211
        }
      ]
    },
    {
      "cell_type": "markdown",
      "metadata": {
        "id": "ehwdZFlaKPCD"
      },
      "source": [
        "## Préparation des données Filosofi"
      ]
    },
    {
      "cell_type": "code",
      "metadata": {
        "id": "u76kemkyKT8M"
      },
      "source": [
        "def recompute_data(filosofi, nom_var_zonage):\n",
        "    filosofi_copie = filosofi.copy(deep = True)\n",
        "    ind_par_zonage = filosofi_copie.filter(regex = \"(?i)(.*(\" + nom_var_zonage + \"|men|log|ind|geometry).*)\").groupby([nom_var_zonage]).sum() \n",
        "    #Compute proportion by age\n",
        "    ind_par_zonage.loc[:,\"Ind_0_3\":\"Ind_inc\"] = ind_par_zonage.loc[:,\"Ind_0_3\":\"Ind_inc\"].apply(lambda x : 100*x /ind_par_zonage[\"Ind\"])\n",
        "    #Compute statistics on \"logement\"        \n",
        "    nb_log = ind_par_zonage.loc[:, \"Log_av45\":\"Log_inc\"].apply(sum, axis = 1)\n",
        "    ind_par_zonage.loc[:, \"Log_av45\":\"Log_inc\"] = ind_par_zonage.loc[:, \"Log_av45\":\"Log_inc\"].apply(lambda x: 100*x/nb_log) #la lambda fonction est appliquée colonne par colonne\n",
        "    ind_par_zonage[\"Log_soc\"] = 100*ind_par_zonage[\"Log_soc\"]/nb_log\n",
        "    #Compute statistics on household\n",
        "    ind_par_zonage.loc[:, \"Men_pauv\":\"Men_fmp\"] = ind_par_zonage.loc[:, \"Men_pauv\":\"Men_fmp\"].apply(lambda x : 100*x / ind_par_zonage[\"Men\"])\n",
        "    ind_par_zonage.loc[:, \"Men_coll\":\"Men_mais\"] = ind_par_zonage.loc[:, \"Men_coll\":\"Men_mais\"].apply(lambda x : 100*x / ind_par_zonage[\"Men\"])\n",
        "    ind_par_zonage[\"nv_par_hab\"] = ind_par_zonage[\"Ind_snv\"]/ind_par_zonage[\"Ind\"]\n",
        "    ind_par_zonage[\"ind_par_zonage\"] = ind_par_zonage[\"Men_surf\"]/nb_log\n",
        "\n",
        "    #Dans le cas où on n'agrège pas --> on peut ajouter l'objet Point\n",
        "    if nom_var_zonage == \"IdINSPIRE\":\n",
        "      ind_par_zonage = ind_par_zonage.merge(filosofi_copie[[\"IdINSPIRE\", \"geometry\"]], on = \"IdINSPIRE\")\n",
        "      \n",
        "    return ind_par_zonage"
      ],
      "execution_count": 228,
      "outputs": []
    },
    {
      "cell_type": "code",
      "metadata": {
        "id": "BozRUsakKaa2"
      },
      "source": [
        "filosofi_recomputed = recompute_data(filosofi_paris, \"IdINSPIRE\")"
      ],
      "execution_count": 231,
      "outputs": []
    },
    {
      "cell_type": "markdown",
      "metadata": {
        "id": "yFgoQpZFWmo3"
      },
      "source": [
        "Association à chaque point d'un carreau\n"
      ]
    },
    {
      "cell_type": "code",
      "metadata": {
        "id": "qQ16PLTrWs3L"
      },
      "source": [
        "def is_point_in_poly(point, poly):\n",
        "    return point.intersects(poly)"
      ],
      "execution_count": 30,
      "outputs": []
    },
    {
      "cell_type": "code",
      "metadata": {
        "id": "OZlJtIi_X90H"
      },
      "source": [
        "#Get the index of the poly of the point\n",
        "#Return None if the point isn't in any polygon.\n",
        "def get_number_poly(row_point, polys):\n",
        "    point = row_point[\"geometry\"]\n",
        "    try: \n",
        "        index = list(map(lambda x : is_point_in_poly(point,x) , polys)).index(True)\n",
        "        res_d = {'idmutation' : row_point[\"idmutation\"], 'carreaux_index' : index, 'geometry' : point}\n",
        "    except ValueError:\n",
        "        res_d = {'idmutation' : row_point[\"idmutation\"], 'carreaux_index' : None, 'geometry' : point}\n",
        "    return res_d"
      ],
      "execution_count": 203,
      "outputs": []
    },
    {
      "cell_type": "code",
      "metadata": {
        "id": "ABN3IuMmAPga"
      },
      "source": [
        "#Tables points contient une table avec pour chaque point son idmutation (idmutation, geometry)\n",
        "#polys est une table contenant les carreaux ainsi que toutes les informations liées filosfi\n",
        "def add_information_to_points(tables_points, polys):\n",
        "  res_temp = tables_points.apply(lambda x : get_number_poly(x, polys[\"geometry\"]), axis = 1)\n",
        "  res_temp = gpd.GeoDataFrame(res_temp.to_list())\n",
        "  res = res_temp.merge(polys.drop(\"geometry\", axis = 1), left_on = \"carreaux_index\", right_index = True, how = \"left\")\n",
        "  return res"
      ],
      "execution_count": 235,
      "outputs": []
    },
    {
      "cell_type": "code",
      "metadata": {
        "id": "_AKme1nDNxUr",
        "outputId": "c4cde2a1-1e6a-450f-c0f2-630ee25217a5",
        "colab": {
          "base_uri": "https://localhost:8080/",
          "height": 779
        }
      },
      "source": [
        "add_information_to_points(test_100_pts,filosofi_recomputed)"
      ],
      "execution_count": 236,
      "outputs": [
        {
          "output_type": "execute_result",
          "data": {
            "text/html": [
              "<div>\n",
              "<style scoped>\n",
              "    .dataframe tbody tr th:only-of-type {\n",
              "        vertical-align: middle;\n",
              "    }\n",
              "\n",
              "    .dataframe tbody tr th {\n",
              "        vertical-align: top;\n",
              "    }\n",
              "\n",
              "    .dataframe thead th {\n",
              "        text-align: right;\n",
              "    }\n",
              "</style>\n",
              "<table border=\"1\" class=\"dataframe\">\n",
              "  <thead>\n",
              "    <tr style=\"text-align: right;\">\n",
              "      <th></th>\n",
              "      <th>idmutation</th>\n",
              "      <th>carreaux_index</th>\n",
              "      <th>geometry</th>\n",
              "      <th>IdINSPIRE</th>\n",
              "      <th>Ind</th>\n",
              "      <th>Men</th>\n",
              "      <th>Men_pauv</th>\n",
              "      <th>Men_1ind</th>\n",
              "      <th>Men_5ind</th>\n",
              "      <th>Men_prop</th>\n",
              "      <th>Men_fmp</th>\n",
              "      <th>Ind_snv</th>\n",
              "      <th>Men_surf</th>\n",
              "      <th>Men_coll</th>\n",
              "      <th>Men_mais</th>\n",
              "      <th>Log_av45</th>\n",
              "      <th>Log_45_70</th>\n",
              "      <th>Log_70_90</th>\n",
              "      <th>Log_ap90</th>\n",
              "      <th>Log_inc</th>\n",
              "      <th>Log_soc</th>\n",
              "      <th>Ind_0_3</th>\n",
              "      <th>Ind_4_5</th>\n",
              "      <th>Ind_6_10</th>\n",
              "      <th>Ind_11_17</th>\n",
              "      <th>Ind_18_24</th>\n",
              "      <th>Ind_25_39</th>\n",
              "      <th>Ind_40_54</th>\n",
              "      <th>Ind_55_64</th>\n",
              "      <th>Ind_65_79</th>\n",
              "      <th>Ind_80p</th>\n",
              "      <th>Ind_inc</th>\n",
              "      <th>nv_par_hab</th>\n",
              "      <th>ind_par_zonage</th>\n",
              "    </tr>\n",
              "  </thead>\n",
              "  <tbody>\n",
              "    <tr>\n",
              "      <th>0</th>\n",
              "      <td>5454034</td>\n",
              "      <td>1832.0</td>\n",
              "      <td>POINT (2.34927 48.89034)</td>\n",
              "      <td>CRS3035RES200mN2893200E3760800</td>\n",
              "      <td>2440.5</td>\n",
              "      <td>1421.0</td>\n",
              "      <td>17.030260</td>\n",
              "      <td>60.802252</td>\n",
              "      <td>3.377903</td>\n",
              "      <td>41.027445</td>\n",
              "      <td>6.403941</td>\n",
              "      <td>62500674.1</td>\n",
              "      <td>54967.0</td>\n",
              "      <td>99.648135</td>\n",
              "      <td>0.351865</td>\n",
              "      <td>91.062632</td>\n",
              "      <td>7.107671</td>\n",
              "      <td>0.914849</td>\n",
              "      <td>0.844476</td>\n",
              "      <td>0.070373</td>\n",
              "      <td>4.222379</td>\n",
              "      <td>4.548248</td>\n",
              "      <td>1.864372</td>\n",
              "      <td>3.298504</td>\n",
              "      <td>4.650686</td>\n",
              "      <td>4.056546</td>\n",
              "      <td>35.771358</td>\n",
              "      <td>21.798812</td>\n",
              "      <td>10.038926</td>\n",
              "      <td>9.014546</td>\n",
              "      <td>3.482893</td>\n",
              "      <td>1.475108</td>\n",
              "      <td>25609.782463</td>\n",
              "      <td>38.681914</td>\n",
              "    </tr>\n",
              "    <tr>\n",
              "      <th>1</th>\n",
              "      <td>5473270</td>\n",
              "      <td>917.0</td>\n",
              "      <td>POINT (2.34255 48.85683)</td>\n",
              "      <td>CRS3035RES200mN2889400E3760000</td>\n",
              "      <td>130.0</td>\n",
              "      <td>82.0</td>\n",
              "      <td>13.414634</td>\n",
              "      <td>57.317073</td>\n",
              "      <td>2.439024</td>\n",
              "      <td>40.243902</td>\n",
              "      <td>4.878049</td>\n",
              "      <td>6575081.4</td>\n",
              "      <td>5579.0</td>\n",
              "      <td>96.341463</td>\n",
              "      <td>3.658537</td>\n",
              "      <td>95.121951</td>\n",
              "      <td>0.000000</td>\n",
              "      <td>0.000000</td>\n",
              "      <td>4.878049</td>\n",
              "      <td>0.000000</td>\n",
              "      <td>0.000000</td>\n",
              "      <td>1.538462</td>\n",
              "      <td>1.538462</td>\n",
              "      <td>0.000000</td>\n",
              "      <td>4.615385</td>\n",
              "      <td>3.846154</td>\n",
              "      <td>19.230769</td>\n",
              "      <td>20.000000</td>\n",
              "      <td>9.230769</td>\n",
              "      <td>30.769231</td>\n",
              "      <td>8.461538</td>\n",
              "      <td>0.769231</td>\n",
              "      <td>50577.549231</td>\n",
              "      <td>68.036585</td>\n",
              "    </tr>\n",
              "    <tr>\n",
              "      <th>2</th>\n",
              "      <td>5183819</td>\n",
              "      <td>571.0</td>\n",
              "      <td>POINT (2.31513 48.84359)</td>\n",
              "      <td>CRS3035RES200mN2888200E3757800</td>\n",
              "      <td>1361.5</td>\n",
              "      <td>782.0</td>\n",
              "      <td>10.613811</td>\n",
              "      <td>55.882353</td>\n",
              "      <td>2.301790</td>\n",
              "      <td>44.245524</td>\n",
              "      <td>5.882353</td>\n",
              "      <td>51162449.6</td>\n",
              "      <td>38783.0</td>\n",
              "      <td>98.337596</td>\n",
              "      <td>1.662404</td>\n",
              "      <td>73.529412</td>\n",
              "      <td>8.823529</td>\n",
              "      <td>7.161125</td>\n",
              "      <td>10.358056</td>\n",
              "      <td>0.127877</td>\n",
              "      <td>6.393862</td>\n",
              "      <td>4.113111</td>\n",
              "      <td>1.395520</td>\n",
              "      <td>3.745869</td>\n",
              "      <td>4.810870</td>\n",
              "      <td>3.452075</td>\n",
              "      <td>32.317297</td>\n",
              "      <td>17.186926</td>\n",
              "      <td>12.192435</td>\n",
              "      <td>13.294161</td>\n",
              "      <td>5.361733</td>\n",
              "      <td>2.130004</td>\n",
              "      <td>37578.001910</td>\n",
              "      <td>49.594629</td>\n",
              "    </tr>\n",
              "    <tr>\n",
              "      <th>3</th>\n",
              "      <td>5186543</td>\n",
              "      <td>NaN</td>\n",
              "      <td>POINT (2.35657 48.89727)</td>\n",
              "      <td>NaN</td>\n",
              "      <td>NaN</td>\n",
              "      <td>NaN</td>\n",
              "      <td>NaN</td>\n",
              "      <td>NaN</td>\n",
              "      <td>NaN</td>\n",
              "      <td>NaN</td>\n",
              "      <td>NaN</td>\n",
              "      <td>NaN</td>\n",
              "      <td>NaN</td>\n",
              "      <td>NaN</td>\n",
              "      <td>NaN</td>\n",
              "      <td>NaN</td>\n",
              "      <td>NaN</td>\n",
              "      <td>NaN</td>\n",
              "      <td>NaN</td>\n",
              "      <td>NaN</td>\n",
              "      <td>NaN</td>\n",
              "      <td>NaN</td>\n",
              "      <td>NaN</td>\n",
              "      <td>NaN</td>\n",
              "      <td>NaN</td>\n",
              "      <td>NaN</td>\n",
              "      <td>NaN</td>\n",
              "      <td>NaN</td>\n",
              "      <td>NaN</td>\n",
              "      <td>NaN</td>\n",
              "      <td>NaN</td>\n",
              "      <td>NaN</td>\n",
              "      <td>NaN</td>\n",
              "      <td>NaN</td>\n",
              "    </tr>\n",
              "    <tr>\n",
              "      <th>4</th>\n",
              "      <td>5607633</td>\n",
              "      <td>978.0</td>\n",
              "      <td>POINT (2.36809 48.85908)</td>\n",
              "      <td>CRS3035RES200mN2889600E3761800</td>\n",
              "      <td>1238.5</td>\n",
              "      <td>634.0</td>\n",
              "      <td>12.618297</td>\n",
              "      <td>50.315457</td>\n",
              "      <td>5.362776</td>\n",
              "      <td>43.375394</td>\n",
              "      <td>7.886435</td>\n",
              "      <td>51394429.9</td>\n",
              "      <td>41016.0</td>\n",
              "      <td>98.580442</td>\n",
              "      <td>1.419558</td>\n",
              "      <td>75.078864</td>\n",
              "      <td>1.261830</td>\n",
              "      <td>18.138801</td>\n",
              "      <td>5.362776</td>\n",
              "      <td>0.157729</td>\n",
              "      <td>5.993691</td>\n",
              "      <td>4.400484</td>\n",
              "      <td>2.018571</td>\n",
              "      <td>5.773113</td>\n",
              "      <td>6.540170</td>\n",
              "      <td>3.593056</td>\n",
              "      <td>23.334679</td>\n",
              "      <td>22.527251</td>\n",
              "      <td>12.595882</td>\n",
              "      <td>11.626968</td>\n",
              "      <td>4.521599</td>\n",
              "      <td>3.068228</td>\n",
              "      <td>41497.319257</td>\n",
              "      <td>64.694006</td>\n",
              "    </tr>\n",
              "    <tr>\n",
              "      <th>...</th>\n",
              "      <td>...</td>\n",
              "      <td>...</td>\n",
              "      <td>...</td>\n",
              "      <td>...</td>\n",
              "      <td>...</td>\n",
              "      <td>...</td>\n",
              "      <td>...</td>\n",
              "      <td>...</td>\n",
              "      <td>...</td>\n",
              "      <td>...</td>\n",
              "      <td>...</td>\n",
              "      <td>...</td>\n",
              "      <td>...</td>\n",
              "      <td>...</td>\n",
              "      <td>...</td>\n",
              "      <td>...</td>\n",
              "      <td>...</td>\n",
              "      <td>...</td>\n",
              "      <td>...</td>\n",
              "      <td>...</td>\n",
              "      <td>...</td>\n",
              "      <td>...</td>\n",
              "      <td>...</td>\n",
              "      <td>...</td>\n",
              "      <td>...</td>\n",
              "      <td>...</td>\n",
              "      <td>...</td>\n",
              "      <td>...</td>\n",
              "      <td>...</td>\n",
              "      <td>...</td>\n",
              "      <td>...</td>\n",
              "      <td>...</td>\n",
              "      <td>...</td>\n",
              "      <td>...</td>\n",
              "    </tr>\n",
              "    <tr>\n",
              "      <th>95</th>\n",
              "      <td>5738514</td>\n",
              "      <td>1022.0</td>\n",
              "      <td>POINT (2.34781 48.86034)</td>\n",
              "      <td>CRS3035RES200mN2889800E3760400</td>\n",
              "      <td>1037.5</td>\n",
              "      <td>609.0</td>\n",
              "      <td>14.121511</td>\n",
              "      <td>57.142857</td>\n",
              "      <td>2.791461</td>\n",
              "      <td>32.512315</td>\n",
              "      <td>7.389163</td>\n",
              "      <td>37125360.8</td>\n",
              "      <td>28899.0</td>\n",
              "      <td>98.850575</td>\n",
              "      <td>1.149425</td>\n",
              "      <td>84.893268</td>\n",
              "      <td>0.000000</td>\n",
              "      <td>3.612479</td>\n",
              "      <td>11.330049</td>\n",
              "      <td>0.164204</td>\n",
              "      <td>10.837438</td>\n",
              "      <td>2.506024</td>\n",
              "      <td>1.060241</td>\n",
              "      <td>3.614458</td>\n",
              "      <td>4.963855</td>\n",
              "      <td>4.674699</td>\n",
              "      <td>31.036145</td>\n",
              "      <td>25.060241</td>\n",
              "      <td>11.373494</td>\n",
              "      <td>10.698795</td>\n",
              "      <td>2.506024</td>\n",
              "      <td>2.506024</td>\n",
              "      <td>35783.480289</td>\n",
              "      <td>47.453202</td>\n",
              "    </tr>\n",
              "    <tr>\n",
              "      <th>96</th>\n",
              "      <td>5316929</td>\n",
              "      <td>391.0</td>\n",
              "      <td>POINT (2.39342 48.84122)</td>\n",
              "      <td>CRS3035RES200mN2887400E3763600</td>\n",
              "      <td>1430.5</td>\n",
              "      <td>797.0</td>\n",
              "      <td>6.649937</td>\n",
              "      <td>51.568381</td>\n",
              "      <td>2.007528</td>\n",
              "      <td>58.469260</td>\n",
              "      <td>7.026349</td>\n",
              "      <td>54160784.9</td>\n",
              "      <td>45726.0</td>\n",
              "      <td>100.000000</td>\n",
              "      <td>0.000000</td>\n",
              "      <td>19.949812</td>\n",
              "      <td>36.135508</td>\n",
              "      <td>23.337516</td>\n",
              "      <td>20.326223</td>\n",
              "      <td>0.250941</td>\n",
              "      <td>0.000000</td>\n",
              "      <td>3.739951</td>\n",
              "      <td>2.446697</td>\n",
              "      <td>3.390423</td>\n",
              "      <td>4.998252</td>\n",
              "      <td>3.984621</td>\n",
              "      <td>22.160084</td>\n",
              "      <td>16.987067</td>\n",
              "      <td>9.297448</td>\n",
              "      <td>14.959804</td>\n",
              "      <td>16.148200</td>\n",
              "      <td>1.887452</td>\n",
              "      <td>37861.436491</td>\n",
              "      <td>57.372647</td>\n",
              "    </tr>\n",
              "    <tr>\n",
              "      <th>97</th>\n",
              "      <td>5859855</td>\n",
              "      <td>704.0</td>\n",
              "      <td>POINT (2.37400 48.85071)</td>\n",
              "      <td>CRS3035RES200mN2888600E3762200</td>\n",
              "      <td>1361.5</td>\n",
              "      <td>767.0</td>\n",
              "      <td>11.082138</td>\n",
              "      <td>53.846154</td>\n",
              "      <td>2.216428</td>\n",
              "      <td>33.898305</td>\n",
              "      <td>7.953064</td>\n",
              "      <td>46166669.2</td>\n",
              "      <td>37946.0</td>\n",
              "      <td>99.608866</td>\n",
              "      <td>0.391134</td>\n",
              "      <td>86.049544</td>\n",
              "      <td>0.130378</td>\n",
              "      <td>7.301173</td>\n",
              "      <td>6.127771</td>\n",
              "      <td>0.391134</td>\n",
              "      <td>11.473272</td>\n",
              "      <td>4.002938</td>\n",
              "      <td>1.542416</td>\n",
              "      <td>3.562248</td>\n",
              "      <td>4.333456</td>\n",
              "      <td>5.618803</td>\n",
              "      <td>33.565920</td>\n",
              "      <td>18.949688</td>\n",
              "      <td>11.825193</td>\n",
              "      <td>11.017260</td>\n",
              "      <td>3.011385</td>\n",
              "      <td>2.570694</td>\n",
              "      <td>33908.681014</td>\n",
              "      <td>49.473272</td>\n",
              "    </tr>\n",
              "    <tr>\n",
              "      <th>98</th>\n",
              "      <td>5334272</td>\n",
              "      <td>1584.0</td>\n",
              "      <td>POINT (2.34444 48.87881)</td>\n",
              "      <td>CRS3035RES200mN2892000E3760400</td>\n",
              "      <td>2171.5</td>\n",
              "      <td>1159.0</td>\n",
              "      <td>15.012942</td>\n",
              "      <td>51.423641</td>\n",
              "      <td>2.933563</td>\n",
              "      <td>44.176014</td>\n",
              "      <td>8.541846</td>\n",
              "      <td>77430552.8</td>\n",
              "      <td>61985.0</td>\n",
              "      <td>97.584124</td>\n",
              "      <td>2.415876</td>\n",
              "      <td>81.018119</td>\n",
              "      <td>5.435720</td>\n",
              "      <td>3.623814</td>\n",
              "      <td>9.922347</td>\n",
              "      <td>0.000000</td>\n",
              "      <td>4.486626</td>\n",
              "      <td>5.019572</td>\n",
              "      <td>2.371633</td>\n",
              "      <td>5.226802</td>\n",
              "      <td>4.121575</td>\n",
              "      <td>4.743265</td>\n",
              "      <td>31.913424</td>\n",
              "      <td>20.907207</td>\n",
              "      <td>9.900990</td>\n",
              "      <td>9.532581</td>\n",
              "      <td>4.144601</td>\n",
              "      <td>2.118351</td>\n",
              "      <td>35657.634262</td>\n",
              "      <td>53.481450</td>\n",
              "    </tr>\n",
              "    <tr>\n",
              "      <th>99</th>\n",
              "      <td>5475653</td>\n",
              "      <td>1376.0</td>\n",
              "      <td>POINT (2.32756 48.87206)</td>\n",
              "      <td>CRS3035RES200mN2891200E3759000</td>\n",
              "      <td>711.5</td>\n",
              "      <td>361.0</td>\n",
              "      <td>14.958449</td>\n",
              "      <td>48.753463</td>\n",
              "      <td>4.432133</td>\n",
              "      <td>38.227147</td>\n",
              "      <td>8.033241</td>\n",
              "      <td>29023857.8</td>\n",
              "      <td>24182.0</td>\n",
              "      <td>96.398892</td>\n",
              "      <td>3.601108</td>\n",
              "      <td>81.163435</td>\n",
              "      <td>2.770083</td>\n",
              "      <td>0.831025</td>\n",
              "      <td>14.681440</td>\n",
              "      <td>0.554017</td>\n",
              "      <td>2.770083</td>\n",
              "      <td>3.021785</td>\n",
              "      <td>1.475755</td>\n",
              "      <td>5.130007</td>\n",
              "      <td>7.730148</td>\n",
              "      <td>4.216444</td>\n",
              "      <td>24.174280</td>\n",
              "      <td>21.082221</td>\n",
              "      <td>14.054814</td>\n",
              "      <td>11.103303</td>\n",
              "      <td>4.778637</td>\n",
              "      <td>3.232607</td>\n",
              "      <td>40792.491637</td>\n",
              "      <td>66.986150</td>\n",
              "    </tr>\n",
              "  </tbody>\n",
              "</table>\n",
              "<p>100 rows × 34 columns</p>\n",
              "</div>"
            ],
            "text/plain": [
              "    idmutation  carreaux_index  ...    nv_par_hab ind_par_zonage\n",
              "0      5454034          1832.0  ...  25609.782463      38.681914\n",
              "1      5473270           917.0  ...  50577.549231      68.036585\n",
              "2      5183819           571.0  ...  37578.001910      49.594629\n",
              "3      5186543             NaN  ...           NaN            NaN\n",
              "4      5607633           978.0  ...  41497.319257      64.694006\n",
              "..         ...             ...  ...           ...            ...\n",
              "95     5738514          1022.0  ...  35783.480289      47.453202\n",
              "96     5316929           391.0  ...  37861.436491      57.372647\n",
              "97     5859855           704.0  ...  33908.681014      49.473272\n",
              "98     5334272          1584.0  ...  35657.634262      53.481450\n",
              "99     5475653          1376.0  ...  40792.491637      66.986150\n",
              "\n",
              "[100 rows x 34 columns]"
            ]
          },
          "metadata": {
            "tags": []
          },
          "execution_count": 236
        }
      ]
    },
    {
      "cell_type": "code",
      "metadata": {
        "id": "B_r49_DMOdo-"
      },
      "source": [
        "info_mut = add_information_to_points(mutation_geomlocmut_wgs_paris, filosofi_recomputed)"
      ],
      "execution_count": 240,
      "outputs": []
    },
    {
      "cell_type": "code",
      "metadata": {
        "id": "J3o-KJoEQJXy"
      },
      "source": [
        "info_mut.to_file(dossier_donnees + \"/mutation/r11_mutation_geomlocmut_with_filo.shp\")"
      ],
      "execution_count": 243,
      "outputs": []
    }
  ]
}