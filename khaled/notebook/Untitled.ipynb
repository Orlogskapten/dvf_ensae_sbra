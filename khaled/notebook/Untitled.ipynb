{
 "cells": [
  {
   "cell_type": "markdown",
   "metadata": {
    "toc": true
   },
   "source": [
    "<h1>Table of Contents<span class=\"tocSkip\"></span></h1>\n",
    "<div class=\"toc\"><ul class=\"toc-item\"><li><span><a href=\"#Récupération-des-données-sur-ville-ideale.fr\" data-toc-modified-id=\"Récupération-des-données-sur-ville-ideale.fr-1\"><span class=\"toc-item-num\">1&nbsp;&nbsp;</span>Récupération des données sur ville-ideale.fr</a></span></li></ul></div>"
   ]
  },
  {
   "cell_type": "markdown",
   "metadata": {},
   "source": [
    "# Récupération des données sur ville-ideale.fr"
   ]
  },
  {
   "cell_type": "code",
   "execution_count": 50,
   "metadata": {
    "ExecuteTime": {
     "end_time": "2020-10-23T11:17:02.990826Z",
     "start_time": "2020-10-23T11:16:57.550101Z"
    }
   },
   "outputs": [],
   "source": [
    "#Le but de ce code est de récupérer des informations sur\n",
    "from selenium.webdriver.common.keys import Keys\n",
    "from selenium import webdriver\n",
    "from selenium.webdriver.support.ui import WebDriverWait\n",
    "from selenium.webdriver.support import expected_conditions as EC\n",
    "from selenium.webdriver.common.by import By\n",
    "from selenium.common.exceptions import TimeoutException\n",
    "import time\n",
    "\n",
    "#Paramétrage de selenium\n",
    "\n",
    "driver = webdriver.Chrome(\"C:/Users/khale/Downloads/chromedriver.exe\")\n",
    "#Lien vers le site\n",
    "\n",
    "url = \"https://www.ville-ideale.fr/\"\n",
    "driver.get(url + \"villespardepts.php\")\n",
    "\n",
    "#Une fois la page ouvert, on ne demande si on veut bien que nos données soient stockés\n",
    "#On ne sait où ... Il faut pouvoir appuyer pour accéder au side :\n",
    "\n",
    "driver.find_element_by_xpath('//*[@id=\"cl-consent\"]/div[1]/div[1]/div[2]/a[2]').click()"
   ]
  },
  {
   "cell_type": "code",
   "execution_count": 52,
   "metadata": {
    "ExecuteTime": {
     "end_time": "2020-10-23T11:27:41.430347Z",
     "start_time": "2020-10-23T11:27:41.414323Z"
    }
   },
   "outputs": [],
   "source": [
    "liste_lien_arrond = [\"https://www.ville-ideale.fr/paris-\" + str(i) + \"er-arrondissement_751\" + str(i).zfill(2) + \"/\" for i in range(1,21)]"
   ]
  },
  {
   "cell_type": "code",
   "execution_count": 53,
   "metadata": {
    "ExecuteTime": {
     "end_time": "2020-10-23T11:27:45.953661Z",
     "start_time": "2020-10-23T11:27:45.510668Z"
    }
   },
   "outputs": [],
   "source": [
    "lien1 = driver.get(liste_lien_arrond[1])"
   ]
  }
 ],
 "metadata": {
  "kernelspec": {
   "display_name": "projet_2A",
   "language": "python",
   "name": "projet_2a"
  },
  "language_info": {
   "codemirror_mode": {
    "name": "ipython",
    "version": 3
   },
   "file_extension": ".py",
   "mimetype": "text/x-python",
   "name": "python",
   "nbconvert_exporter": "python",
   "pygments_lexer": "ipython3",
   "version": "3.8.5"
  },
  "latex_envs": {
   "LaTeX_envs_menu_present": true,
   "autoclose": false,
   "autocomplete": true,
   "bibliofile": "biblio.bib",
   "cite_by": "apalike",
   "current_citInitial": 1,
   "eqLabelWithNumbers": true,
   "eqNumInitial": 1,
   "hotkeys": {
    "equation": "Ctrl-E",
    "itemize": "Ctrl-I"
   },
   "labels_anchors": false,
   "latex_user_defs": false,
   "report_style_numbering": false,
   "user_envs_cfg": false
  },
  "toc": {
   "base_numbering": 1,
   "nav_menu": {},
   "number_sections": true,
   "sideBar": true,
   "skip_h1_title": false,
   "title_cell": "Table of Contents",
   "title_sidebar": "Contents",
   "toc_cell": true,
   "toc_position": {},
   "toc_section_display": true,
   "toc_window_display": false
  },
  "varInspector": {
   "cols": {
    "lenName": 16,
    "lenType": 16,
    "lenVar": 40
   },
   "kernels_config": {
    "python": {
     "delete_cmd_postfix": "",
     "delete_cmd_prefix": "del ",
     "library": "var_list.py",
     "varRefreshCmd": "print(var_dic_list())"
    },
    "r": {
     "delete_cmd_postfix": ") ",
     "delete_cmd_prefix": "rm(",
     "library": "var_list.r",
     "varRefreshCmd": "cat(var_dic_list()) "
    }
   },
   "types_to_exclude": [
    "module",
    "function",
    "builtin_function_or_method",
    "instance",
    "_Feature"
   ],
   "window_display": false
  }
 },
 "nbformat": 4,
 "nbformat_minor": 4
}
