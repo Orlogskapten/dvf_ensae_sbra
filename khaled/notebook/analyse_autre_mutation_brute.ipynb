{
 "cells": [
  {
   "cell_type": "markdown",
   "metadata": {},
   "source": [
    "# Analyse des tables autres que *mutation_brute*"
   ]
  },
  {
   "cell_type": "code",
   "execution_count": 30,
   "metadata": {},
   "outputs": [],
   "source": [
    "import geopandas as gpd\n",
    "import pandas as pd"
   ]
  },
  {
   "cell_type": "code",
   "execution_count": 1,
   "metadata": {},
   "outputs": [],
   "source": [
    "dossier_donnees = \"C:/Users/khale/OneDrive/Documents/Ensae/Python pour le data scientist/Projet/Immo/Données/r32/\""
   ]
  },
  {
   "cell_type": "code",
   "execution_count": 32,
   "metadata": {},
   "outputs": [],
   "source": [
    "mutation_brute = pd.read_csv(dossier_donnees + \"r32_mutation.csv\")"
   ]
  },
  {
   "cell_type": "markdown",
   "metadata": {},
   "source": [
    "#### Table *disposition_parcelle_geompar*"
   ]
  },
  {
   "cell_type": "markdown",
   "metadata": {},
   "source": [
    "La table *disposition_parcelle_geompar.shp* contient pour chaque disposition une parcelle. Dans cette table, il y a 916 276 dispositions. Il s'agit du fichier *shp* contenant le contour de chaque parcelle. Il semblerait que la variable *idmutation* permet de faire la jointure avec la table **mutation**."
   ]
  },
  {
   "cell_type": "code",
   "execution_count": 4,
   "metadata": {},
   "outputs": [],
   "source": [
    "disp_parcelle = gpd.read_file(dossier_donnees + \"r32_disposition_parcelle_geompar.shp\")"
   ]
  },
  {
   "cell_type": "code",
   "execution_count": 21,
   "metadata": {
    "collapsed": true,
    "jupyter": {
     "outputs_hidden": true
    }
   },
   "outputs": [
    {
     "data": {
      "text/html": [
       "<div>\n",
       "<style scoped>\n",
       "    .dataframe tbody tr th:only-of-type {\n",
       "        vertical-align: middle;\n",
       "    }\n",
       "\n",
       "    .dataframe tbody tr th {\n",
       "        vertical-align: top;\n",
       "    }\n",
       "\n",
       "    .dataframe thead th {\n",
       "        text-align: right;\n",
       "    }\n",
       "</style>\n",
       "<table border=\"1\" class=\"dataframe\">\n",
       "  <thead>\n",
       "    <tr style=\"text-align: right;\">\n",
       "      <th></th>\n",
       "      <th>IDMUTATION</th>\n",
       "      <th>geometry</th>\n",
       "    </tr>\n",
       "  </thead>\n",
       "  <tbody>\n",
       "    <tr>\n",
       "      <th>0</th>\n",
       "      <td>161637</td>\n",
       "      <td>POLYGON ((712070.977 6943434.860, 712203.626 6...</td>\n",
       "    </tr>\n",
       "    <tr>\n",
       "      <th>1</th>\n",
       "      <td>121549</td>\n",
       "      <td>POLYGON ((712184.048 6943583.089, 712201.630 6...</td>\n",
       "    </tr>\n",
       "    <tr>\n",
       "      <th>2</th>\n",
       "      <td>161637</td>\n",
       "      <td>POLYGON ((712113.937 6943514.893, 712071.261 6...</td>\n",
       "    </tr>\n",
       "    <tr>\n",
       "      <th>3</th>\n",
       "      <td>161637</td>\n",
       "      <td>POLYGON ((712239.149 6943667.133, 712290.422 6...</td>\n",
       "    </tr>\n",
       "    <tr>\n",
       "      <th>4</th>\n",
       "      <td>161637</td>\n",
       "      <td>POLYGON ((712184.048 6943583.089, 712149.518 6...</td>\n",
       "    </tr>\n",
       "  </tbody>\n",
       "</table>\n",
       "</div>"
      ],
      "text/plain": [
       "   IDMUTATION                                           geometry\n",
       "0      161637  POLYGON ((712070.977 6943434.860, 712203.626 6...\n",
       "1      121549  POLYGON ((712184.048 6943583.089, 712201.630 6...\n",
       "2      161637  POLYGON ((712113.937 6943514.893, 712071.261 6...\n",
       "3      161637  POLYGON ((712239.149 6943667.133, 712290.422 6...\n",
       "4      161637  POLYGON ((712184.048 6943583.089, 712149.518 6..."
      ]
     },
     "metadata": {},
     "output_type": "display_data"
    },
    {
     "name": "stdout",
     "output_type": "stream",
     "text": [
      "(916276, 2)\n"
     ]
    },
    {
     "data": {
      "text/plain": [
       "<Projected CRS: EPSG:2154>\n",
       "Name: RGF93 / Lambert-93\n",
       "Axis Info [cartesian]:\n",
       "- X[east]: Easting (metre)\n",
       "- Y[north]: Northing (metre)\n",
       "Area of Use:\n",
       "- name: France\n",
       "- bounds: (-9.86, 41.15, 10.38, 51.56)\n",
       "Coordinate Operation:\n",
       "- name: Lambert-93\n",
       "- method: Lambert Conic Conformal (2SP)\n",
       "Datum: Reseau Geodesique Francais 1993\n",
       "- Ellipsoid: GRS 1980\n",
       "- Prime Meridian: Greenwich"
      ]
     },
     "execution_count": 21,
     "metadata": {},
     "output_type": "execute_result"
    },
    {
     "data": {
      "image/png": "[encoded data removed]",
      "text/plain": [
       "<Figure size 432x288 with 1 Axes>"
      ]
     },
     "metadata": {
      "needs_background": "light"
     },
     "output_type": "display_data"
    }
   ],
   "source": [
    "display(disp_parcelle.head())\n",
    "disp_parcelle.head().plot()\n",
    "print(disp_parcelle.shape)\n",
    "disp_parcelle.crs #Récupération d'information sur le système de projection"
   ]
  },
  {
   "cell_type": "markdown",
   "metadata": {},
   "source": [
    "Les polygones mises à notre dispositions sont dans le référentiel de projection LAMBERT 93. Les cartes qu'on retrouve usuellement sur le net et se basant sur la lattitude et la longitude est dans le référentiel WGS84. Il est recommandé de passer dans ce référentiel pour pouvoir superposer des cartes (mais aussi récupérer la longitude et la lattitude du centre d'une parcelle par exemple)."
   ]
  },
  {
   "cell_type": "code",
   "execution_count": 9,
   "metadata": {
    "collapsed": true,
    "jupyter": {
     "outputs_hidden": true
    }
   },
   "outputs": [
    {
     "name": "stderr",
     "output_type": "stream",
     "text": [
      "C:\\Users\\khale\\anaconda3\\envs\\projet_2A\\lib\\site-packages\\pyproj\\crs\\crs.py:53: FutureWarning: '+init=<authority>:<code>' syntax is deprecated. '<authority>:<code>' is the preferred initialization method. When making the change, be mindful of axis order changes: https://pyproj4.github.io/pyproj/stable/gotchas.html#axis-order-changes-in-proj-6\n",
      "  return _prepare_from_string(\" \".join(pjargs))\n"
     ]
    }
   ],
   "source": [
    "disp_parcelle_wgs84 = disp_parcelle.to_crs({'init' :'epsg:4326'}) #epsg:4326 correspond à WGS84"
   ]
  },
  {
   "cell_type": "code",
   "execution_count": 19,
   "metadata": {},
   "outputs": [
    {
     "data": {
      "text/plain": [
       "<AxesSubplot:>"
      ]
     },
     "execution_count": 19,
     "metadata": {},
     "output_type": "execute_result"
    },
    {
     "data": {
      "image/png": "[encoded data removed]",
      "text/plain": [
       "<Figure size 432x288 with 1 Axes>"
      ]
     },
     "metadata": {
      "needs_background": "light"
     },
     "output_type": "display_data"
    }
   ],
   "source": [
    "disp_parcelle_wgs84.head().plot()"
   ]
  },
  {
   "cell_type": "markdown",
   "metadata": {},
   "source": [
    "Nombre de lignes correspondant à des IDMUTATION différents : "
   ]
  },
  {
   "cell_type": "code",
   "execution_count": 20,
   "metadata": {},
   "outputs": [
    {
     "data": {
      "text/plain": [
       "566129"
      ]
     },
     "execution_count": 20,
     "metadata": {},
     "output_type": "execute_result"
    }
   ],
   "source": [
    "len(disp_parcelle_wgs84[\"IDMUTATION\"].drop_duplicates())"
   ]
  },
  {
   "cell_type": "markdown",
   "metadata": {
    "jupyter": {
     "source_hidden": true
    }
   },
   "source": [
    "Affichage en ajoutant la carte de la région en fond"
   ]
  },
  {
   "cell_type": "markdown",
   "metadata": {},
   "source": [
    "##### Tentative de jointure avec la table mutation"
   ]
  },
  {
   "cell_type": "code",
   "execution_count": 82,
   "metadata": {},
   "outputs": [
    {
     "data": {
      "text/plain": [
       "True     566129\n",
       "False      3463\n",
       "Name: idmutation, dtype: int64"
      ]
     },
     "execution_count": 82,
     "metadata": {},
     "output_type": "execute_result"
    }
   ],
   "source": [
    "mutation_brute[\"idmutation\"].isin(disp_parcelle_wgs84[\"idmutation\"].drop_duplicates()).value_counts()"
   ]
  },
  {
   "cell_type": "markdown",
   "metadata": {},
   "source": [
    "On devrait ne pas pouvoir match que 3463 mutations."
   ]
  },
  {
   "cell_type": "code",
   "execution_count": 39,
   "metadata": {},
   "outputs": [],
   "source": [
    "disp_parcelle_wgs84 = disp_parcelle_wgs84.rename(columns = {\"IDMUTATION\" : \"idmutation\"})"
   ]
  },
  {
   "cell_type": "code",
   "execution_count": 77,
   "metadata": {},
   "outputs": [
    {
     "data": {
      "text/plain": [
       "0"
      ]
     },
     "execution_count": 77,
     "metadata": {},
     "output_type": "execute_result"
    }
   ],
   "source": [
    "len(disp_parcelle_wgs84[disp_parcelle_wgs84[\"geometry\"] == None]"
   ]
  },
  {
   "cell_type": "code",
   "execution_count": 54,
   "metadata": {},
   "outputs": [
    {
     "name": "stdout",
     "output_type": "stream",
     "text": [
      "569592\n",
      "916276\n"
     ]
    }
   ],
   "source": [
    "print(len(mutation_brute))\n",
    "print(len(disp_parcelle_wgs84))"
   ]
  },
  {
   "cell_type": "code",
   "execution_count": 79,
   "metadata": {},
   "outputs": [],
   "source": [
    "disp_parcelle_wgs84_uniq = disp_parcelle_wgs84.drop_duplicates(subset = \"idmutation\", keep = \"first\")"
   ]
  },
  {
   "cell_type": "code",
   "execution_count": 92,
   "metadata": {},
   "outputs": [
    {
     "data": {
      "text/plain": [
       "566129"
      ]
     },
     "execution_count": 92,
     "metadata": {},
     "output_type": "execute_result"
    }
   ],
   "source": [
    "fusion_mut_disp_unique = mutation_brute.merge(disp_parcelle_wgs84_uniq, on = \"idmutation\", how = \"inner\")\n",
    "len(fusion_mut_disp_unique)"
   ]
  },
  {
   "cell_type": "markdown",
   "metadata": {},
   "source": [
    "#### Table *disposition_parcelle_geomloc*"
   ]
  },
  {
   "cell_type": "markdown",
   "metadata": {},
   "source": [
    "Ce fichier contient les localisants pour chaque disposition (donc des points)."
   ]
  },
  {
   "cell_type": "code",
   "execution_count": 22,
   "metadata": {},
   "outputs": [],
   "source": [
    "disp_parcelle_geomloc = gpd.read_file(dossier_donnees + \"r32_disposition_parcelle_geomloc.shp\")"
   ]
  },
  {
   "cell_type": "code",
   "execution_count": 23,
   "metadata": {},
   "outputs": [
    {
     "data": {
      "text/plain": [
       "566129"
      ]
     },
     "execution_count": 23,
     "metadata": {},
     "output_type": "execute_result"
    }
   ],
   "source": [
    "len(disp_parcelle_geomloc[\"IDMUTATION\"].drop_duplicates())"
   ]
  },
  {
   "cell_type": "code",
   "execution_count": 28,
   "metadata": {},
   "outputs": [
    {
     "data": {
      "text/html": [
       "<div>\n",
       "<style scoped>\n",
       "    .dataframe tbody tr th:only-of-type {\n",
       "        vertical-align: middle;\n",
       "    }\n",
       "\n",
       "    .dataframe tbody tr th {\n",
       "        vertical-align: top;\n",
       "    }\n",
       "\n",
       "    .dataframe thead th {\n",
       "        text-align: right;\n",
       "    }\n",
       "</style>\n",
       "<table border=\"1\" class=\"dataframe\">\n",
       "  <thead>\n",
       "    <tr style=\"text-align: right;\">\n",
       "      <th></th>\n",
       "      <th>IDMUTATION</th>\n",
       "      <th>geometry</th>\n",
       "    </tr>\n",
       "  </thead>\n",
       "  <tbody>\n",
       "    <tr>\n",
       "      <th>0</th>\n",
       "      <td>161637</td>\n",
       "      <td>POINT (712129.227 6943465.466)</td>\n",
       "    </tr>\n",
       "    <tr>\n",
       "      <th>1</th>\n",
       "      <td>121549</td>\n",
       "      <td>POINT (712153.889 6943531.030)</td>\n",
       "    </tr>\n",
       "    <tr>\n",
       "      <th>2</th>\n",
       "      <td>161637</td>\n",
       "      <td>POINT (712084.402 6943513.674)</td>\n",
       "    </tr>\n",
       "    <tr>\n",
       "      <th>3</th>\n",
       "      <td>161637</td>\n",
       "      <td>POINT (712125.064 6943658.035)</td>\n",
       "    </tr>\n",
       "    <tr>\n",
       "      <th>4</th>\n",
       "      <td>161637</td>\n",
       "      <td>POINT (712214.675 6943590.728)</td>\n",
       "    </tr>\n",
       "  </tbody>\n",
       "</table>\n",
       "</div>"
      ],
      "text/plain": [
       "   IDMUTATION                        geometry\n",
       "0      161637  POINT (712129.227 6943465.466)\n",
       "1      121549  POINT (712153.889 6943531.030)\n",
       "2      161637  POINT (712084.402 6943513.674)\n",
       "3      161637  POINT (712125.064 6943658.035)\n",
       "4      161637  POINT (712214.675 6943590.728)"
      ]
     },
     "execution_count": 28,
     "metadata": {},
     "output_type": "execute_result"
    }
   ],
   "source": [
    "disp_parcelle_geomloc.head()"
   ]
  },
  {
   "cell_type": "markdown",
   "metadata": {},
   "source": [
    "#### Table *local_geomloc* : quelle est la différence entre cette table et la suivante ?"
   ]
  },
  {
   "cell_type": "code",
   "execution_count": 24,
   "metadata": {},
   "outputs": [],
   "source": [
    "local_geomloc = gpd.read_file(dossier_donnees + \"r32_local_geomloc.shp\")"
   ]
  },
  {
   "cell_type": "code",
   "execution_count": 26,
   "metadata": {},
   "outputs": [
    {
     "data": {
      "text/plain": [
       "(650263, 2)"
      ]
     },
     "execution_count": 26,
     "metadata": {},
     "output_type": "execute_result"
    }
   ],
   "source": [
    "local_geomloc.shape"
   ]
  },
  {
   "cell_type": "markdown",
   "metadata": {},
   "source": [
    "#### Table *mutation_geomlocmut*"
   ]
  },
  {
   "cell_type": "code",
   "execution_count": 11,
   "metadata": {},
   "outputs": [],
   "source": [
    "mutation_geomlocmut = gpd.read_file(dossier_donnees + \"r32_mutation_geomlocmut.shp\")"
   ]
  },
  {
   "cell_type": "code",
   "execution_count": 25,
   "metadata": {},
   "outputs": [
    {
     "data": {
      "text/plain": [
       "(442992, 2)"
      ]
     },
     "execution_count": 25,
     "metadata": {},
     "output_type": "execute_result"
    }
   ],
   "source": [
    "mutation_geomlocmut.shape"
   ]
  },
  {
   "cell_type": "code",
   "execution_count": 17,
   "metadata": {},
   "outputs": [
    {
     "data": {
      "text/html": [
       "<div>\n",
       "<style scoped>\n",
       "    .dataframe tbody tr th:only-of-type {\n",
       "        vertical-align: middle;\n",
       "    }\n",
       "\n",
       "    .dataframe tbody tr th {\n",
       "        vertical-align: top;\n",
       "    }\n",
       "\n",
       "    .dataframe thead th {\n",
       "        text-align: right;\n",
       "    }\n",
       "</style>\n",
       "<table border=\"1\" class=\"dataframe\">\n",
       "  <thead>\n",
       "    <tr style=\"text-align: right;\">\n",
       "      <th></th>\n",
       "      <th>IDMUTATION</th>\n",
       "      <th>geometry</th>\n",
       "    </tr>\n",
       "  </thead>\n",
       "  <tbody>\n",
       "    <tr>\n",
       "      <th>0</th>\n",
       "      <td>16615</td>\n",
       "      <td>POINT (729944.939 6883384.794)</td>\n",
       "    </tr>\n",
       "    <tr>\n",
       "      <th>1</th>\n",
       "      <td>43152</td>\n",
       "      <td>POINT (707194.458 6906112.211)</td>\n",
       "    </tr>\n",
       "    <tr>\n",
       "      <th>2</th>\n",
       "      <td>43609</td>\n",
       "      <td>POINT (743009.782 6939762.703)</td>\n",
       "    </tr>\n",
       "    <tr>\n",
       "      <th>3</th>\n",
       "      <td>43859</td>\n",
       "      <td>POINT (717426.922 6935429.674)</td>\n",
       "    </tr>\n",
       "    <tr>\n",
       "      <th>4</th>\n",
       "      <td>44900</td>\n",
       "      <td>POINT (744849.202 6940805.153)</td>\n",
       "    </tr>\n",
       "  </tbody>\n",
       "</table>\n",
       "</div>"
      ],
      "text/plain": [
       "   IDMUTATION                        geometry\n",
       "0       16615  POINT (729944.939 6883384.794)\n",
       "1       43152  POINT (707194.458 6906112.211)\n",
       "2       43609  POINT (743009.782 6939762.703)\n",
       "3       43859  POINT (717426.922 6935429.674)\n",
       "4       44900  POINT (744849.202 6940805.153)"
      ]
     },
     "metadata": {},
     "output_type": "display_data"
    },
    {
     "name": "stdout",
     "output_type": "stream",
     "text": [
      "(442992, 2)\n"
     ]
    },
    {
     "data": {
      "text/plain": [
       "442992"
      ]
     },
     "execution_count": 17,
     "metadata": {},
     "output_type": "execute_result"
    }
   ],
   "source": [
    "display(mutation_geomlocmut.head())\n",
    "print(mutation_geomlocmut.shape)\n",
    "len(mutation_geomlocmut[\"IDMUTATION\"].drop_duplicates())"
   ]
  },
  {
   "cell_type": "markdown",
   "metadata": {},
   "source": [
    "#### Table *geompar*"
   ]
  },
  {
   "cell_type": "code",
   "execution_count": null,
   "metadata": {},
   "outputs": [],
   "source": [
    "geompar = gpd.read_file(dossier_donnees + \"r32_mutation_geompar.shp\")"
   ]
  },
  {
   "cell_type": "code",
   "execution_count": null,
   "metadata": {},
   "outputs": [],
   "source": [
    "display(geompar.head())\n",
    "geompar.shape"
   ]
  },
  {
   "cell_type": "markdown",
   "metadata": {},
   "source": [
    "#### Table *geomparmut*"
   ]
  },
  {
   "cell_type": "code",
   "execution_count": null,
   "metadata": {},
   "outputs": [],
   "source": [
    "geomparmut = gpd.read_file(dossier_donnees + \"r32_mutation_geomparmut.shp\")"
   ]
  },
  {
   "cell_type": "code",
   "execution_count": null,
   "metadata": {},
   "outputs": [],
   "source": [
    "display(geomparmut.head())\n",
    "geomparmut.shape"
   ]
  }
 ],
 "metadata": {
  "kernelspec": {
   "display_name": "projet_2A",
   "language": "python",
   "name": "projet_2a"
  },
  "language_info": {
   "codemirror_mode": {
    "name": "ipython",
    "version": 3
   },
   "file_extension": ".py",
   "mimetype": "text/x-python",
   "name": "python",
   "nbconvert_exporter": "python",
   "pygments_lexer": "ipython3",
   "version": "3.8.5"
  }
 },
 "nbformat": 4,
 "nbformat_minor": 4
}
