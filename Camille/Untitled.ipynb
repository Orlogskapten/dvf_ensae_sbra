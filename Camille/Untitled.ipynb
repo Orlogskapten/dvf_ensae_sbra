{
 "cells": [
  {
   "cell_type": "markdown",
   "metadata": {
    "toc": true
   },
   "source": [
    "<h1>Table of Contents<span class=\"tocSkip\"></span></h1>\n",
    "<div class=\"toc\"><ul class=\"toc-item\"></ul></div>"
   ]
  },
  {
   "cell_type": "code",
   "execution_count": 2,
   "metadata": {},
   "outputs": [],
   "source": [
    "import pandas as pd\n",
    "import numpy as np\n",
    "from sklearn.preprocessing import StandardScaler\n",
    "from sklearn.linear_model import LassoCV\n",
    "from sklearn.feature_selection import SelectFromModel\n",
    "from sklearn.svm import SVR\n",
    "from sklearn.metrics import mean_squared_error"
   ]
  },
  {
   "cell_type": "code",
   "execution_count": 3,
   "metadata": {},
   "outputs": [],
   "source": [
    "data_train = pd.read_csv(\"C:/Users/pierr/OneDrive/Documents/Projet/Projet_python/dvf_ensae_sbra/good_data/donnees_model/donnees_train.csv\")\n",
    "data_test = pd.read_csv(\"C:/Users/pierr/OneDrive/Documents/Projet/Projet_python/dvf_ensae_sbra/good_data/donnees_model/donnees_test.csv\")\n",
    "data_valid = pd.read_csv(\"C:/Users/pierr/OneDrive/Documents/Projet/Projet_python/dvf_ensae_sbra/good_data/donnees_model/donnees_validation.csv\")"
   ]
  },
  {
   "cell_type": "code",
   "execution_count": 4,
   "metadata": {},
   "outputs": [],
   "source": [
    "data_train.drop([\"idmutation\", \"Ind\", \"sbati_squa\", \"datemut\", \"Unnamed: 0\"], axis='columns', inplace=True)\n",
    "data_test.drop([\"idmutation\", \"Ind\", \"sbati_squa\", \"datemut\", \"Unnamed: 0\"], axis='columns', inplace=True)\n",
    "data_valid.drop([\"idmutation\", \"Ind\", \"sbati_squa\", \"datemut\", \"Unnamed: 0\"], axis='columns', inplace=True)"
   ]
  },
  {
   "cell_type": "code",
   "execution_count": 11,
   "metadata": {},
   "outputs": [],
   "source": [
    "def rename_p_t_n(df, dico):\n",
    "    df.rename(columns= dico, inplace= True)\n",
    "    return df\n",
    "\n",
    " \n",
    "\n",
    "rename_dico= {\"valfoncact2\":\"valfoncact\"}\n",
    "data_train= rename_p_t_n(data_train, rename_dico)\n",
    "data_test= rename_p_t_n(data_test, rename_dico)\n",
    "data_valid= rename_p_t_n(data_valid, rename_dico)"
   ]
  },
  {
   "cell_type": "code",
   "execution_count": 15,
   "metadata": {},
   "outputs": [],
   "source": [
    "data_train = data_train[data_train[\"valfoncact\"] > 10000]\n",
    "data_train = data_train[data_train[\"valfoncact\"] < 3000000]\n",
    "data_test = data_test[data_test[\"valfoncact\"] > 10000]\n",
    "data_test = data_test[data_test[\"valfoncact\"] < 3000000]\n",
    "data_valid = data_valid[data_valid[\"valfoncact\"] > 10000]\n",
    "data_valid = data_valid[data_valid[\"valfoncact\"] < 3000000]"
   ]
  },
  {
   "cell_type": "code",
   "execution_count": 16,
   "metadata": {},
   "outputs": [],
   "source": [
    "Y = data_train.pop(\"valfoncact\")"
   ]
  },
  {
   "cell_type": "code",
   "execution_count": 17,
   "metadata": {},
   "outputs": [],
   "source": [
    "sc_X = StandardScaler()\n",
    "col = [i for i in data_train.columns]\n",
    "data_train[col] = sc_X.fit_transform(data_train[col])"
   ]
  },
  {
   "cell_type": "code",
   "execution_count": 20,
   "metadata": {},
   "outputs": [],
   "source": [
    "lasso= LassoCV()\n",
    "lasso.fit(data_train, Y)\n",
    "sf_lasso= SelectFromModel(lasso, prefit= True)"
   ]
  },
  {
   "cell_type": "code",
   "execution_count": 21,
   "metadata": {},
   "outputs": [
    {
     "name": "stdout",
     "output_type": "stream",
     "text": [
      "33\n",
      "Index(['nblot', 'nbpar', 'nblocmut', 'sbati', 'pp', 'Men', 'Men_pauv',\n",
      "       'Men_1ind', 'Men_prop', 'Men_fmp', 'Ind_snv', 'Log_av45', 'Log_45_70',\n",
      "       'Log_70_90', 'Log_soc', 'Ind_0_3', 'Ind_4_5', 'Ind_18_24', 'Ind_25_39',\n",
      "       'Ind_40_54', 'Ind_65_79', 'Ind_inc', 'ind_par_zo', 'nv_par_hab',\n",
      "       'ind_par__1', 'THEATRE', 'arrondissement', 'AUTRES_ALIM', 'AUTRES_SERV',\n",
      "       'CULTURE', 'ENS_PRI', 'MEDECIN', 'POLICE'],\n",
      "      dtype='object')\n"
     ]
    }
   ],
   "source": [
    "selected_variables= data_train.columns[(sf_lasso.get_support())]\n",
    "print(len(selected_variables))\n",
    "print(selected_variables)"
   ]
  },
  {
   "cell_type": "code",
   "execution_count": 22,
   "metadata": {},
   "outputs": [],
   "source": [
    "sc_Y = StandardScaler()\n",
    "Y = sc_Y.fit_transform(np.asarray(Y).reshape(-1,1))"
   ]
  },
  {
   "cell_type": "code",
   "execution_count": null,
   "metadata": {},
   "outputs": [
    {
     "name": "stderr",
     "output_type": "stream",
     "text": [
      "C:\\Users\\pierr\\anaconda3\\envs\\py37\\lib\\site-packages\\sklearn\\utils\\validation.py:72: DataConversionWarning: A column-vector y was passed when a 1d array was expected. Please change the shape of y to (n_samples, ), for example using ravel().\n",
      "  return f(**kwargs)\n"
     ]
    }
   ],
   "source": [
    "regressor = SVR(kernel='rbf')\n",
    "svr = regressor.fit(data_train[selected_variables],Y)"
   ]
  },
  {
   "cell_type": "code",
   "execution_count": null,
   "metadata": {},
   "outputs": [],
   "source": [
    "Yfit = svr.predict(data_train[selected_variables])"
   ]
  },
  {
   "cell_type": "code",
   "execution_count": null,
   "metadata": {},
   "outputs": [],
   "source": [
    "Y = sc_Y.inverse_transform(Y)\n",
    "Yfit = sc_Y.inverse_transform(Yfit)"
   ]
  },
  {
   "cell_type": "code",
   "execution_count": null,
   "metadata": {},
   "outputs": [],
   "source": [
    "Yfit"
   ]
  },
  {
   "cell_type": "code",
   "execution_count": null,
   "metadata": {},
   "outputs": [],
   "source": [
    "score = svr.score(data_train[selected_variables], Y)\n",
    "print(\"R-squared:\", score)\n"
   ]
  },
  {
   "cell_type": "code",
   "execution_count": null,
   "metadata": {},
   "outputs": [],
   "source": [
    "mse = mean_squared_error(Y, Yfit)\n",
    "rmse = mse**(1/2)"
   ]
  },
  {
   "cell_type": "code",
   "execution_count": null,
   "metadata": {},
   "outputs": [],
   "source": [
    "print(rmse)"
   ]
  },
  {
   "cell_type": "code",
   "execution_count": 161,
   "metadata": {},
   "outputs": [],
   "source": [
    "Ytest = data_test.pop(\"valfoncact\")"
   ]
  },
  {
   "cell_type": "code",
   "execution_count": 162,
   "metadata": {},
   "outputs": [],
   "source": [
    "data_test[col] = sc_X.fit_transform(data_test[col])\n",
    "Ytest = sc_Y.fit_transform(np.asarray(Ytest).reshape(-1,1))"
   ]
  },
  {
   "cell_type": "code",
   "execution_count": 164,
   "metadata": {},
   "outputs": [],
   "source": [
    "Yfit_test = svr.predict(data_test[selected_variables])"
   ]
  },
  {
   "cell_type": "code",
   "execution_count": 167,
   "metadata": {},
   "outputs": [],
   "source": [
    "Ytest = sc_Y.inverse_transform(Ytest)\n",
    "Yfit_test = sc_Y.inverse_transform(Yfit_test)"
   ]
  },
  {
   "cell_type": "code",
   "execution_count": 168,
   "metadata": {},
   "outputs": [],
   "source": [
    "mse_test = mean_squared_error(Ytest, Yfit)\n",
    "rmse_test = mse_test**(1/2)"
   ]
  },
  {
   "cell_type": "code",
   "execution_count": 169,
   "metadata": {},
   "outputs": [
    {
     "name": "stdout",
     "output_type": "stream",
     "text": [
      "318146.51498972945\n"
     ]
    }
   ],
   "source": [
    "print(rmse_test)"
   ]
  }
 ],
 "metadata": {
  "kernelspec": {
   "display_name": "Python 3",
   "language": "python",
   "name": "python3"
  },
  "language_info": {
   "codemirror_mode": {
    "name": "ipython",
    "version": 3
   },
   "file_extension": ".py",
   "mimetype": "text/x-python",
   "name": "python",
   "nbconvert_exporter": "python",
   "pygments_lexer": "ipython3",
   "version": "3.7.9"
  },
  "latex_envs": {
   "LaTeX_envs_menu_present": true,
   "autoclose": false,
   "autocomplete": true,
   "bibliofile": "biblio.bib",
   "cite_by": "apalike",
   "current_citInitial": 1,
   "eqLabelWithNumbers": true,
   "eqNumInitial": 1,
   "hotkeys": {
    "equation": "Ctrl-E",
    "itemize": "Ctrl-I"
   },
   "labels_anchors": false,
   "latex_user_defs": false,
   "report_style_numbering": false,
   "user_envs_cfg": false
  },
  "toc": {
   "base_numbering": 1,
   "nav_menu": {},
   "number_sections": true,
   "sideBar": true,
   "skip_h1_title": false,
   "title_cell": "Table of Contents",
   "title_sidebar": "Contents",
   "toc_cell": true,
   "toc_position": {},
   "toc_section_display": true,
   "toc_window_display": false
  },
  "varInspector": {
   "cols": {
    "lenName": 16,
    "lenType": 16,
    "lenVar": 40
   },
   "kernels_config": {
    "python": {
     "delete_cmd_postfix": "",
     "delete_cmd_prefix": "del ",
     "library": "var_list.py",
     "varRefreshCmd": "print(var_dic_list())"
    },
    "r": {
     "delete_cmd_postfix": ") ",
     "delete_cmd_prefix": "rm(",
     "library": "var_list.r",
     "varRefreshCmd": "cat(var_dic_list()) "
    }
   },
   "types_to_exclude": [
    "module",
    "function",
    "builtin_function_or_method",
    "instance",
    "_Feature"
   ],
   "window_display": false
  }
 },
 "nbformat": 4,
 "nbformat_minor": 4
}
