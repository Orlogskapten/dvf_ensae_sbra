{
 "cells": [
  {
   "cell_type": "markdown",
   "metadata": {
    "toc": true
   },
   "source": [
    "<h1>Table of Contents<span class=\"tocSkip\"></span></h1>\n",
    "<div class=\"toc\"><ul class=\"toc-item\"><li><span><a href=\"#Contrôle-de-la-qualité-des-datasets\" data-toc-modified-id=\"Contrôle-de-la-qualité-des-datasets-1\"><span class=\"toc-item-num\">1&nbsp;&nbsp;</span>Contrôle de la qualité des datasets</a></span></li><li><span><a href=\"#Sélection-des-features\" data-toc-modified-id=\"Sélection-des-features-2\"><span class=\"toc-item-num\">2&nbsp;&nbsp;</span>Sélection des features</a></span><ul class=\"toc-item\"><li><span><a href=\"#A-l'aide-d'un-LASSO\" data-toc-modified-id=\"A-l'aide-d'un-LASSO-2.1\"><span class=\"toc-item-num\">2.1&nbsp;&nbsp;</span>A l'aide d'un LASSO</a></span></li><li><span><a href=\"#A-l'aide-d'un-RandomForestRegressor-naif\" data-toc-modified-id=\"A-l'aide-d'un-RandomForestRegressor-naif-2.2\"><span class=\"toc-item-num\">2.2&nbsp;&nbsp;</span>A l'aide d'un RandomForestRegressor naif</a></span></li></ul></li><li><span><a href=\"#Développement-de-la-Pipeline-avec-XGBoost\" data-toc-modified-id=\"Développement-de-la-Pipeline-avec-XGBoost-3\"><span class=\"toc-item-num\">3&nbsp;&nbsp;</span>Développement de la Pipeline avec XGBoost</a></span></li></ul></div>"
   ]
  },
  {
   "cell_type": "code",
   "execution_count": 1,
   "metadata": {
    "ExecuteTime": {
     "end_time": "2020-12-05T11:55:28.091367Z",
     "start_time": "2020-12-05T11:55:24.772827Z"
    }
   },
   "outputs": [],
   "source": [
    "import pandas as pd\n",
    "import numpy as np\n",
    "import matplotlib.pyplot as plt\n",
    "import seaborn as sns\n",
    "sns.set()\n",
    "\n",
    "from sklearn.linear_model import LassoCV\n",
    "from sklearn.pipeline import Pipeline\n",
    "from sklearn.model_selection import GridSearchCV\n",
    "from sklearn.preprocessing import StandardScaler\n",
    "from sklearn.ensemble import RandomForestRegressor\n",
    "from sklearn.feature_selection import SelectFromModel\n",
    "\n",
    "import xgboost as xgb"
   ]
  },
  {
   "cell_type": "code",
   "execution_count": 2,
   "metadata": {
    "ExecuteTime": {
     "end_time": "2020-12-05T11:55:31.317276Z",
     "start_time": "2020-12-05T11:55:28.093360Z"
    }
   },
   "outputs": [],
   "source": [
    "train= pd.read_csv(\"../good_data/donnees_model/donnees_train.csv\")\n",
    "test= pd.read_csv(\"../good_data/donnees_model/donnees_test.csv\")\n",
    "valid= pd.read_csv(\"../good_data/donnees_model/donnees_validation.csv\")"
   ]
  },
  {
   "cell_type": "markdown",
   "metadata": {},
   "source": [
    "## Contrôle de la qualité des datasets"
   ]
  },
  {
   "cell_type": "code",
   "execution_count": 3,
   "metadata": {
    "ExecuteTime": {
     "end_time": "2020-12-05T11:55:31.332564Z",
     "start_time": "2020-12-05T11:55:31.321268Z"
    }
   },
   "outputs": [],
   "source": [
    "def dim_df(df):\n",
    "    return df.shape[0], df.shape[1]\n",
    "\n",
    "# Check we have the same number of col\n",
    "assert dim_df(train)[1] == dim_df(test)[1] == dim_df(valid)[1]"
   ]
  },
  {
   "cell_type": "code",
   "execution_count": 5,
   "metadata": {
    "ExecuteTime": {
     "end_time": "2020-12-05T11:55:31.823310Z",
     "start_time": "2020-12-05T11:55:31.382466Z"
    }
   },
   "outputs": [
    {
     "name": "stdout",
     "output_type": "stream",
     "text": [
      "On a 63 colonne à analyser\n"
     ]
    },
    {
     "data": {
      "text/html": [
       "<div>\n",
       "<style scoped>\n",
       "    .dataframe tbody tr th:only-of-type {\n",
       "        vertical-align: middle;\n",
       "    }\n",
       "\n",
       "    .dataframe tbody tr th {\n",
       "        vertical-align: top;\n",
       "    }\n",
       "\n",
       "    .dataframe thead th {\n",
       "        text-align: right;\n",
       "    }\n",
       "</style>\n",
       "<table border=\"1\" class=\"dataframe\">\n",
       "  <thead>\n",
       "    <tr style=\"text-align: right;\">\n",
       "      <th></th>\n",
       "      <th>Train</th>\n",
       "      <th>Test</th>\n",
       "      <th>Valid</th>\n",
       "    </tr>\n",
       "    <tr>\n",
       "      <th>col</th>\n",
       "      <th></th>\n",
       "      <th></th>\n",
       "      <th></th>\n",
       "    </tr>\n",
       "  </thead>\n",
       "  <tbody>\n",
       "    <tr>\n",
       "      <th>valeurfonc</th>\n",
       "      <td>4.939049e+05</td>\n",
       "      <td>4.984056e+05</td>\n",
       "      <td>4.869398e+05</td>\n",
       "    </tr>\n",
       "    <tr>\n",
       "      <th>nblot</th>\n",
       "      <td>1.899142e+00</td>\n",
       "      <td>1.895551e+00</td>\n",
       "      <td>1.891080e+00</td>\n",
       "    </tr>\n",
       "    <tr>\n",
       "      <th>nbpar</th>\n",
       "      <td>1.009435e+00</td>\n",
       "      <td>1.009370e+00</td>\n",
       "      <td>1.010445e+00</td>\n",
       "    </tr>\n",
       "    <tr>\n",
       "      <th>nblocmut</th>\n",
       "      <td>1.192953e+00</td>\n",
       "      <td>1.193393e+00</td>\n",
       "      <td>1.191668e+00</td>\n",
       "    </tr>\n",
       "    <tr>\n",
       "      <th>nblocdep</th>\n",
       "      <td>1.929526e-01</td>\n",
       "      <td>1.933932e-01</td>\n",
       "      <td>1.916682e-01</td>\n",
       "    </tr>\n",
       "    <tr>\n",
       "      <th>sbati</th>\n",
       "      <td>5.436308e+01</td>\n",
       "      <td>5.468331e+01</td>\n",
       "      <td>5.373132e+01</td>\n",
       "    </tr>\n",
       "    <tr>\n",
       "      <th>pp</th>\n",
       "      <td>2.380353e+00</td>\n",
       "      <td>2.385351e+00</td>\n",
       "      <td>2.358725e+00</td>\n",
       "    </tr>\n",
       "    <tr>\n",
       "      <th>Men</th>\n",
       "      <td>1.774630e+05</td>\n",
       "      <td>1.777653e+05</td>\n",
       "      <td>1.777340e+05</td>\n",
       "    </tr>\n",
       "    <tr>\n",
       "      <th>Men_pauv</th>\n",
       "      <td>2.468828e+00</td>\n",
       "      <td>2.540819e+00</td>\n",
       "      <td>2.486712e+00</td>\n",
       "    </tr>\n",
       "    <tr>\n",
       "      <th>Men_1ind</th>\n",
       "      <td>8.740615e+00</td>\n",
       "      <td>8.958761e+00</td>\n",
       "      <td>8.821950e+00</td>\n",
       "    </tr>\n",
       "    <tr>\n",
       "      <th>Men_5ind</th>\n",
       "      <td>1.014983e+00</td>\n",
       "      <td>1.018709e+00</td>\n",
       "      <td>1.001975e+00</td>\n",
       "    </tr>\n",
       "    <tr>\n",
       "      <th>Men_prop</th>\n",
       "      <td>6.917931e+00</td>\n",
       "      <td>7.101937e+00</td>\n",
       "      <td>6.909146e+00</td>\n",
       "    </tr>\n",
       "    <tr>\n",
       "      <th>Men_fmp</th>\n",
       "      <td>1.512252e+00</td>\n",
       "      <td>1.545853e+00</td>\n",
       "      <td>1.525286e+00</td>\n",
       "    </tr>\n",
       "    <tr>\n",
       "      <th>Ind_snv</th>\n",
       "      <td>1.082648e+10</td>\n",
       "      <td>1.086319e+10</td>\n",
       "      <td>1.083867e+10</td>\n",
       "    </tr>\n",
       "    <tr>\n",
       "      <th>Men_surf</th>\n",
       "      <td>9.115840e+06</td>\n",
       "      <td>9.139779e+06</td>\n",
       "      <td>9.132055e+06</td>\n",
       "    </tr>\n",
       "    <tr>\n",
       "      <th>Men_coll</th>\n",
       "      <td>1.732834e+01</td>\n",
       "      <td>1.771136e+01</td>\n",
       "      <td>1.743669e+01</td>\n",
       "    </tr>\n",
       "    <tr>\n",
       "      <th>Men_mais</th>\n",
       "      <td>6.719363e-01</td>\n",
       "      <td>6.797906e-01</td>\n",
       "      <td>6.332415e-01</td>\n",
       "    </tr>\n",
       "    <tr>\n",
       "      <th>Log_av45</th>\n",
       "      <td>6.505928e+01</td>\n",
       "      <td>6.537726e+01</td>\n",
       "      <td>6.505677e+01</td>\n",
       "    </tr>\n",
       "    <tr>\n",
       "      <th>Log_45_70</th>\n",
       "      <td>1.030284e+01</td>\n",
       "      <td>1.022934e+01</td>\n",
       "      <td>1.029812e+01</td>\n",
       "    </tr>\n",
       "    <tr>\n",
       "      <th>Log_70_90</th>\n",
       "      <td>1.059409e+01</td>\n",
       "      <td>1.044820e+01</td>\n",
       "      <td>1.068582e+01</td>\n",
       "    </tr>\n",
       "    <tr>\n",
       "      <th>Log_ap90</th>\n",
       "      <td>1.382482e+01</td>\n",
       "      <td>1.372484e+01</td>\n",
       "      <td>1.374237e+01</td>\n",
       "    </tr>\n",
       "    <tr>\n",
       "      <th>Log_inc</th>\n",
       "      <td>2.189620e-01</td>\n",
       "      <td>2.203584e-01</td>\n",
       "      <td>2.169230e-01</td>\n",
       "    </tr>\n",
       "    <tr>\n",
       "      <th>Log_soc</th>\n",
       "      <td>1.233079e+01</td>\n",
       "      <td>1.217912e+01</td>\n",
       "      <td>1.237486e+01</td>\n",
       "    </tr>\n",
       "    <tr>\n",
       "      <th>Ind_0_3</th>\n",
       "      <td>3.696493e-01</td>\n",
       "      <td>3.736994e-01</td>\n",
       "      <td>3.691311e-01</td>\n",
       "    </tr>\n",
       "    <tr>\n",
       "      <th>Ind_4_5</th>\n",
       "      <td>1.763708e-01</td>\n",
       "      <td>1.766312e-01</td>\n",
       "      <td>1.736857e-01</td>\n",
       "    </tr>\n",
       "    <tr>\n",
       "      <th>Ind_6_10</th>\n",
       "      <td>4.210466e-01</td>\n",
       "      <td>4.277947e-01</td>\n",
       "      <td>4.190837e-01</td>\n",
       "    </tr>\n",
       "    <tr>\n",
       "      <th>Ind_11_17</th>\n",
       "      <td>5.880883e-01</td>\n",
       "      <td>6.008004e-01</td>\n",
       "      <td>5.907953e-01</td>\n",
       "    </tr>\n",
       "    <tr>\n",
       "      <th>Ind_18_24</th>\n",
       "      <td>4.132975e-01</td>\n",
       "      <td>4.247298e-01</td>\n",
       "      <td>4.190622e-01</td>\n",
       "    </tr>\n",
       "    <tr>\n",
       "      <th>Ind_25_39</th>\n",
       "      <td>2.328315e+00</td>\n",
       "      <td>2.375892e+00</td>\n",
       "      <td>2.346013e+00</td>\n",
       "    </tr>\n",
       "    <tr>\n",
       "      <th>Ind_40_54</th>\n",
       "      <td>1.880569e+00</td>\n",
       "      <td>1.936931e+00</td>\n",
       "      <td>1.900091e+00</td>\n",
       "    </tr>\n",
       "    <tr>\n",
       "      <th>Ind_55_64</th>\n",
       "      <td>1.036822e+00</td>\n",
       "      <td>1.075500e+00</td>\n",
       "      <td>1.059904e+00</td>\n",
       "    </tr>\n",
       "    <tr>\n",
       "      <th>Ind_65_79</th>\n",
       "      <td>1.138208e+00</td>\n",
       "      <td>1.174641e+00</td>\n",
       "      <td>1.140365e+00</td>\n",
       "    </tr>\n",
       "    <tr>\n",
       "      <th>Ind_80p</th>\n",
       "      <td>4.984478e-01</td>\n",
       "      <td>5.177843e-01</td>\n",
       "      <td>5.089734e-01</td>\n",
       "    </tr>\n",
       "    <tr>\n",
       "      <th>Ind_inc</th>\n",
       "      <td>2.638262e-01</td>\n",
       "      <td>2.700482e-01</td>\n",
       "      <td>2.657325e-01</td>\n",
       "    </tr>\n",
       "    <tr>\n",
       "      <th>ind_par_zo</th>\n",
       "      <td>1.111734e+04</td>\n",
       "      <td>1.113891e+04</td>\n",
       "      <td>1.112030e+04</td>\n",
       "    </tr>\n",
       "    <tr>\n",
       "      <th>nv_par_hab</th>\n",
       "      <td>3.380797e+04</td>\n",
       "      <td>3.387449e+04</td>\n",
       "      <td>3.375442e+04</td>\n",
       "    </tr>\n",
       "    <tr>\n",
       "      <th>ind_par__1</th>\n",
       "      <td>4.054693e+02</td>\n",
       "      <td>4.051082e+02</td>\n",
       "      <td>4.059939e+02</td>\n",
       "    </tr>\n",
       "    <tr>\n",
       "      <th>MEDECIN GE</th>\n",
       "      <td>9.775829e+01</td>\n",
       "      <td>9.807672e+01</td>\n",
       "      <td>9.788171e+01</td>\n",
       "    </tr>\n",
       "    <tr>\n",
       "      <th>LYCEE GENE</th>\n",
       "      <td>3.289847e+02</td>\n",
       "      <td>3.293000e+02</td>\n",
       "      <td>3.293516e+02</td>\n",
       "    </tr>\n",
       "    <tr>\n",
       "      <th>PRIMAIRE</th>\n",
       "      <td>1.774804e+02</td>\n",
       "      <td>1.773072e+02</td>\n",
       "      <td>1.772162e+02</td>\n",
       "    </tr>\n",
       "    <tr>\n",
       "      <th>COLLEGE</th>\n",
       "      <td>2.939166e+02</td>\n",
       "      <td>2.932568e+02</td>\n",
       "      <td>2.924510e+02</td>\n",
       "    </tr>\n",
       "    <tr>\n",
       "      <th>MATERNELLE</th>\n",
       "      <td>2.226122e+02</td>\n",
       "      <td>2.216248e+02</td>\n",
       "      <td>2.228510e+02</td>\n",
       "    </tr>\n",
       "    <tr>\n",
       "      <th>COIFFURE</th>\n",
       "      <td>6.997408e+01</td>\n",
       "      <td>6.958713e+01</td>\n",
       "      <td>7.077109e+01</td>\n",
       "    </tr>\n",
       "    <tr>\n",
       "      <th>HYPERMARCH</th>\n",
       "      <td>1.189809e+03</td>\n",
       "      <td>1.192012e+03</td>\n",
       "      <td>1.190471e+03</td>\n",
       "    </tr>\n",
       "    <tr>\n",
       "      <th>GARAGE</th>\n",
       "      <td>1.534100e+02</td>\n",
       "      <td>1.536695e+02</td>\n",
       "      <td>1.535531e+02</td>\n",
       "    </tr>\n",
       "    <tr>\n",
       "      <th>BANQUE</th>\n",
       "      <td>1.306904e+02</td>\n",
       "      <td>1.309616e+02</td>\n",
       "      <td>1.318624e+02</td>\n",
       "    </tr>\n",
       "    <tr>\n",
       "      <th>RESTAURANT</th>\n",
       "      <td>3.803342e+01</td>\n",
       "      <td>3.779611e+01</td>\n",
       "      <td>3.830613e+01</td>\n",
       "    </tr>\n",
       "    <tr>\n",
       "      <th>LIBRARIE</th>\n",
       "      <td>1.126185e+02</td>\n",
       "      <td>1.126823e+02</td>\n",
       "      <td>1.132947e+02</td>\n",
       "    </tr>\n",
       "    <tr>\n",
       "      <th>EPICERIE</th>\n",
       "      <td>8.850990e+01</td>\n",
       "      <td>8.808486e+01</td>\n",
       "      <td>8.893842e+01</td>\n",
       "    </tr>\n",
       "    <tr>\n",
       "      <th>SUPERMARCH</th>\n",
       "      <td>1.565218e+02</td>\n",
       "      <td>1.553526e+02</td>\n",
       "      <td>1.568061e+02</td>\n",
       "    </tr>\n",
       "    <tr>\n",
       "      <th>PHARMACIE</th>\n",
       "      <td>1.110252e+02</td>\n",
       "      <td>1.105494e+02</td>\n",
       "      <td>1.120988e+02</td>\n",
       "    </tr>\n",
       "    <tr>\n",
       "      <th>PRESSING/L</th>\n",
       "      <td>1.065303e+02</td>\n",
       "      <td>1.063565e+02</td>\n",
       "      <td>1.075532e+02</td>\n",
       "    </tr>\n",
       "    <tr>\n",
       "      <th>POISONNERI</th>\n",
       "      <td>3.442457e+02</td>\n",
       "      <td>3.439142e+02</td>\n",
       "      <td>3.419521e+02</td>\n",
       "    </tr>\n",
       "    <tr>\n",
       "      <th>BOULANGERI</th>\n",
       "      <td>9.154984e+01</td>\n",
       "      <td>9.119868e+01</td>\n",
       "      <td>9.225619e+01</td>\n",
       "    </tr>\n",
       "    <tr>\n",
       "      <th>BOUCHERIE</th>\n",
       "      <td>1.559250e+02</td>\n",
       "      <td>1.554771e+02</td>\n",
       "      <td>1.563628e+02</td>\n",
       "    </tr>\n",
       "    <tr>\n",
       "      <th>SUPERETTE</th>\n",
       "      <td>2.093347e+02</td>\n",
       "      <td>2.089427e+02</td>\n",
       "      <td>2.097398e+02</td>\n",
       "    </tr>\n",
       "    <tr>\n",
       "      <th>POLICE</th>\n",
       "      <td>6.184267e+02</td>\n",
       "      <td>6.171036e+02</td>\n",
       "      <td>6.183027e+02</td>\n",
       "    </tr>\n",
       "    <tr>\n",
       "      <th>POSTE</th>\n",
       "      <td>2.441159e+02</td>\n",
       "      <td>2.433745e+02</td>\n",
       "      <td>2.449655e+02</td>\n",
       "    </tr>\n",
       "    <tr>\n",
       "      <th>CINE</th>\n",
       "      <td>6.830720e+02</td>\n",
       "      <td>6.846355e+02</td>\n",
       "      <td>6.857077e+02</td>\n",
       "    </tr>\n",
       "    <tr>\n",
       "      <th>BIBLIOTHEQ</th>\n",
       "      <td>4.899804e+02</td>\n",
       "      <td>4.871968e+02</td>\n",
       "      <td>4.898164e+02</td>\n",
       "    </tr>\n",
       "    <tr>\n",
       "      <th>MUSEE</th>\n",
       "      <td>1.067770e+03</td>\n",
       "      <td>1.071771e+03</td>\n",
       "      <td>1.067629e+03</td>\n",
       "    </tr>\n",
       "    <tr>\n",
       "      <th>CRECHE</th>\n",
       "      <td>1.638140e+02</td>\n",
       "      <td>1.617328e+02</td>\n",
       "      <td>1.630418e+02</td>\n",
       "    </tr>\n",
       "    <tr>\n",
       "      <th>THEATRE</th>\n",
       "      <td>4.989054e+02</td>\n",
       "      <td>4.974712e+02</td>\n",
       "      <td>4.972296e+02</td>\n",
       "    </tr>\n",
       "  </tbody>\n",
       "</table>\n",
       "</div>"
      ],
      "text/plain": [
       "                   Train          Test         Valid\n",
       "col                                                 \n",
       "valeurfonc  4.939049e+05  4.984056e+05  4.869398e+05\n",
       "nblot       1.899142e+00  1.895551e+00  1.891080e+00\n",
       "nbpar       1.009435e+00  1.009370e+00  1.010445e+00\n",
       "nblocmut    1.192953e+00  1.193393e+00  1.191668e+00\n",
       "nblocdep    1.929526e-01  1.933932e-01  1.916682e-01\n",
       "sbati       5.436308e+01  5.468331e+01  5.373132e+01\n",
       "pp          2.380353e+00  2.385351e+00  2.358725e+00\n",
       "Men         1.774630e+05  1.777653e+05  1.777340e+05\n",
       "Men_pauv    2.468828e+00  2.540819e+00  2.486712e+00\n",
       "Men_1ind    8.740615e+00  8.958761e+00  8.821950e+00\n",
       "Men_5ind    1.014983e+00  1.018709e+00  1.001975e+00\n",
       "Men_prop    6.917931e+00  7.101937e+00  6.909146e+00\n",
       "Men_fmp     1.512252e+00  1.545853e+00  1.525286e+00\n",
       "Ind_snv     1.082648e+10  1.086319e+10  1.083867e+10\n",
       "Men_surf    9.115840e+06  9.139779e+06  9.132055e+06\n",
       "Men_coll    1.732834e+01  1.771136e+01  1.743669e+01\n",
       "Men_mais    6.719363e-01  6.797906e-01  6.332415e-01\n",
       "Log_av45    6.505928e+01  6.537726e+01  6.505677e+01\n",
       "Log_45_70   1.030284e+01  1.022934e+01  1.029812e+01\n",
       "Log_70_90   1.059409e+01  1.044820e+01  1.068582e+01\n",
       "Log_ap90    1.382482e+01  1.372484e+01  1.374237e+01\n",
       "Log_inc     2.189620e-01  2.203584e-01  2.169230e-01\n",
       "Log_soc     1.233079e+01  1.217912e+01  1.237486e+01\n",
       "Ind_0_3     3.696493e-01  3.736994e-01  3.691311e-01\n",
       "Ind_4_5     1.763708e-01  1.766312e-01  1.736857e-01\n",
       "Ind_6_10    4.210466e-01  4.277947e-01  4.190837e-01\n",
       "Ind_11_17   5.880883e-01  6.008004e-01  5.907953e-01\n",
       "Ind_18_24   4.132975e-01  4.247298e-01  4.190622e-01\n",
       "Ind_25_39   2.328315e+00  2.375892e+00  2.346013e+00\n",
       "Ind_40_54   1.880569e+00  1.936931e+00  1.900091e+00\n",
       "Ind_55_64   1.036822e+00  1.075500e+00  1.059904e+00\n",
       "Ind_65_79   1.138208e+00  1.174641e+00  1.140365e+00\n",
       "Ind_80p     4.984478e-01  5.177843e-01  5.089734e-01\n",
       "Ind_inc     2.638262e-01  2.700482e-01  2.657325e-01\n",
       "ind_par_zo  1.111734e+04  1.113891e+04  1.112030e+04\n",
       "nv_par_hab  3.380797e+04  3.387449e+04  3.375442e+04\n",
       "ind_par__1  4.054693e+02  4.051082e+02  4.059939e+02\n",
       "MEDECIN GE  9.775829e+01  9.807672e+01  9.788171e+01\n",
       "LYCEE GENE  3.289847e+02  3.293000e+02  3.293516e+02\n",
       "PRIMAIRE    1.774804e+02  1.773072e+02  1.772162e+02\n",
       "COLLEGE     2.939166e+02  2.932568e+02  2.924510e+02\n",
       "MATERNELLE  2.226122e+02  2.216248e+02  2.228510e+02\n",
       "COIFFURE    6.997408e+01  6.958713e+01  7.077109e+01\n",
       "HYPERMARCH  1.189809e+03  1.192012e+03  1.190471e+03\n",
       "GARAGE      1.534100e+02  1.536695e+02  1.535531e+02\n",
       "BANQUE      1.306904e+02  1.309616e+02  1.318624e+02\n",
       "RESTAURANT  3.803342e+01  3.779611e+01  3.830613e+01\n",
       "LIBRARIE    1.126185e+02  1.126823e+02  1.132947e+02\n",
       "EPICERIE    8.850990e+01  8.808486e+01  8.893842e+01\n",
       "SUPERMARCH  1.565218e+02  1.553526e+02  1.568061e+02\n",
       "PHARMACIE   1.110252e+02  1.105494e+02  1.120988e+02\n",
       "PRESSING/L  1.065303e+02  1.063565e+02  1.075532e+02\n",
       "POISONNERI  3.442457e+02  3.439142e+02  3.419521e+02\n",
       "BOULANGERI  9.154984e+01  9.119868e+01  9.225619e+01\n",
       "BOUCHERIE   1.559250e+02  1.554771e+02  1.563628e+02\n",
       "SUPERETTE   2.093347e+02  2.089427e+02  2.097398e+02\n",
       "POLICE      6.184267e+02  6.171036e+02  6.183027e+02\n",
       "POSTE       2.441159e+02  2.433745e+02  2.449655e+02\n",
       "CINE        6.830720e+02  6.846355e+02  6.857077e+02\n",
       "BIBLIOTHEQ  4.899804e+02  4.871968e+02  4.898164e+02\n",
       "MUSEE       1.067770e+03  1.071771e+03  1.067629e+03\n",
       "CRECHE      1.638140e+02  1.617328e+02  1.630418e+02\n",
       "THEATRE     4.989054e+02  4.974712e+02  4.972296e+02"
      ]
     },
     "execution_count": 5,
     "metadata": {},
     "output_type": "execute_result"
    }
   ],
   "source": [
    "# To iterate dataset into for bound\n",
    "stock_dico= {\"train\": train, \"test\": test, \"valid\": valid}\n",
    "listed_index= [i for i in stock_dico.keys()]\n",
    "# Some column are useless \n",
    "useless_col= [\"Unnamed: 0\", \"idmutation\", \"FR\", \"Ind\", \"irl\", \"geometry\", \"arrondissement\", \"year\"\n",
    "             , \"valeurfo_1\", \"valeurfo_2\", \"valeurfo_3\", \"rate_cumpr\", \"IdINSPIRE\", \"datemut\"\n",
    "             , \"l_codinsee\", \"libtypbien\", \"valfoncact\", \"sbati_squa\"]\n",
    "\n",
    "not_object_col= [i for i in train.columns if train[i].dtypes != \"object\" and i not in useless_col]\n",
    "print(\"On a {} colonne à analyser\".format(len(not_object_col)))\n",
    "\n",
    "diff_df= pd.DataFrame()\n",
    "for i in not_object_col:\n",
    "    tr= train[i]\n",
    "    tt= test[i]\n",
    "    vl= valid[i]\n",
    "    \n",
    "    diff_mean_dico= pd.DataFrame({\"col\": i, \"Train\": [tr.mean()]\n",
    "                                  , \"Test\": [tt.mean()], \"Valid\":[vl.mean()]\n",
    "                                  })\n",
    "    diff_df= pd.concat([diff_df, diff_mean_dico])\n",
    "    \n",
    "pd.set_option('display.max_rows', None)\n",
    "diff_df.set_index(\"col\")"
   ]
  },
  {
   "cell_type": "markdown",
   "metadata": {},
   "source": [
    "On remarque que dans chacun de nos datasets, les moyennes semblent similaires (pas de ttest car c'est juste une étape de contrôle sachant que le split a été fait de manière aléatoire)"
   ]
  },
  {
   "cell_type": "markdown",
   "metadata": {},
   "source": [
    "## Sélection des features"
   ]
  },
  {
   "cell_type": "markdown",
   "metadata": {},
   "source": [
    "Avec l'enrichissement du dataset, on se retrouve avec plus de 70 variables pour modéliser la valeur foncière : c'est beaucoup. Alors pour éviter les problèmes d'overfitting et le temps de calcul excessif on va chercher à extraire les features les plus importantes de notre dataset."
   ]
  },
  {
   "cell_type": "markdown",
   "metadata": {},
   "source": [
    "### A l'aide d'un LASSO"
   ]
  },
  {
   "cell_type": "code",
   "execution_count": 6,
   "metadata": {
    "ExecuteTime": {
     "end_time": "2020-12-05T11:55:37.394025Z",
     "start_time": "2020-12-05T11:55:31.827266Z"
    }
   },
   "outputs": [],
   "source": [
    "train_good_data= train[train.columns[~train.columns.isin(useless_col)]].copy()\n",
    "train_label= train_good_data.pop(\"valeurfonc\")\n",
    "train_good_col= [i for i in train_good_data.columns]\n",
    "\n",
    "# Scale nos variables pour la feature select\n",
    "scaler_std= StandardScaler()\n",
    "train_good_data[train_good_col]= scaler_std.fit_transform(train_good_data[train_good_col])\n",
    "\n",
    "# Feature selection à l'aide d'un LASSO\n",
    "lasso= LassoCV()\n",
    "lasso.fit(train_good_data, train_label)\n",
    "sf_lasso= SelectFromModel(lasso, prefit= True)"
   ]
  },
  {
   "cell_type": "code",
   "execution_count": 7,
   "metadata": {
    "ExecuteTime": {
     "end_time": "2020-12-05T11:55:37.409496Z",
     "start_time": "2020-12-05T11:55:37.396020Z"
    }
   },
   "outputs": [
    {
     "name": "stdout",
     "output_type": "stream",
     "text": [
      "41\n",
      "Index(['nblot', 'nbpar', 'nblocmut', 'sbati', 'pp', 'Men', 'Men_5ind',\n",
      "       'Men_prop', 'Men_fmp', 'Ind_snv', 'Log_av45', 'Log_45_70', 'Log_70_90',\n",
      "       'Log_soc', 'Ind_0_3', 'Ind_4_5', 'Ind_6_10', 'Ind_40_54', 'Ind_55_64',\n",
      "       'Ind_65_79', 'Ind_inc', 'ind_par_zo', 'nv_par_hab', 'ind_par__1',\n",
      "       'MEDECIN GE', 'COLLEGE', 'MATERNELLE', 'GARAGE', 'BANQUE', 'RESTAURANT',\n",
      "       'EPICERIE', 'SUPERMARCH', 'PHARMACIE', 'POISONNERI', 'BOUCHERIE',\n",
      "       'SUPERETTE', 'POLICE', 'POSTE', 'MUSEE', 'CRECHE', 'THEATRE'],\n",
      "      dtype='object')\n"
     ]
    }
   ],
   "source": [
    "selected_feat_lasso= train_good_data.columns[(sf_lasso.get_support())]\n",
    "print(len(selected_feat_lasso))\n",
    "print(selected_feat_lasso)"
   ]
  },
  {
   "cell_type": "code",
   "execution_count": 10,
   "metadata": {
    "ExecuteTime": {
     "end_time": "2020-12-05T11:56:10.244414Z",
     "start_time": "2020-12-05T11:56:08.165535Z"
    }
   },
   "outputs": [
    {
     "data": {
      "image/png": "[encoded data removed]",
      "text/plain": [
       "<Figure size 1080x576 with 1 Axes>"
      ]
     },
     "metadata": {},
     "output_type": "display_data"
    }
   ],
   "source": [
    "importance_feature= np.abs(lasso.coef_)\n",
    "indices= np.argsort(importance_feature)[::-1]\n",
    "lasso_importance_col= train_good_data.iloc[:, indices.tolist()].columns\n",
    "\n",
    "plt.figure(figsize= (15, 8))\n",
    "\n",
    "plt.bar(range(train_good_data.shape[1]), importance_feature[indices],\n",
    "        color= \"orange\", align= \"center\")\n",
    "\n",
    "plt.xticks(range(train_good_data.shape[1]),  lasso_importance_col, rotation= \"vertical\")\n",
    "plt.xlim([-1, train_good_data.shape[1]])\n",
    "plt.title(\"Features les plus importantes (à l'aide des coefficients)\")\n",
    "plt.show()"
   ]
  },
  {
   "cell_type": "markdown",
   "metadata": {},
   "source": []
  },
  {
   "cell_type": "markdown",
   "metadata": {},
   "source": [
    "### A l'aide d'un RandomForestRegressor naif"
   ]
  },
  {
   "cell_type": "code",
   "execution_count": 11,
   "metadata": {
    "ExecuteTime": {
     "end_time": "2020-12-05T12:00:14.553153Z",
     "start_time": "2020-12-05T11:56:32.838737Z"
    }
   },
   "outputs": [
    {
     "name": "stderr",
     "output_type": "stream",
     "text": [
      "[Parallel(n_jobs=10)]: Using backend ThreadingBackend with 10 concurrent workers.\n",
      "[Parallel(n_jobs=10)]: Done  30 tasks      | elapsed:  1.2min\n",
      "[Parallel(n_jobs=10)]: Done 100 out of 100 | elapsed:  3.7min finished\n"
     ]
    }
   ],
   "source": [
    "# Feature selection à l'aide d'un RandomForest\n",
    "rf= RandomForestRegressor(verbose= 1, n_jobs= 10).fit(train_good_data, train_label)\n",
    "sf_rf= SelectFromModel(rf, prefit= True)"
   ]
  },
  {
   "cell_type": "code",
   "execution_count": 12,
   "metadata": {
    "ExecuteTime": {
     "end_time": "2020-12-05T12:00:14.691783Z",
     "start_time": "2020-12-05T12:00:14.557143Z"
    }
   },
   "outputs": [
    {
     "name": "stdout",
     "output_type": "stream",
     "text": [
      "5\n",
      "Index(['nblot', 'sbati', 'Ind_65_79', 'Ind_80p', 'nv_par_hab'], dtype='object')\n"
     ]
    }
   ],
   "source": [
    "selected_feat_rf= train_good_data.columns[(sf_rf.get_support())]\n",
    "print(len(selected_feat_rf))\n",
    "print(selected_feat_rf)"
   ]
  },
  {
   "cell_type": "code",
   "execution_count": 13,
   "metadata": {
    "ExecuteTime": {
     "end_time": "2020-12-05T12:00:14.984442Z",
     "start_time": "2020-12-05T12:00:14.697767Z"
    }
   },
   "outputs": [],
   "source": [
    "importance_feature= rf.feature_importances_\n",
    "std= np.std([i.feature_importances_ for i in rf.estimators_], axis=0)\n",
    "indices= np.argsort(importance_feature)[::-1]\n",
    "\n",
    "rf_importance_col= train_good_data.iloc[:, indices.tolist()].columns"
   ]
  },
  {
   "cell_type": "code",
   "execution_count": 14,
   "metadata": {
    "ExecuteTime": {
     "end_time": "2020-12-05T12:00:17.285921Z",
     "start_time": "2020-12-05T12:00:14.988389Z"
    }
   },
   "outputs": [
    {
     "data": {
      "image/png": "[encoded data removed]",
      "text/plain": [
       "<Figure size 1080x576 with 1 Axes>"
      ]
     },
     "metadata": {},
     "output_type": "display_data"
    }
   ],
   "source": [
    "plt.figure(figsize= (15, 8))\n",
    "\n",
    "plt.title(\"Feature importances\")\n",
    "plt.bar(range(train_good_data.shape[1]), importance_feature[indices],\n",
    "        color= \"orange\", yerr= std[indices], align= \"center\")\n",
    "plt.xticks(range(train_good_data.shape[1]),  rf_importance_col, rotation= \"vertical\")\n",
    "plt.xlim([-1, train_good_data.shape[1]])\n",
    "plt.show()"
   ]
  },
  {
   "cell_type": "markdown",
   "metadata": {},
   "source": []
  },
  {
   "cell_type": "markdown",
   "metadata": {},
   "source": [
    "## Développement de la Pipeline avec XGBoost"
   ]
  },
  {
   "cell_type": "code",
   "execution_count": null,
   "metadata": {
    "ExecuteTime": {
     "end_time": "2020-12-04T21:20:25.401374Z",
     "start_time": "2020-12-04T21:20:25.391401Z"
    }
   },
   "outputs": [],
   "source": [
    "xgb_regressor= xgb.XGBRegressor(eval_metric= \"mae\")\n",
    "\n",
    "pipeline= Pipeline([\n",
    "    ('standard_scaler', StandardScaler()),\n",
    "    ('model', xgb_regressor)\n",
    "])"
   ]
  },
  {
   "cell_type": "code",
   "execution_count": null,
   "metadata": {},
   "outputs": [],
   "source": []
  },
  {
   "cell_type": "code",
   "execution_count": null,
   "metadata": {},
   "outputs": [],
   "source": []
  },
  {
   "cell_type": "code",
   "execution_count": null,
   "metadata": {},
   "outputs": [],
   "source": []
  },
  {
   "cell_type": "code",
   "execution_count": null,
   "metadata": {},
   "outputs": [],
   "source": []
  },
  {
   "cell_type": "code",
   "execution_count": null,
   "metadata": {},
   "outputs": [],
   "source": []
  }
 ],
 "metadata": {
  "kernelspec": {
   "display_name": "Python 3",
   "language": "python",
   "name": "python3"
  },
  "language_info": {
   "codemirror_mode": {
    "name": "ipython",
    "version": 3
   },
   "file_extension": ".py",
   "mimetype": "text/x-python",
   "name": "python",
   "nbconvert_exporter": "python",
   "pygments_lexer": "ipython3",
   "version": "3.7.7"
  },
  "latex_envs": {
   "LaTeX_envs_menu_present": true,
   "autoclose": false,
   "autocomplete": true,
   "bibliofile": "biblio.bib",
   "cite_by": "apalike",
   "current_citInitial": 1,
   "eqLabelWithNumbers": true,
   "eqNumInitial": 1,
   "hotkeys": {
    "equation": "Ctrl-E",
    "itemize": "Ctrl-I"
   },
   "labels_anchors": false,
   "latex_user_defs": false,
   "report_style_numbering": false,
   "user_envs_cfg": false
  },
  "toc": {
   "base_numbering": 1,
   "nav_menu": {},
   "number_sections": true,
   "sideBar": true,
   "skip_h1_title": false,
   "title_cell": "Table of Contents",
   "title_sidebar": "Contents",
   "toc_cell": true,
   "toc_position": {},
   "toc_section_display": true,
   "toc_window_display": false
  }
 },
 "nbformat": 4,
 "nbformat_minor": 4
}
