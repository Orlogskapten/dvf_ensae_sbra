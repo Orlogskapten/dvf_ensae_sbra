{
 "cells": [
  {
   "cell_type": "markdown",
   "metadata": {
    "id": "l6XuyoK5GnXS"
   },
   "source": [
    "# Prédiction à l'aide de forêts aléatoires"
   ]
  },
  {
   "cell_type": "markdown",
   "metadata": {
    "id": "SIOtacAZIH2F"
   },
   "source": [
    "Les forêts aléatoires sont des modèles de bagging ne nécessitant pas beaucoup de *fine tuning* pour obtenir des performances correctes. De plus, ces méthodes sont plus résitances au surapprentissage par rapport à d'autres méthodes."
   ]
  },
  {
   "cell_type": "code",
   "execution_count": 1,
   "metadata": {
    "colab": {
     "base_uri": "https://localhost:8080/"
    },
    "id": "CinwfMv7Ejc7",
    "outputId": "b71a1cab-dbf6-45cb-e474-836b248585ca"
   },
   "outputs": [
    {
     "name": "stdout",
     "output_type": "stream",
     "text": [
      "Mounted at /content/drive\n"
     ]
    }
   ],
   "source": [
    "from google.colab import drive\n",
    "drive.mount('/content/drive')"
   ]
  },
  {
   "cell_type": "code",
   "execution_count": 2,
   "metadata": {
    "id": "jcO0HgPcGNND"
   },
   "outputs": [],
   "source": [
    "dossier_donnees = \"/content/drive/My Drive/projet_info_Ensae\""
   ]
  },
  {
   "cell_type": "code",
   "execution_count": 3,
   "metadata": {
    "id": "Ct4fa2UFGNxm"
   },
   "outputs": [],
   "source": [
    "import pandas as pd\n",
    "from sklearn.ensemble import RandomForestRegressor\n",
    "from sklearn.model_selection import RandomizedSearchCV\n",
    "from sklearn import metrics\n",
    "from sklearn.model_selection import GridSearchCV\n",
    "import numpy as np"
   ]
  },
  {
   "cell_type": "markdown",
   "metadata": {
    "id": "cUk86R6nzkkI"
   },
   "source": [
    "## Lecture des données de train et validation"
   ]
  },
  {
   "cell_type": "code",
   "execution_count": 4,
   "metadata": {
    "id": "yCit_SmvGWMU"
   },
   "outputs": [],
   "source": [
    "donnees = pd.read_csv(dossier_donnees + \"/donnees_model/donnees_train.csv\", index_col = 0)"
   ]
  },
  {
   "cell_type": "code",
   "execution_count": 5,
   "metadata": {
    "id": "7-6wl5wPf878"
   },
   "outputs": [],
   "source": [
    "donnees_validation =  pd.read_csv(dossier_donnees + \"/donnees_model/donnees_validation.csv\", index_col = 0)"
   ]
  },
  {
   "cell_type": "markdown",
   "metadata": {
    "id": "u_MDmU0tzoyy"
   },
   "source": [
    "On va faire quelques petites modifications sur les donnees : \n",
    "- Les variables `arrondissement`, `pp`, `mois` vont être considérées comme variable catégorielle\n",
    "- Les variables `datemut` vont être supprimées\n",
    "- La variable `sbati_squa` est retirée en suivant les recommandations de Maître Wenceslas Sanchez."
   ]
  },
  {
   "cell_type": "code",
   "execution_count": 6,
   "metadata": {
    "id": "BT60pVQzHgWu"
   },
   "outputs": [],
   "source": [
    "donnees[\"arrondissement\"] = donnees[\"arrondissement\"].astype(\"object\")\n",
    "\n",
    "donnees[\"pp\"] = donnees[\"pp\"].astype(\"object\")\n",
    "\n",
    "donnees[\"mois\"] = donnees[\"datemut\"].str[5:7].astype(\"object\")\n",
    "\n",
    "donnees_train = donnees.drop(columns = [\"nblot\", \"nbpar\", \"nblocmut\", \"nblocdep\",\"datemut\",\"sbati_squa\"])\n"
   ]
  },
  {
   "cell_type": "code",
   "execution_count": 7,
   "metadata": {
    "id": "nzLd6Ytugnth"
   },
   "outputs": [],
   "source": [
    "donnees_validation[\"arrondissement\"] = donnees_validation[\"arrondissement\"].astype(\"object\")\n",
    "\n",
    "donnees_validation[\"pp\"] = donnees_validation[\"pp\"].astype(\"object\")\n",
    "\n",
    "donnees_validation[\"mois\"] = donnees_validation[\"datemut\"].str[5:7].astype(\"object\")\n",
    "\n",
    "donnees_validation.drop(columns = [\"nblot\", \"nbpar\", \"nblocmut\", \"nblocdep\",\"datemut\",\"sbati_squa\"], inplace = True)"
   ]
  },
  {
   "cell_type": "code",
   "execution_count": 8,
   "metadata": {
    "id": "pmzsLTZmiDbb"
   },
   "outputs": [],
   "source": [
    "donnees_train.rename(columns = {\"valfoncact2\" : \"valfoncact\"}, inplace = True)\n",
    "donnees_validation.rename(columns = {\"valfoncact2\" : \"valfoncact\"}, inplace = True)"
   ]
  },
  {
   "cell_type": "code",
   "execution_count": 9,
   "metadata": {
    "id": "QS3jB2Ify8w9"
   },
   "outputs": [],
   "source": [
    "def preparation(table):\n",
    "  #Restriction à certains biens\n",
    "  table = table[(table[\"valfoncact\"] > 1e5) & (table[\"valfoncact\"] < 3*(1e6))]\n",
    "  #Ajout données brut\n",
    "  men_brut = table.loc[:, \"Men\":\"Men_mais\"].apply(lambda x : x*table[\"Men\"], axis = 0).add_suffix(\"_brut\")\n",
    "  ind_brut = table.loc[:, \"Ind_0_3\":\"Ind_80p\"].apply(lambda x : x*table[\"Ind\"], axis = 0).add_suffix(\"_brut\")\n",
    "  table = pd.concat([table, men_brut, ind_brut],axis = 1)\n",
    "  table_X = table.drop(columns = [\"valfoncact\"]).to_numpy()\n",
    "  table_Y = table[\"valfoncact\"].to_numpy()\n",
    "  return(table_X,table_Y)"
   ]
  },
  {
   "cell_type": "code",
   "execution_count": 10,
   "metadata": {
    "id": "6bUKlgOj0C41"
   },
   "outputs": [],
   "source": [
    "donnees_validation_prep_X,donnees_validation_prep_Y = preparation(donnees_validation)\n",
    "donnees_train_prep_X,donnees_train_prep_Y = preparation(donnees_train)"
   ]
  },
  {
   "cell_type": "markdown",
   "metadata": {
    "id": "AMua3Xiwf3bk"
   },
   "source": [
    "## Modélisation\n"
   ]
  },
  {
   "cell_type": "code",
   "execution_count": null,
   "metadata": {
    "id": "79QDsnoYHiJB"
   },
   "outputs": [],
   "source": [
    "rf = RandomForestRegressor(random_state=42,n_jobs = -1)"
   ]
  },
  {
   "cell_type": "markdown",
   "metadata": {
    "id": "Qn1pm3vZ2eqo"
   },
   "source": [
    "Pour le choix du nombre de variables testés à chaque split, Breiman [2000] recommande qu'utiliser dans les problèmes de régression $\\sqrt{p}$ comme valeur où p désigne le nombre de covariables. Ici $p$ vaut 67. On prendra donc $p = 8$ ainsi que $6$ et $16$.\n",
    "\n",
    "Le nombre d'arbres (`n_estimators`) n'est *a priori* pas le critère le plus déterminant dans la performance des forêts aléatoires au delà d'un certain seuil. Nous essayons ici des valeurs *conventionnelles*.\n",
    "\n",
    "Pour contrôler la profondeur des feuilles de chaque arbre CART, nous utilisons le nombre d'individus minimums dans chaque feuille de l'arbre. Plus il est grand, plus l'arbre sera petit. Notons que les arbres ne sont pas élagués ici."
   ]
  },
  {
   "cell_type": "code",
   "execution_count": null,
   "metadata": {
    "id": "rFyV1VTC1Vy-"
   },
   "outputs": [],
   "source": [
    "param_grid = { \n",
    "    'n_estimators': [100,200,500,1000],\n",
    "    'max_features': [6,8,16],\n",
    "    'min_samples_leaf' : [1,2,5,10]\n",
    "}"
   ]
  },
  {
   "cell_type": "code",
   "execution_count": null,
   "metadata": {
    "id": "GC8cGxuLYK34"
   },
   "outputs": [],
   "source": [
    "rf_grid_search = GridSearchCV(estimator = rf, param_grid = param_grid,cv = 3, verbose=2, n_jobs = -1)"
   ]
  },
  {
   "cell_type": "code",
   "execution_count": null,
   "metadata": {
    "colab": {
     "base_uri": "https://localhost:8080/"
    },
    "id": "RG1hxp1PIHMU",
    "outputId": "b1e526d0-480a-4862-edab-d275b46735ad"
   },
   "outputs": [
    {
     "name": "stdout",
     "output_type": "stream",
     "text": [
      "Fitting 3 folds for each of 48 candidates, totalling 144 fits\n"
     ]
    },
    {
     "name": "stderr",
     "output_type": "stream",
     "text": [
      "[Parallel(n_jobs=-1)]: Using backend LokyBackend with 2 concurrent workers.\n",
      "/usr/local/lib/python3.6/dist-packages/joblib/externals/loky/process_executor.py:691: UserWarning: A worker stopped while some jobs were given to the executor. This can be caused by a too short worker timeout or by a memory leak.\n",
      "  \"timeout or by a memory leak.\", UserWarning\n",
      "[Parallel(n_jobs=-1)]: Done  37 tasks      | elapsed: 62.9min\n",
      "[Parallel(n_jobs=-1)]: Done 144 out of 144 | elapsed: 396.5min finished\n"
     ]
    },
    {
     "name": "stdout",
     "output_type": "stream",
     "text": [
      "{'max_features': 16, 'min_samples_leaf': 2, 'n_estimators': 1000}\n"
     ]
    }
   ],
   "source": [
    "rf_grid_search.fit(donnees_train_prep_X, donnees_train_prep_Y)\n",
    "print(rf_grid_search.best_params_)"
   ]
  },
  {
   "cell_type": "code",
   "execution_count": 11,
   "metadata": {
    "id": "HJl_n4GE5wkC"
   },
   "outputs": [],
   "source": [
    "rf2 = RandomForestRegressor(random_state=42,n_jobs = -1, max_features = 16, min_samples_leaf= 2, n_estimators= 1000)"
   ]
  },
  {
   "cell_type": "code",
   "execution_count": 12,
   "metadata": {
    "colab": {
     "base_uri": "https://localhost:8080/"
    },
    "id": "UEpWE3EQ52nK",
    "outputId": "686fbd8d-22cf-4fce-d5ab-7249812512a6"
   },
   "outputs": [
    {
     "data": {
      "text/plain": [
       "RandomForestRegressor(bootstrap=True, ccp_alpha=0.0, criterion='mse',\n",
       "                      max_depth=None, max_features=16, max_leaf_nodes=None,\n",
       "                      max_samples=None, min_impurity_decrease=0.0,\n",
       "                      min_impurity_split=None, min_samples_leaf=2,\n",
       "                      min_samples_split=2, min_weight_fraction_leaf=0.0,\n",
       "                      n_estimators=1000, n_jobs=-1, oob_score=False,\n",
       "                      random_state=42, verbose=0, warm_start=False)"
      ]
     },
     "execution_count": 12,
     "metadata": {
      "tags": []
     },
     "output_type": "execute_result"
    }
   ],
   "source": [
    "rf2.fit(donnees_train_prep_X,donnees_train_prep_Y)"
   ]
  },
  {
   "cell_type": "code",
   "execution_count": 13,
   "metadata": {
    "id": "MtVoaonN-pER"
   },
   "outputs": [],
   "source": [
    "pred = rf2.predict(donnees_validation_prep_X)"
   ]
  },
  {
   "cell_type": "code",
   "execution_count": 14,
   "metadata": {
    "colab": {
     "base_uri": "https://localhost:8080/"
    },
    "id": "Ge-LgOi5--5t",
    "outputId": "87cc4141-208c-4db2-b3bf-c059502af5aa"
   },
   "outputs": [
    {
     "data": {
      "text/plain": [
       "143186.4335950077"
      ]
     },
     "execution_count": 14,
     "metadata": {
      "tags": []
     },
     "output_type": "execute_result"
    }
   ],
   "source": [
    "np.sqrt(metrics.mean_squared_error(donnees_validation_prep_Y,pred))"
   ]
  },
  {
   "cell_type": "code",
   "execution_count": null,
   "metadata": {
    "id": "Xrqoo5zDzTTY"
   },
   "outputs": [],
   "source": [
    "import pickle"
   ]
  },
  {
   "cell_type": "code",
   "execution_count": null,
   "metadata": {
    "id": "mcxTxpZezvQ8"
   },
   "outputs": [],
   "source": [
    "filename = 'final_random_forest.sav'\n",
    "pickle.dump(rf2, open(filename, 'wb'))"
   ]
  }
 ],
 "metadata": {
  "colab": {
   "collapsed_sections": [
    "NfMCm_jfgNz5"
   ],
   "name": "Untitled5.ipynb",
   "provenance": []
  },
  "kernelspec": {
   "display_name": "Python 3",
   "language": "python",
   "name": "python3"
  },
  "language_info": {
   "codemirror_mode": {
    "name": "ipython",
    "version": 3
   },
   "file_extension": ".py",
   "mimetype": "text/x-python",
   "name": "python",
   "nbconvert_exporter": "python",
   "pygments_lexer": "ipython3",
   "version": "3.8.3"
  }
 },
 "nbformat": 4,
 "nbformat_minor": 1
}
