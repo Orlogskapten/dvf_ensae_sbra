{
 "cells": [
  {
   "cell_type": "markdown",
   "metadata": {},
   "source": [
    "# Prédiction de la valeur foncière d'un bien immobilier à Paris"
   ]
  },
  {
   "cell_type": "markdown",
   "metadata": {},
   "source": [
    "Dans ce projet, nous avons pour but de prédire la valeur foncière d'un bien immobilier à Paris. Pour ce faire, nous allons utiliser des données disponibles en opendata sur deux sites et nous allons faire du scraping pour obtenir une autre base de données."
   ]
  },
  {
   "cell_type": "markdown",
   "metadata": {},
   "source": [
    "### Récuperation de la base de données DVF"
   ]
  },
  {
   "cell_type": "markdown",
   "metadata": {},
   "source": [
    "Tout d'abord, nous avons récupéré la base de données que nous nommerons \"DVF\" sur le site disponible [ici](https://cerema.app.box.com/v/dvfplus-opendata). Ce site contient de nombreuses bases de données contenant des informations sur des mutations de biens immobiliers (tel que la date de la vente, le type du bien, sa localisation ect...). Les bases de données que nous avons récupérées sont uniquement celles concernant les mutations à Paris. Nous avons ensuite dû concaténer toutes les bases de données récupérées.\n",
    "Voici le [notebook](../notebook/extraction_merging.ipynb) dans lequel ces étapes ont été réalisées."
   ]
  },
  {
   "cell_type": "markdown",
   "metadata": {},
   "source": [
    "### Analyse de la base de données DVF"
   ]
  },
  {
   "cell_type": "markdown",
   "metadata": {},
   "source": [
    "Ensuite, nous avons analysé cette base de donnée. Avec une première analyse sur le type du bien et la nature de la mutation, nous avons décidé de ne garder que les observations concernant les **ventes** de **maisons** ou d'**appartements**. \n",
    "\n",
    "Nous avons alors étudier les variables. Nous nous sommes rendus compte que certaines variables prenaient très souvent la même valeur. Nous avons décidé de supprimer ces variables. Puis, nous avons étudié les valeurs manquantes de la variable concernant la valeur foncière. Leur fréquence étant très faible, nous avons décidé de les enlever du dataset. Après analyse des variables restantes, nous nous sommes rendu compte que la moyenne des valeurs foncières par année est en croissance de 2016 à 2019. Cette évolution temporelle est un problème car notre objectif étant la prédiction, nos modèles risquent d'avoir des problèmes s'il doit prédire la valeur d'un bien en 2020 ou plus tard. Il faudra donc trouver une solution pour enlever cette tendance. Enfin nous avons étudié les corrélations entre nos variables.\n",
    "\n",
    "Nous avons ensuite pris en main les différents datasets geopandas en les concaténant et en faisant une rapide analyse.\n",
    "\n",
    "Toutes ces étapes se trouve [ici](../notebook/analysis_and_treat.ipynb)"
   ]
  },
  {
   "cell_type": "markdown",
   "metadata": {},
   "source": [
    "### Webscraping de ville-idéale"
   ]
  },
  {
   "cell_type": "markdown",
   "metadata": {},
   "source": [
    "[ville-idéale](https://www.ville-ideale.fr/) est un site internet sur lequel des internautes peuvent noter leur quartier sur plusieurs critères (santé, culture, sécurité...). Nous avons trouvé intéressant d'utiliser ses données pour de la visualisation. C'est pourquoi nous avons fait du webscraping pour récupérer les données pour les quartiers de Paris.\n",
    "\n",
    "Ce webscraping est effectué dans ce [script](../script/ville_ideale_scraping.py)"
   ]
  },
  {
   "cell_type": "markdown",
   "metadata": {},
   "source": [
    "### Récupération et analyse de la base de données Filosofi"
   ]
  },
  {
   "cell_type": "markdown",
   "metadata": {},
   "source": [
    "Nous nous sommes alors penchés sur une autre base de données : Filosofi. Cette base de données est en opendata sur le [site](https://www.insee.fr/fr/statistiques/4176290?sommaire=4176305) de l'INSEE. Elle est notamment constituée d'indicateur de niveau de vie, d'inégalité et de pauvreté. Nous avons uniquement récupéré les données pour Paris. Il s'agit d'un échelle carroyée de 200 mètres.\n",
    "\n",
    "Nous avons analysé cette table dans sa globalité puis par carreaux.\n",
    "\n",
    "Le notebook correspondant est [ici](../notebook/analyse_filosofi.ipynb)."
   ]
  },
  {
   "cell_type": "markdown",
   "metadata": {},
   "source": [
    "### Lien entre la position d'un bien dans la base DVF et le carreau auquel il appartient dans la base Filosofi"
   ]
  },
  {
   "cell_type": "markdown",
   "metadata": {},
   "source": [
    "Il a ensuite fallu associer à chaque mutation de la base DVF un carreau associé de la base Filosofi. Ceci permet de faire la jointure entres les deux tables.\n",
    "\n",
    "Voici le [notebook](../notebook/jointure_mutation_filosofi.ipynb) associé."
   ]
  },
  {
   "cell_type": "markdown",
   "metadata": {},
   "source": [
    "### Récupération et utilisation de la base de données BPE"
   ]
  },
  {
   "cell_type": "markdown",
   "metadata": {},
   "source": [
    "La base BPE (base permanente des équipements) contient des informations sur le niveau d'équipements et de services rendus à la population sur un territoire. Il est disponible sur le [site](https://www.insee.fr/fr/statistiques/3568656) de l'INSEE. Il y a plus de 130 types d'équipements. Nous nous sommes évidemment restreints aux données parisiennes. Nous avons utilisé ces données pour calculer la distance de l'équipement le plus proche, pour chaque mutation et pour chaque type d'équipements. Nous avons retirés des équipements (qui semblaient peu influant dans le prix d'un bien immobilier) et fait des regroupements d'équipements.\n",
    "\n",
    "Ces étapes sont disponibles dans ce [notebook](../notebook/localisation_service_bpe.ipynb)"
   ]
  },
  {
   "cell_type": "markdown",
   "metadata": {},
   "source": [
    "### Analyse et mise en forme avant la modélisation"
   ]
  },
  {
   "cell_type": "markdown",
   "metadata": {},
   "source": [
    "Nous avons maintenant une base de données fusionnant des informations des quatres bases de données citées précédemment.\n",
    "\n",
    "Nous avons alors essayé de corriger l'inflation. Pour ce faire, nous avons fait deux hypothèses :  \n",
    "- la variation de la moyenne annuelle du prix des biens immobiliers à Paris est uniquement due à l'inflation.\n",
    "- la moyenne annuelle de la valeur foncière est linéaire par rapport à l'année de la mutation entre 2014 et 2016 ainsi qu'entre 2016 et 2019\n",
    "\n",
    "Nous avons alors pu corriger cette inflation.\n",
    "\n",
    "Nous nous sommes ensuite penchés sur les valeurs manquantes provenant des deux dernières bases de données (Filosofi et BPE). Là encore, les observations avec des données manquantes étant très rares, nous avons décidé de les supprimer.\n",
    "\n",
    "Puis, nous avons étudié les valeurs extrêmes de nos variables. Nous avons notamment remarqué que les maisons représentaient une grande part des valeurs extrêmes supérieures de la valeur foncière. De plus, c'est une très faible proportion de nos données. Nous avons donc à cette étape décidé de ne garder que les **appartements**.\n",
    "\n",
    "Enfin, nous avons fait le découpage de notre base de données en trois : sous-ensemble d'entraînement (60%), sous-ensemble de test (20%) et sous-ensemble de validation (20%).\n",
    "\n",
    "Le notebook correspondant est [ici](../notebook/analyse_mise_en_forme_avant_modelisation.ipynb)."
   ]
  },
  {
   "cell_type": "markdown",
   "metadata": {},
   "source": [
    "### Modélisation"
   ]
  },
  {
   "cell_type": "markdown",
   "metadata": {},
   "source": [
    "#### SVR (support vector regression)"
   ]
  },
  {
   "cell_type": "markdown",
   "metadata": {},
   "source": [
    "#### Forêt aléatoire"
   ]
  },
  {
   "cell_type": "markdown",
   "metadata": {},
   "source": [
    "#### XGBoost"
   ]
  }
 ],
 "metadata": {
  "kernelspec": {
   "display_name": "Python 3",
   "language": "python",
   "name": "python3"
  },
  "language_info": {
   "codemirror_mode": {
    "name": "ipython",
    "version": 3
   },
   "file_extension": ".py",
   "mimetype": "text/x-python",
   "name": "python",
   "nbconvert_exporter": "python",
   "pygments_lexer": "ipython3",
   "version": "3.7.9"
  }
 },
 "nbformat": 4,
 "nbformat_minor": 4
}
