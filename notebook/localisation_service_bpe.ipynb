{
 "cells": [
  {
   "cell_type": "markdown",
   "metadata": {
    "toc": true
   },
   "source": [
    "<h1>Table of Contents<span class=\"tocSkip\"></span></h1>\n",
    "<div class=\"toc\"><ul class=\"toc-item\"><li><span><a href=\"#Localisation-des-services-les-plus-proches-d'un-bien-immobilier\" data-toc-modified-id=\"Localisation-des-services-les-plus-proches-d'un-bien-immobilier-1\"><span class=\"toc-item-num\">1&nbsp;&nbsp;</span>Localisation des services les plus proches d'un bien immobilier</a></span><ul class=\"toc-item\"><li><span><a href=\"#La-base-BPE\" data-toc-modified-id=\"La-base-BPE-1.1\"><span class=\"toc-item-num\">1.1&nbsp;&nbsp;</span>La base BPE</a></span><ul class=\"toc-item\"><li><span><a href=\"#Présentation-de-la-base\" data-toc-modified-id=\"Présentation-de-la-base-1.1.1\"><span class=\"toc-item-num\">1.1.1&nbsp;&nbsp;</span>Présentation de la base</a></span></li><li><span><a href=\"#Choix-des-modalités-retenues-et-des-regroupements-effectués\" data-toc-modified-id=\"Choix-des-modalités-retenues-et-des-regroupements-effectués-1.1.2\"><span class=\"toc-item-num\">1.1.2&nbsp;&nbsp;</span>Choix des modalités retenues et des regroupements effectués</a></span></li></ul></li><li><span><a href=\"#Calcul-de-la-distance-aux-services-le-plus-proches\" data-toc-modified-id=\"Calcul-de-la-distance-aux-services-le-plus-proches-1.2\"><span class=\"toc-item-num\">1.2&nbsp;&nbsp;</span>Calcul de la distance aux services le plus proches</a></span><ul class=\"toc-item\"><li><span><a href=\"#Lecture-des-données\" data-toc-modified-id=\"Lecture-des-données-1.2.1\"><span class=\"toc-item-num\">1.2.1&nbsp;&nbsp;</span>Lecture des données</a></span><ul class=\"toc-item\"><li><span><a href=\"#Données-pour-identifier-les-équipements\" data-toc-modified-id=\"Données-pour-identifier-les-équipements-1.2.1.1\"><span class=\"toc-item-num\">1.2.1.1&nbsp;&nbsp;</span>Données pour identifier les équipements</a></span></li><li><span><a href=\"#Données-concernant-les-positions-des-mutations\" data-toc-modified-id=\"Données-concernant-les-positions-des-mutations-1.2.1.2\"><span class=\"toc-item-num\">1.2.1.2&nbsp;&nbsp;</span>Données concernant les positions des mutations</a></span></li></ul></li><li><span><a href=\"#Filtre-et-mise-en-forme\" data-toc-modified-id=\"Filtre-et-mise-en-forme-1.2.2\"><span class=\"toc-item-num\">1.2.2&nbsp;&nbsp;</span>Filtre et mise en forme</a></span></li><li><span><a href=\"#Calcul-de-la-distance-au-plus-proche\" data-toc-modified-id=\"Calcul-de-la-distance-au-plus-proche-1.2.3\"><span class=\"toc-item-num\">1.2.3&nbsp;&nbsp;</span>Calcul de la distance au plus proche</a></span></li></ul></li><li><span><a href=\"#Application-de-la-fonction\" data-toc-modified-id=\"Application-de-la-fonction-1.3\"><span class=\"toc-item-num\">1.3&nbsp;&nbsp;</span>Application de la fonction</a></span></li><li><span><a href=\"#Sauvegarde-des-résultats\" data-toc-modified-id=\"Sauvegarde-des-résultats-1.4\"><span class=\"toc-item-num\">1.4&nbsp;&nbsp;</span>Sauvegarde des résultats</a></span></li><li><span><a href=\"#Téléchargement-des-données\" data-toc-modified-id=\"Téléchargement-des-données-1.5\"><span class=\"toc-item-num\">1.5&nbsp;&nbsp;</span>Téléchargement des données</a></span></li></ul></li></ul></div>"
   ]
  },
  {
   "cell_type": "markdown",
   "metadata": {},
   "source": [
    "# Localisation des services les plus proches d'un bien immobilier"
   ]
  },
  {
   "cell_type": "markdown",
   "metadata": {},
   "source": [
    "Le but de ce notebook est de proposer un moyen d'identifier les services à proximité d'un bien. En effet, on fait ici l'hypothèse que la valeur d'un bien est également fonction de la proximité aux services (alimentaire, santé, sécurité ...)"
   ]
  },
  {
   "cell_type": "markdown",
   "metadata": {},
   "source": [
    "## La base BPE"
   ]
  },
  {
   "cell_type": "markdown",
   "metadata": {},
   "source": [
    "### Présentation de la base"
   ]
  },
  {
   "cell_type": "markdown",
   "metadata": {},
   "source": [
    "La base permanente des équipements (BPE) est une source statistique qui fournit le niveau d'équipements et de services rendus à la population sur un territoire. Les résultats sont proposés sous forme de bases de données dans différents formats et pour deux niveaux géographiques : les communes et les Iris. L'offre comprend également des bases de données où de nombreux équipements sont géolocalisés.\n",
    "\n",
    "Le fichier est téléchargeable [ici](https://www.insee.fr/fr/statistiques/fichier/3568638/bpe19_ensemble_xy_csv.zip).\n",
    "\n",
    "Il existe plus de 130 types d'équipements : nous en avons retiré certains (pas pertinent dans notre analyse) et regroupé d'autres. La liste des modalités retenues est disponible dans la table `bpe_a_garder.csv`.\n",
    "\n",
    "Les types d'équipements sont identifiés à l'aide de la variable `TYPEEQ`. Pour faire le lien entre le code de l'équipement `TYPEEQ` et le libellé, il faut utiliser la table `lib_bpe`."
   ]
  },
  {
   "cell_type": "markdown",
   "metadata": {},
   "source": [
    "La table `bpe19_ensemble_xy`est stocké dans le dossier `gooddata` car elle fait plus de 150 Mo. Cette table contient une variable "
   ]
  },
  {
   "cell_type": "markdown",
   "metadata": {},
   "source": [
    "### Choix des modalités retenues et des regroupements effectués"
   ]
  },
  {
   "cell_type": "markdown",
   "metadata": {},
   "source": [
    "| Code |      Libellé     | Code |             Libellé            |\n",
    "|:----:|:----------------:|:----:|:------------------------------:|\n",
    "| A101 |      POLICE      | C301 | LYCÉE GÉNÉRAL ET TECHNOLOGIQUE |\n",
    "| A104 |    GENDARMERIE   | D201 |       MÉDECIN GÉNÉRALITÉ       |\n",
    "| A203 |      BANQUE      | D301 |            PHARMACIE           |\n",
    "| A206 |       POSTE      | D502 |             CRÈCHE             |\n",
    "| A207 |       POSTE      | F303 |              CINÉ              |\n",
    "| A208 |       POSTE      | F304 |              MUSÉE             |\n",
    "| A301 |      GARAGE      | F307 |          BIBLIOTHÈQUE          |\n",
    "| A302 |      GARAGE      | F306 |             THÉATRE            |\n",
    "| A501 |     COIFFURE     |  C5  |           UNIVERSITÉ           |\n",
    "| A504 |    RESTAURANT    |  B3  |    COMMERCE NON ALIMENTAIRE    |\n",
    "| A506 | PRESSING/LAVERIE |  D1  |     ÉTABLISSEMENT DE SANTÉ     |\n",
    "| B101 |    HYPERMARCHÉ   |  F1  |           EQ SPORTIF           |\n",
    "| B102 |    SUPERMARCHÉ   | B206 |           POISONNERIE          |\n",
    "| B201 |     SUPERETTE    | C101 |           MATERNELLE           |\n",
    "| B202 |     ÉPICERIE     | C102 |           MATERNELLE           |\n",
    "| B301 |     LIBRARIE     | C104 |            PRIMAIRE            |\n",
    "| B203 |    BOULANGERIE   | C105 |            PRIMAIRE            |\n",
    "| B204 |     BOUCHERIE    | C201 |             COLLÈGE            |"
   ]
  },
  {
   "cell_type": "markdown",
   "metadata": {},
   "source": [
    "## Calcul de la distance aux services le plus proches"
   ]
  },
  {
   "cell_type": "code",
   "execution_count": 7,
   "metadata": {
    "ExecuteTime": {
     "end_time": "2020-12-14T22:41:19.901766Z",
     "start_time": "2020-12-14T22:41:19.891765Z"
    }
   },
   "outputs": [],
   "source": [
    "import os\n",
    "import pandas as pd\n",
    "import geopandas as gpd\n",
    "from shapely import geometry\n",
    "from scipy.spatial import cKDTree\n",
    "from shapely.geometry import Point\n",
    "import numpy as np\n",
    "import unidecode\n",
    "\n",
    "from importlib.metadata import version"
   ]
  },
  {
   "cell_type": "code",
   "execution_count": 10,
   "metadata": {
    "ExecuteTime": {
     "end_time": "2020-12-14T22:57:46.949873Z",
     "start_time": "2020-12-14T22:57:46.928368Z"
    }
   },
   "outputs": [
    {
     "name": "stdout",
     "output_type": "stream",
     "text": [
      "La version de pandas est 1.1.2\n",
      "La version de geopandas est 0.8.1\n",
      "La version de shapely est 1.7.1\n",
      "La version de scipy est 1.5.0\n",
      "La version de numpy est 1.19.1\n"
     ]
    }
   ],
   "source": [
    "print(\"La version de pandas est\", pd.__version__)\n",
    "print(\"La version de geopandas est\", gpd.__version__)\n",
    "print(\"La version de shapely est\",version(\"shapely\"))\n",
    "print(\"La version de scipy est\", version(\"scipy\"))\n",
    "print(\"La version de numpy est\", version(\"numpy\"))\n"
   ]
  },
  {
   "cell_type": "markdown",
   "metadata": {},
   "source": [
    "### Lecture des données"
   ]
  },
  {
   "cell_type": "markdown",
   "metadata": {},
   "source": [
    "#### Données pour identifier les équipements"
   ]
  },
  {
   "cell_type": "code",
   "execution_count": null,
   "metadata": {
    "ExecuteTime": {
     "end_time": "2020-12-14T22:57:57.228726Z",
     "start_time": "2020-12-14T22:57:54.857012Z"
    },
    "scrolled": true
   },
   "outputs": [],
   "source": [
    "donnees_bpe = pd.read_csv('../good_data/bpe/bpe19_ensemble_xy.csv', sep = \";\", encoding = \"utf-8\")\n",
    "lib_bpe = pd.read_csv('../good_data/bpe/varmod_bpe19_ensemble_xy.csv', sep = \";\", encoding = \"utf-8\")\n",
    "bpe_a_garder = pd.read_csv('../good_data/bpe/bpe_a_garder.csv', sep = \";\", header = None, encoding = \"utf-8\")"
   ]
  },
  {
   "cell_type": "markdown",
   "metadata": {},
   "source": [
    "#### Données concernant les positions des mutations"
   ]
  },
  {
   "cell_type": "code",
   "execution_count": 12,
   "metadata": {
    "ExecuteTime": {
     "end_time": "2020-12-14T22:58:16.478225Z",
     "start_time": "2020-12-14T22:57:59.991826Z"
    },
    "scrolled": true
   },
   "outputs": [
    {
     "data": {
      "text/html": [
       "<div>\n",
       "<style scoped>\n",
       "    .dataframe tbody tr th:only-of-type {\n",
       "        vertical-align: middle;\n",
       "    }\n",
       "\n",
       "    .dataframe tbody tr th {\n",
       "        vertical-align: top;\n",
       "    }\n",
       "\n",
       "    .dataframe thead th {\n",
       "        text-align: right;\n",
       "    }\n",
       "</style>\n",
       "<table border=\"1\" class=\"dataframe\">\n",
       "  <thead>\n",
       "    <tr style=\"text-align: right;\">\n",
       "      <th></th>\n",
       "      <th>idmutation</th>\n",
       "      <th>datemut</th>\n",
       "      <th>valeurfonc</th>\n",
       "      <th>nblot</th>\n",
       "      <th>l_codinsee</th>\n",
       "      <th>nbpar</th>\n",
       "      <th>nblocmut</th>\n",
       "      <th>nblocdep</th>\n",
       "      <th>sbati</th>\n",
       "      <th>pp</th>\n",
       "      <th>...</th>\n",
       "      <th>Ind_25_39</th>\n",
       "      <th>Ind_40_54</th>\n",
       "      <th>Ind_55_64</th>\n",
       "      <th>Ind_65_79</th>\n",
       "      <th>Ind_80p</th>\n",
       "      <th>Ind_inc</th>\n",
       "      <th>ind_par_zo</th>\n",
       "      <th>nv_par_hab</th>\n",
       "      <th>ind_par__1</th>\n",
       "      <th>geometry</th>\n",
       "    </tr>\n",
       "  </thead>\n",
       "  <tbody>\n",
       "    <tr>\n",
       "      <th>0</th>\n",
       "      <td>5454034</td>\n",
       "      <td>2017-03-07</td>\n",
       "      <td>207000.0</td>\n",
       "      <td>3</td>\n",
       "      <td>{75118}</td>\n",
       "      <td>1</td>\n",
       "      <td>1</td>\n",
       "      <td>0</td>\n",
       "      <td>39</td>\n",
       "      <td>3</td>\n",
       "      <td>...</td>\n",
       "      <td>1.465739</td>\n",
       "      <td>0.893211</td>\n",
       "      <td>0.411347</td>\n",
       "      <td>0.369373</td>\n",
       "      <td>0.142712</td>\n",
       "      <td>0.060443</td>\n",
       "      <td>19882.503871</td>\n",
       "      <td>25609.782463</td>\n",
       "      <td>549.67</td>\n",
       "      <td>POINT (2.34927 48.89034)</td>\n",
       "    </tr>\n",
       "    <tr>\n",
       "      <th>1</th>\n",
       "      <td>5183819</td>\n",
       "      <td>2019-11-27</td>\n",
       "      <td>220000.0</td>\n",
       "      <td>2</td>\n",
       "      <td>{75115}</td>\n",
       "      <td>1</td>\n",
       "      <td>1</td>\n",
       "      <td>0</td>\n",
       "      <td>21</td>\n",
       "      <td>2</td>\n",
       "      <td>...</td>\n",
       "      <td>2.373654</td>\n",
       "      <td>1.262352</td>\n",
       "      <td>0.895515</td>\n",
       "      <td>0.976435</td>\n",
       "      <td>0.393811</td>\n",
       "      <td>0.156445</td>\n",
       "      <td>12101.089514</td>\n",
       "      <td>37578.001910</td>\n",
       "      <td>387.83</td>\n",
       "      <td>POINT (2.31513 48.84359)</td>\n",
       "    </tr>\n",
       "    <tr>\n",
       "      <th>2</th>\n",
       "      <td>5186543</td>\n",
       "      <td>2019-07-04</td>\n",
       "      <td>455000.0</td>\n",
       "      <td>1</td>\n",
       "      <td>{75118}</td>\n",
       "      <td>1</td>\n",
       "      <td>1</td>\n",
       "      <td>0</td>\n",
       "      <td>61</td>\n",
       "      <td>3</td>\n",
       "      <td>...</td>\n",
       "      <td>NaN</td>\n",
       "      <td>NaN</td>\n",
       "      <td>NaN</td>\n",
       "      <td>NaN</td>\n",
       "      <td>NaN</td>\n",
       "      <td>NaN</td>\n",
       "      <td>NaN</td>\n",
       "      <td>NaN</td>\n",
       "      <td>NaN</td>\n",
       "      <td>None</td>\n",
       "    </tr>\n",
       "    <tr>\n",
       "      <th>3</th>\n",
       "      <td>5603750</td>\n",
       "      <td>2016-11-30</td>\n",
       "      <td>220000.0</td>\n",
       "      <td>1</td>\n",
       "      <td>{75116}</td>\n",
       "      <td>1</td>\n",
       "      <td>1</td>\n",
       "      <td>0</td>\n",
       "      <td>25</td>\n",
       "      <td>1</td>\n",
       "      <td>...</td>\n",
       "      <td>1.643457</td>\n",
       "      <td>1.935802</td>\n",
       "      <td>1.208889</td>\n",
       "      <td>1.058765</td>\n",
       "      <td>0.410864</td>\n",
       "      <td>0.371358</td>\n",
       "      <td>13923.583665</td>\n",
       "      <td>47830.614933</td>\n",
       "      <td>462.89</td>\n",
       "      <td>POINT (2.28300 48.86192)</td>\n",
       "    </tr>\n",
       "    <tr>\n",
       "      <th>4</th>\n",
       "      <td>5340190</td>\n",
       "      <td>2018-08-30</td>\n",
       "      <td>295000.0</td>\n",
       "      <td>1</td>\n",
       "      <td>{75115}</td>\n",
       "      <td>1</td>\n",
       "      <td>1</td>\n",
       "      <td>0</td>\n",
       "      <td>29</td>\n",
       "      <td>1</td>\n",
       "      <td>...</td>\n",
       "      <td>2.116317</td>\n",
       "      <td>2.711532</td>\n",
       "      <td>1.415287</td>\n",
       "      <td>1.732735</td>\n",
       "      <td>0.978797</td>\n",
       "      <td>0.251313</td>\n",
       "      <td>10496.383220</td>\n",
       "      <td>35538.059919</td>\n",
       "      <td>306.55</td>\n",
       "      <td>POINT (2.28448 48.84956)</td>\n",
       "    </tr>\n",
       "    <tr>\n",
       "      <th>...</th>\n",
       "      <td>...</td>\n",
       "      <td>...</td>\n",
       "      <td>...</td>\n",
       "      <td>...</td>\n",
       "      <td>...</td>\n",
       "      <td>...</td>\n",
       "      <td>...</td>\n",
       "      <td>...</td>\n",
       "      <td>...</td>\n",
       "      <td>...</td>\n",
       "      <td>...</td>\n",
       "      <td>...</td>\n",
       "      <td>...</td>\n",
       "      <td>...</td>\n",
       "      <td>...</td>\n",
       "      <td>...</td>\n",
       "      <td>...</td>\n",
       "      <td>...</td>\n",
       "      <td>...</td>\n",
       "      <td>...</td>\n",
       "      <td>...</td>\n",
       "    </tr>\n",
       "    <tr>\n",
       "      <th>178909</th>\n",
       "      <td>5630439</td>\n",
       "      <td>2016-06-30</td>\n",
       "      <td>280000.0</td>\n",
       "      <td>1</td>\n",
       "      <td>{75110}</td>\n",
       "      <td>1</td>\n",
       "      <td>1</td>\n",
       "      <td>0</td>\n",
       "      <td>36</td>\n",
       "      <td>2</td>\n",
       "      <td>...</td>\n",
       "      <td>2.471176</td>\n",
       "      <td>1.447344</td>\n",
       "      <td>0.583872</td>\n",
       "      <td>0.505748</td>\n",
       "      <td>0.127465</td>\n",
       "      <td>0.065788</td>\n",
       "      <td>16761.393570</td>\n",
       "      <td>28326.362103</td>\n",
       "      <td>360.83</td>\n",
       "      <td>POINT (2.35211 48.87021)</td>\n",
       "    </tr>\n",
       "    <tr>\n",
       "      <th>178910</th>\n",
       "      <td>5871270</td>\n",
       "      <td>2014-02-13</td>\n",
       "      <td>145000.0</td>\n",
       "      <td>1</td>\n",
       "      <td>{75113}</td>\n",
       "      <td>1</td>\n",
       "      <td>1</td>\n",
       "      <td>0</td>\n",
       "      <td>16</td>\n",
       "      <td>1</td>\n",
       "      <td>...</td>\n",
       "      <td>1.938971</td>\n",
       "      <td>1.981680</td>\n",
       "      <td>1.247092</td>\n",
       "      <td>1.366676</td>\n",
       "      <td>0.478336</td>\n",
       "      <td>0.316044</td>\n",
       "      <td>4476.398601</td>\n",
       "      <td>29306.983179</td>\n",
       "      <td>284.50</td>\n",
       "      <td>POINT (2.36955 48.83017)</td>\n",
       "    </tr>\n",
       "    <tr>\n",
       "      <th>178911</th>\n",
       "      <td>5854812</td>\n",
       "      <td>2014-02-14</td>\n",
       "      <td>50000.0</td>\n",
       "      <td>2</td>\n",
       "      <td>{75108}</td>\n",
       "      <td>1</td>\n",
       "      <td>2</td>\n",
       "      <td>1</td>\n",
       "      <td>33</td>\n",
       "      <td>1</td>\n",
       "      <td>...</td>\n",
       "      <td>14.311057</td>\n",
       "      <td>20.870291</td>\n",
       "      <td>10.733293</td>\n",
       "      <td>6.559234</td>\n",
       "      <td>4.174058</td>\n",
       "      <td>1.192588</td>\n",
       "      <td>1181.134328</td>\n",
       "      <td>46488.064865</td>\n",
       "      <td>49.46</td>\n",
       "      <td>POINT (2.32473 48.86849)</td>\n",
       "    </tr>\n",
       "    <tr>\n",
       "      <th>178912</th>\n",
       "      <td>5306485</td>\n",
       "      <td>2018-09-07</td>\n",
       "      <td>662000.0</td>\n",
       "      <td>2</td>\n",
       "      <td>{75117}</td>\n",
       "      <td>1</td>\n",
       "      <td>1</td>\n",
       "      <td>0</td>\n",
       "      <td>54</td>\n",
       "      <td>3</td>\n",
       "      <td>...</td>\n",
       "      <td>2.304429</td>\n",
       "      <td>1.059265</td>\n",
       "      <td>0.575230</td>\n",
       "      <td>0.547170</td>\n",
       "      <td>0.231495</td>\n",
       "      <td>0.108733</td>\n",
       "      <td>12137.178609</td>\n",
       "      <td>37195.265857</td>\n",
       "      <td>454.79</td>\n",
       "      <td>POINT (2.32029 48.88559)</td>\n",
       "    </tr>\n",
       "    <tr>\n",
       "      <th>178913</th>\n",
       "      <td>5494579</td>\n",
       "      <td>2017-02-27</td>\n",
       "      <td>570300.0</td>\n",
       "      <td>3</td>\n",
       "      <td>{75117}</td>\n",
       "      <td>1</td>\n",
       "      <td>2</td>\n",
       "      <td>1</td>\n",
       "      <td>71</td>\n",
       "      <td>3</td>\n",
       "      <td>...</td>\n",
       "      <td>1.456804</td>\n",
       "      <td>2.068972</td>\n",
       "      <td>1.115850</td>\n",
       "      <td>0.689657</td>\n",
       "      <td>0.302209</td>\n",
       "      <td>0.255716</td>\n",
       "      <td>3483.000000</td>\n",
       "      <td>31514.563292</td>\n",
       "      <td>315.09</td>\n",
       "      <td>POINT (2.30536 48.89113)</td>\n",
       "    </tr>\n",
       "  </tbody>\n",
       "</table>\n",
       "<p>178914 rows × 50 columns</p>\n",
       "</div>"
      ],
      "text/plain": [
       "        idmutation     datemut  valeurfonc  nblot l_codinsee  nbpar  nblocmut  \\\n",
       "0          5454034  2017-03-07    207000.0      3    {75118}      1         1   \n",
       "1          5183819  2019-11-27    220000.0      2    {75115}      1         1   \n",
       "2          5186543  2019-07-04    455000.0      1    {75118}      1         1   \n",
       "3          5603750  2016-11-30    220000.0      1    {75116}      1         1   \n",
       "4          5340190  2018-08-30    295000.0      1    {75115}      1         1   \n",
       "...            ...         ...         ...    ...        ...    ...       ...   \n",
       "178909     5630439  2016-06-30    280000.0      1    {75110}      1         1   \n",
       "178910     5871270  2014-02-13    145000.0      1    {75113}      1         1   \n",
       "178911     5854812  2014-02-14     50000.0      2    {75108}      1         2   \n",
       "178912     5306485  2018-09-07    662000.0      2    {75117}      1         1   \n",
       "178913     5494579  2017-02-27    570300.0      3    {75117}      1         2   \n",
       "\n",
       "        nblocdep  sbati  pp  ...  Ind_25_39  Ind_40_54  Ind_55_64  Ind_65_79  \\\n",
       "0              0     39   3  ...   1.465739   0.893211   0.411347   0.369373   \n",
       "1              0     21   2  ...   2.373654   1.262352   0.895515   0.976435   \n",
       "2              0     61   3  ...        NaN        NaN        NaN        NaN   \n",
       "3              0     25   1  ...   1.643457   1.935802   1.208889   1.058765   \n",
       "4              0     29   1  ...   2.116317   2.711532   1.415287   1.732735   \n",
       "...          ...    ...  ..  ...        ...        ...        ...        ...   \n",
       "178909         0     36   2  ...   2.471176   1.447344   0.583872   0.505748   \n",
       "178910         0     16   1  ...   1.938971   1.981680   1.247092   1.366676   \n",
       "178911         1     33   1  ...  14.311057  20.870291  10.733293   6.559234   \n",
       "178912         0     54   3  ...   2.304429   1.059265   0.575230   0.547170   \n",
       "178913         1     71   3  ...   1.456804   2.068972   1.115850   0.689657   \n",
       "\n",
       "         Ind_80p   Ind_inc    ind_par_zo    nv_par_hab  ind_par__1  \\\n",
       "0       0.142712  0.060443  19882.503871  25609.782463      549.67   \n",
       "1       0.393811  0.156445  12101.089514  37578.001910      387.83   \n",
       "2            NaN       NaN           NaN           NaN         NaN   \n",
       "3       0.410864  0.371358  13923.583665  47830.614933      462.89   \n",
       "4       0.978797  0.251313  10496.383220  35538.059919      306.55   \n",
       "...          ...       ...           ...           ...         ...   \n",
       "178909  0.127465  0.065788  16761.393570  28326.362103      360.83   \n",
       "178910  0.478336  0.316044   4476.398601  29306.983179      284.50   \n",
       "178911  4.174058  1.192588   1181.134328  46488.064865       49.46   \n",
       "178912  0.231495  0.108733  12137.178609  37195.265857      454.79   \n",
       "178913  0.302209  0.255716   3483.000000  31514.563292      315.09   \n",
       "\n",
       "                        geometry  \n",
       "0       POINT (2.34927 48.89034)  \n",
       "1       POINT (2.31513 48.84359)  \n",
       "2                           None  \n",
       "3       POINT (2.28300 48.86192)  \n",
       "4       POINT (2.28448 48.84956)  \n",
       "...                          ...  \n",
       "178909  POINT (2.35211 48.87021)  \n",
       "178910  POINT (2.36955 48.83017)  \n",
       "178911  POINT (2.32473 48.86849)  \n",
       "178912  POINT (2.32029 48.88559)  \n",
       "178913  POINT (2.30536 48.89113)  \n",
       "\n",
       "[178914 rows x 50 columns]"
      ]
     },
     "execution_count": 12,
     "metadata": {},
     "output_type": "execute_result"
    }
   ],
   "source": [
    "mutation = gpd.read_file('../good_data/paris_mutation_filo/paris_mutation_filo.shp', encoding = \"utf-8\")\n",
    "mutation.set_crs(epsg=4326, inplace=True)"
   ]
  },
  {
   "cell_type": "markdown",
   "metadata": {},
   "source": [
    "Le code que nous utilisons pour déterminer la distance au plus proche service utilise les coordonnées en Lambert 93 : on va créer une colonne `LAMBERT` contenant cette information (un tuple de la forme *(x,y*)).\n",
    "\n",
    "On divise la table `mutation` en deux : \n",
    "- `mutation_avec_coord` : l'ensemble des mutations ayant une position renseignée\n",
    "- `mutation_sans_coord` : le complémentaire\n",
    "\n",
    "car la fonction `to_crs` ne fonctionne pas sur des objets de type `None`."
   ]
  },
  {
   "cell_type": "code",
   "execution_count": 13,
   "metadata": {
    "ExecuteTime": {
     "end_time": "2020-12-14T22:58:26.604862Z",
     "start_time": "2020-12-14T22:58:26.102154Z"
    }
   },
   "outputs": [],
   "source": [
    "mutation_avec_coord = mutation[mutation[\"geometry\"] != None]\n",
    "mutation_sans_coord = mutation[mutation[\"geometry\"] == None]"
   ]
  },
  {
   "cell_type": "code",
   "execution_count": 14,
   "metadata": {
    "ExecuteTime": {
     "end_time": "2020-12-14T22:58:39.529640Z",
     "start_time": "2020-12-14T22:58:29.819609Z"
    }
   },
   "outputs": [
    {
     "name": "stderr",
     "output_type": "stream",
     "text": [
      "C:\\Users\\khale\\anaconda3\\envs\\projet_2A\\lib\\site-packages\\pyproj\\crs\\crs.py:53: FutureWarning: '+init=<authority>:<code>' syntax is deprecated. '<authority>:<code>' is the preferred initialization method. When making the change, be mindful of axis order changes: https://pyproj4.github.io/pyproj/stable/gotchas.html#axis-order-changes-in-proj-6\n",
      "  return _prepare_from_string(\" \".join(pjargs))\n",
      "C:\\Users\\khale\\anaconda3\\envs\\projet_2A\\lib\\site-packages\\geopandas\\geodataframe.py:853: SettingWithCopyWarning: \n",
      "A value is trying to be set on a copy of a slice from a DataFrame.\n",
      "Try using .loc[row_indexer,col_indexer] = value instead\n",
      "\n",
      "See the caveats in the documentation: https://pandas.pydata.org/pandas-docs/stable/user_guide/indexing.html#returning-a-view-versus-a-copy\n",
      "  super(GeoDataFrame, self).__setitem__(key, value)\n"
     ]
    }
   ],
   "source": [
    "mutation_avec_coord[\"lambert\"] = mutation_avec_coord[\"geometry\"].to_crs({'init' :\"EPSG:2154\"})\n",
    "\n",
    "mutation_avec_coord[\"lambert\"] = mutation_avec_coord.apply(lambda row : (row[\"lambert\"].x,row[\"lambert\"].y), axis = 1)"
   ]
  },
  {
   "cell_type": "markdown",
   "metadata": {},
   "source": [
    "### Filtre et mise en forme"
   ]
  },
  {
   "cell_type": "markdown",
   "metadata": {},
   "source": [
    "Les données issues de la BPE ne sont pas toutes géolocalisées. Il existe une variable `QUALITE_XY` qui permet d'avoir une information sur la qualité de cette géolocalisation. On ne gardera que les biens ayant une géolocalisation `Bonne` ou `Acceptable` soit 95% des observations."
   ]
  },
  {
   "cell_type": "code",
   "execution_count": 18,
   "metadata": {
    "ExecuteTime": {
     "end_time": "2020-12-14T23:05:04.848039Z",
     "start_time": "2020-12-14T23:05:04.670992Z"
    }
   },
   "outputs": [
    {
     "name": "stdout",
     "output_type": "stream",
     "text": [
      "Bonne                                          0.952250\n",
      "type_équipement_non_géolocalisé_cette_année    0.034313\n",
      "Acceptable                                     0.008896\n",
      "Mauvaise                                       0.004429\n",
      "Non géolocalisé                                0.000113\n",
      "Name: QUALITE_XY, dtype: float64\n"
     ]
    }
   ],
   "source": [
    "donnees_bpe_paris = donnees_bpe[donnees_bpe[\"DEP\"] == \"75\"]\n",
    "\n",
    "print(donnees_bpe_paris[\"QUALITE_XY\"].value_counts(normalize = True))\n",
    "\n",
    "donnees_bpe_paris_loc = donnees_bpe_paris[donnees_bpe_paris[\"QUALITE_XY\"].isin([\"Bonne\",\"Acceptable\"])]"
   ]
  },
  {
   "cell_type": "markdown",
   "metadata": {},
   "source": [
    "Les deux cellules suivantes permettent de garder les services qui nous intéressent."
   ]
  },
  {
   "cell_type": "code",
   "execution_count": 19,
   "metadata": {
    "ExecuteTime": {
     "end_time": "2020-12-14T23:08:54.614105Z",
     "start_time": "2020-12-14T23:08:54.517543Z"
    }
   },
   "outputs": [],
   "source": [
    "#Récupération des libellésc\n",
    "lib_typequ = lib_bpe[lib_bpe[\"COD_VAR\"] == \"TYPEQU\"][[\"COD_MOD\", \"LIB_MOD\"]]\n",
    "\n",
    "donnees_bpe_paris_lab = donnees_bpe_paris_loc.merge(lib_typequ, left_on = \"TYPEQU\", right_on = \"COD_MOD\", how = \"left\")\n",
    "\n",
    "#Il existe une nomenclature\n",
    "donnees_bpe_paris_lab[\"SOUSDOM\"] = donnees_bpe_paris_lab[\"TYPEQU\"].str[:2]\n"
   ]
  },
  {
   "cell_type": "code",
   "execution_count": 20,
   "metadata": {
    "ExecuteTime": {
     "end_time": "2020-12-14T23:08:55.871385Z",
     "start_time": "2020-12-14T23:08:55.864396Z"
    }
   },
   "outputs": [],
   "source": [
    "bpe_a_garder.rename(columns={0 : \"COD_MOD\", 1 : \"LIB_MOD\"}, inplace = True)\n",
    "\n",
    "bpe_a_garder_sousdom = bpe_a_garder[bpe_a_garder[\"COD_MOD\"].str.len() == 2]\n",
    "bpe_a_garder_mod =  bpe_a_garder[bpe_a_garder[\"COD_MOD\"].str.len() == 4]"
   ]
  },
  {
   "cell_type": "markdown",
   "metadata": {},
   "source": [
    "`donnees_bpe_paris_finale` contient donc les informations sur les services qui nous intéressent à Paris (une ligne par service) : \n",
    "- la variable `LIB_MOD_y` correspond au libellé du service\n",
    "\n",
    "`sercices_retenus` est une `pd.Series` contenant le nom des différentes services retenus."
   ]
  },
  {
   "cell_type": "code",
   "execution_count": 21,
   "metadata": {
    "ExecuteTime": {
     "end_time": "2020-12-14T23:10:39.240684Z",
     "start_time": "2020-12-14T23:10:39.167371Z"
    }
   },
   "outputs": [],
   "source": [
    "donnees_bpe_paris_finale = donnees_bpe_paris_lab[donnees_bpe_paris_lab[\"COD_MOD\"].isin(bpe_a_garder_mod[\"COD_MOD\"]) | donnees_bpe_paris_lab[\"COD_MOD\"].isin(bpe_a_garder_sousdom[\"COD_MOD\"])]\n",
    "\n",
    "donnees_bpe_paris_finale = donnees_bpe_paris_finale.merge(bpe_a_garder, on = \"COD_MOD\", how = \"left\")\n",
    "\n",
    "#service est une Series\n",
    "services_retenus = donnees_bpe_paris_finale[\"LIB_MOD_y\"].drop_duplicates()\n"
   ]
  },
  {
   "cell_type": "markdown",
   "metadata": {},
   "source": [
    "### Calcul de la distance au plus proche"
   ]
  },
  {
   "cell_type": "code",
   "execution_count": 23,
   "metadata": {
    "ExecuteTime": {
     "end_time": "2020-12-14T23:13:25.526752Z",
     "start_time": "2020-12-14T23:13:25.518763Z"
    }
   },
   "outputs": [],
   "source": [
    "services_retenus = donnees_bpe_paris_finale[\"LIB_MOD_y\"].drop_duplicates()\n",
    "\n",
    "#points_a_tester : une liste contenant des tuples (x,y) désignant la position du point qu'on étudie en LAMBERT 93\n",
    "#service : nom d'un regroupement de service (modalité de la variable LIB_MOD_Y de la la table donnees_bpe_)\n",
    "def nearest_service(points_a_tester, service, donnees = donnees_bpe_paris_finale): \n",
    "    points_a_tester = np.array(points_a_tester)\n",
    "    points_services = list(donnees_bpe_paris_finale[donnees[\"LIB_MOD_y\"] == service].apply(lambda x: (x.LAMBERT_X, x.LAMBERT_Y), axis = 1))\n",
    "    points_services = np.array(points_services)\n",
    "    btree = cKDTree(points_services)\n",
    "    dist, idx = btree.query(points_a_tester, k=1)\n",
    "    res = pd.Series(dist).to_frame(service)\n",
    "    return res\n",
    "\n",
    "\n",
    "def nearest_services(point, services = services_retenus, donnees = donnees_bpe_paris_finale):\n",
    "    minimal_dist_to_services = list(map(lambda x : nearest_service(point,x,donnees), services_retenus))\n",
    "    res = pd.concat(minimal_dist_to_services, axis = 1)\n",
    "    return(res)"
   ]
  },
  {
   "cell_type": "markdown",
   "metadata": {},
   "source": [
    "## Application de la fonction"
   ]
  },
  {
   "cell_type": "markdown",
   "metadata": {},
   "source": [
    "On applique ici la fonction `nearest_services` qui va prendre la liste des services_retenus et la table contenant toutes les mutations avec les coordonnées en Lambert 94 (on prend les coordonnées dans ce mode de projection car le calcul des distances est plus rapide dans ce cas)."
   ]
  },
  {
   "cell_type": "code",
   "execution_count": 24,
   "metadata": {
    "ExecuteTime": {
     "end_time": "2020-12-14T23:13:38.448627Z",
     "start_time": "2020-12-14T23:13:31.044561Z"
    }
   },
   "outputs": [],
   "source": [
    "service_proche_mut = nearest_services(list(mutation_avec_coord[\"lambert\"]), services_retenus)"
   ]
  },
  {
   "cell_type": "code",
   "execution_count": 25,
   "metadata": {
    "ExecuteTime": {
     "end_time": "2020-12-14T23:13:43.746227Z",
     "start_time": "2020-12-14T23:13:43.233575Z"
    }
   },
   "outputs": [],
   "source": [
    "service_proche_mut[\"idmutation\"] = mutation_avec_coord[\"idmutation\"]\n",
    "mutation_filo_service_avec_coord = mutation_avec_coord.merge(service_proche_mut, on = \"idmutation\")"
   ]
  },
  {
   "cell_type": "code",
   "execution_count": 26,
   "metadata": {
    "ExecuteTime": {
     "end_time": "2020-12-14T23:13:46.728864Z",
     "start_time": "2020-12-14T23:13:46.458285Z"
    }
   },
   "outputs": [],
   "source": [
    "mutation_filo_service = pd.concat([mutation_filo_service_avec_coord,mutation_sans_coord])"
   ]
  },
  {
   "cell_type": "markdown",
   "metadata": {},
   "source": [
    "## Sauvegarde des résultats"
   ]
  },
  {
   "cell_type": "code",
   "execution_count": 18,
   "metadata": {
    "ExecuteTime": {
     "end_time": "2020-11-07T16:09:09.488108Z",
     "start_time": "2020-11-07T16:09:09.483104Z"
    }
   },
   "outputs": [],
   "source": [
    "os.mkdir('../good_data/data/filo_service/')"
   ]
  },
  {
   "cell_type": "markdown",
   "metadata": {},
   "source": [
    "Suppression des accents pour les colonnes sinon problème d'encodage"
   ]
  },
  {
   "cell_type": "code",
   "execution_count": 47,
   "metadata": {
    "ExecuteTime": {
     "end_time": "2020-11-07T16:24:47.433976Z",
     "start_time": "2020-11-07T16:24:47.426943Z"
    }
   },
   "outputs": [],
   "source": [
    "mutation_filo_service.columns = list(map(lambda x:unidecode.unidecode(x), mutation_filo_service.columns))"
   ]
  },
  {
   "cell_type": "markdown",
   "metadata": {},
   "source": [
    "Retrait de la variable `lambert` car il s'agit d'un tuple et donc ne peut être exportée ..."
   ]
  },
  {
   "cell_type": "code",
   "execution_count": 51,
   "metadata": {
    "ExecuteTime": {
     "end_time": "2020-11-07T16:34:43.521656Z",
     "start_time": "2020-11-07T16:34:43.380316Z"
    }
   },
   "outputs": [],
   "source": [
    "mutation_filo_service.drop(\"lambert\", axis = 1,inplace=True)"
   ]
  },
  {
   "cell_type": "code",
   "execution_count": 52,
   "metadata": {
    "ExecuteTime": {
     "end_time": "2020-11-07T16:39:44.612219Z",
     "start_time": "2020-11-07T16:34:48.317873Z"
    }
   },
   "outputs": [],
   "source": [
    "mutation_filo_service.to_file('../good_data/filo_service/paris_mutation_filo_service.shp')"
   ]
  },
  {
   "cell_type": "markdown",
   "metadata": {},
   "source": [
    "## Téléchargement des données"
   ]
  },
  {
   "cell_type": "markdown",
   "metadata": {},
   "source": [
    "Les données issues de `mutation_filo_service` sont téléchargeables [ici](https://drive.google.com/drive/folders/18gM4DlFqF2NqzlRe4Pm0nd4i5dd7dxGl?usp=sharing)."
   ]
  }
 ],
 "metadata": {
  "kernelspec": {
   "display_name": "projet_2A",
   "language": "python",
   "name": "projet_2a"
  },
  "language_info": {
   "codemirror_mode": {
    "name": "ipython",
    "version": 3
   },
   "file_extension": ".py",
   "mimetype": "text/x-python",
   "name": "python",
   "nbconvert_exporter": "python",
   "pygments_lexer": "ipython3",
   "version": "3.8.5"
  },
  "latex_envs": {
   "LaTeX_envs_menu_present": true,
   "autoclose": false,
   "autocomplete": true,
   "bibliofile": "biblio.bib",
   "cite_by": "apalike",
   "current_citInitial": 1,
   "eqLabelWithNumbers": true,
   "eqNumInitial": 1,
   "hotkeys": {
    "equation": "Ctrl-E",
    "itemize": "Ctrl-I"
   },
   "labels_anchors": false,
   "latex_user_defs": false,
   "report_style_numbering": false,
   "user_envs_cfg": false
  },
  "toc": {
   "base_numbering": 1,
   "nav_menu": {},
   "number_sections": true,
   "sideBar": true,
   "skip_h1_title": false,
   "title_cell": "Table of Contents",
   "title_sidebar": "Contents",
   "toc_cell": true,
   "toc_position": {},
   "toc_section_display": true,
   "toc_window_display": false
  },
  "varInspector": {
   "cols": {
    "lenName": 16,
    "lenType": 16,
    "lenVar": 40
   },
   "kernels_config": {
    "python": {
     "delete_cmd_postfix": "",
     "delete_cmd_prefix": "del ",
     "library": "var_list.py",
     "varRefreshCmd": "print(var_dic_list())"
    },
    "r": {
     "delete_cmd_postfix": ") ",
     "delete_cmd_prefix": "rm(",
     "library": "var_list.r",
     "varRefreshCmd": "cat(var_dic_list()) "
    }
   },
   "types_to_exclude": [
    "module",
    "function",
    "builtin_function_or_method",
    "instance",
    "_Feature"
   ],
   "window_display": false
  }
 },
 "nbformat": 4,
 "nbformat_minor": 4
}
