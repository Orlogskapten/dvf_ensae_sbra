{
 "cells": [
  {
   "cell_type": "markdown",
   "metadata": {
    "toc": true
   },
   "source": [
    "<h1>Table of Contents<span class=\"tocSkip\"></span></h1>\n",
    "<div class=\"toc\"><ul class=\"toc-item\"><li><span><a href=\"#Préparation-des-données-mutations-et-de-leurs-positions.\" data-toc-modified-id=\"Préparation-des-données-mutations-et-de-leurs-positions.-1\"><span class=\"toc-item-num\">1&nbsp;&nbsp;</span>Préparation des données <code>mutations</code> et de leurs positions.</a></span></li><li><span><a href=\"#Filosofi\" data-toc-modified-id=\"Filosofi-2\"><span class=\"toc-item-num\">2&nbsp;&nbsp;</span>Filosofi</a></span><ul class=\"toc-item\"><li><span><a href=\"#Présentation-de-la-base-Filosofi\" data-toc-modified-id=\"Présentation-de-la-base-Filosofi-2.1\"><span class=\"toc-item-num\">2.1&nbsp;&nbsp;</span>Présentation de la base Filosofi</a></span></li><li><span><a href=\"#Analyse-du-fichier-carroyée-de-200m\" data-toc-modified-id=\"Analyse-du-fichier-carroyée-de-200m-2.2\"><span class=\"toc-item-num\">2.2&nbsp;&nbsp;</span>Analyse du fichier carroyée de 200m</a></span><ul class=\"toc-item\"><li><span><a href=\"#Sauvegarde-du-fichier-restreint-à-Paris\" data-toc-modified-id=\"Sauvegarde-du-fichier-restreint-à-Paris-2.2.1\"><span class=\"toc-item-num\">2.2.1&nbsp;&nbsp;</span>Sauvegarde du fichier restreint à Paris</a></span></li><li><span><a href=\"#Analyse-de-la-table\" data-toc-modified-id=\"Analyse-de-la-table-2.2.2\"><span class=\"toc-item-num\">2.2.2&nbsp;&nbsp;</span>Analyse de la table</a></span><ul class=\"toc-item\"><li><span><a href=\"#Quelques-définitions\" data-toc-modified-id=\"Quelques-définitions-2.2.2.1\"><span class=\"toc-item-num\">2.2.2.1&nbsp;&nbsp;</span>Quelques définitions</a></span></li><li><span><a href=\"#Lecture\" data-toc-modified-id=\"Lecture-2.2.2.2\"><span class=\"toc-item-num\">2.2.2.2&nbsp;&nbsp;</span>Lecture</a></span></li></ul></li><li><span><a href=\"#Analyse-de-la-table-par-carreaux\" data-toc-modified-id=\"Analyse-de-la-table-par-carreaux-2.2.3\"><span class=\"toc-item-num\">2.2.3&nbsp;&nbsp;</span>Analyse de la table par carreaux</a></span><ul class=\"toc-item\"><li><span><a href=\"#Analyse-univariée-et-bivariée\" data-toc-modified-id=\"Analyse-univariée-et-bivariée-2.2.3.1\"><span class=\"toc-item-num\">2.2.3.1&nbsp;&nbsp;</span>Analyse univariée et bivariée</a></span></li></ul></li></ul></li><li><span><a href=\"#Cartes\" data-toc-modified-id=\"Cartes-2.3\"><span class=\"toc-item-num\">2.3&nbsp;&nbsp;</span>Cartes</a></span><ul class=\"toc-item\"><li><span><a href=\"#Cartes-des-carreaux\" data-toc-modified-id=\"Cartes-des-carreaux-2.3.1\"><span class=\"toc-item-num\">2.3.1&nbsp;&nbsp;</span>Cartes des carreaux</a></span></li></ul></li><li><span><a href=\"#COMPLEMENTS\" data-toc-modified-id=\"COMPLEMENTS-2.4\"><span class=\"toc-item-num\">2.4&nbsp;&nbsp;</span>COMPLEMENTS</a></span></li></ul></li></ul></div>"
   ]
  },
  {
   "cell_type": "markdown",
   "metadata": {},
   "source": [
    "# Préparation des données `mutations` et de leurs positions."
   ]
  },
  {
   "cell_type": "code",
   "execution_count": 1,
   "metadata": {
    "ExecuteTime": {
     "end_time": "2020-12-14T22:03:02.899976Z",
     "start_time": "2020-12-14T22:03:01.779880Z"
    }
   },
   "outputs": [],
   "source": [
    "import pandas as pd\n",
    "import geopandas as gpd\n",
    "import re\n",
    "import sklearn\n",
    "import matplotlib.pyplot as plt"
   ]
  },
  {
   "cell_type": "markdown",
   "metadata": {},
   "source": [
    "Lecture de la table contenant les informations sur les biens issus de DVF"
   ]
  },
  {
   "cell_type": "code",
   "execution_count": 4,
   "metadata": {
    "ExecuteTime": {
     "end_time": "2020-12-14T22:06:47.232096Z",
     "start_time": "2020-12-14T22:05:54.488346Z"
    }
   },
   "outputs": [
    {
     "name": "stderr",
     "output_type": "stream",
     "text": [
      "C:\\Users\\khale\\anaconda3\\envs\\projet_2A\\lib\\site-packages\\pyproj\\crs\\crs.py:53: FutureWarning: '+init=<authority>:<code>' syntax is deprecated. '<authority>:<code>' is the preferred initialization method. When making the change, be mindful of axis order changes: https://pyproj4.github.io/pyproj/stable/gotchas.html#axis-order-changes-in-proj-6\n",
      "  return _prepare_from_string(\" \".join(pjargs))\n"
     ]
    }
   ],
   "source": [
    "mutation_geomlocmut = gpd.read_file(\"../good_data/r11/r11_mutation_geomlocmut.shp\")\n",
    "mutation_geomlocmut = mutation_geomlocmut.rename(columns={\"IDMUTATION\" : \"idmutation\"})\n",
    "#Transformation en WGS84\n",
    "mutation_geomlocmut_wgs = mutation_geomlocmut.to_crs({'init' :'epsg:4326'}) "
   ]
  },
  {
   "cell_type": "code",
   "execution_count": 5,
   "metadata": {
    "ExecuteTime": {
     "end_time": "2020-12-14T22:07:13.506284Z",
     "start_time": "2020-12-14T22:07:06.874466Z"
    }
   },
   "outputs": [
    {
     "data": {
      "text/plain": [
       "(1218527, 61)"
      ]
     },
     "execution_count": 5,
     "metadata": {},
     "output_type": "execute_result"
    }
   ],
   "source": [
    "mutation_brute = pd.read_csv(\"../good_data/r11/r11_mutation.csv\")\n",
    "mutation_brute.shape"
   ]
  },
  {
   "cell_type": "markdown",
   "metadata": {},
   "source": [
    "On se retreint également aux mutations ayant eu lieu dans le département de Paris."
   ]
  },
  {
   "cell_type": "code",
   "execution_count": 6,
   "metadata": {
    "ExecuteTime": {
     "end_time": "2020-12-14T22:07:15.717569Z",
     "start_time": "2020-12-14T22:07:15.382559Z"
    }
   },
   "outputs": [],
   "source": [
    "code_mutation_paris = list(mutation_brute[mutation_brute[\"coddep\"] == 75][\"idmutation\"])\n",
    "\n",
    "mutation_geomlocmut_wgs_paris = mutation_geomlocmut_wgs[mutation_geomlocmut_wgs[\"idmutation\"].isin(code_mutation_paris)]"
   ]
  },
  {
   "cell_type": "markdown",
   "metadata": {},
   "source": [
    "# Filosofi"
   ]
  },
  {
   "cell_type": "markdown",
   "metadata": {},
   "source": [
    "## Présentation de la base Filosofi"
   ]
  },
  {
   "cell_type": "markdown",
   "metadata": {},
   "source": [
    "Depuis plusieurs années, l’Insee diffuse des indicateurs sur les revenus déclarés des ménages à tous les niveaux géographiques jusqu’à l’infracommunal (RFL) ainsi que des indicateurs de revenus disponibles au niveau départemental (RDL).\n",
    "\n",
    "Le dispositif FiLoSoFi a été mis en œuvre afin de disposer d’indicateurs de niveau de vie, d’inégalité et de pauvreté à un niveau local infra-départemental. Il remplace les dispositifs Revenus Fiscaux Localisés (RFL) et Revenus Disponibles Localisés (RDL).\n",
    "\n",
    "Les données sont disponibles à une échelle carroyée (carreau de 200m / 1km) [ici](https://www.insee.fr/fr/statistiques/4176290?sommaire=4176305)."
   ]
  },
  {
   "cell_type": "markdown",
   "metadata": {},
   "source": [
    "## Analyse du fichier carroyée de 200m "
   ]
  },
  {
   "cell_type": "code",
   "execution_count": 10,
   "metadata": {
    "ExecuteTime": {
     "end_time": "2020-12-14T22:27:20.669030Z",
     "start_time": "2020-12-14T22:22:36.904049Z"
    }
   },
   "outputs": [],
   "source": [
    "filosofi_france = gpd.read_file(\"../good_data/filosofi/metropole/Filosofi2015_carreaux_200m_metropole.shp\")\n",
    "\n",
    "filosofi_paris = filosofi_france[filosofi_france[\"Depcom\"].str[:2] == \"75\"]\n",
    "\n",
    "del filosofi_france"
   ]
  },
  {
   "cell_type": "markdown",
   "metadata": {},
   "source": [
    "Transformation en WGS84. "
   ]
  },
  {
   "cell_type": "code",
   "execution_count": 11,
   "metadata": {
    "ExecuteTime": {
     "end_time": "2020-12-14T22:27:54.050809Z",
     "start_time": "2020-12-14T22:27:53.813853Z"
    }
   },
   "outputs": [
    {
     "name": "stderr",
     "output_type": "stream",
     "text": [
      "C:\\Users\\khale\\anaconda3\\envs\\projet_2A\\lib\\site-packages\\pyproj\\crs\\crs.py:53: FutureWarning: '+init=<authority>:<code>' syntax is deprecated. '<authority>:<code>' is the preferred initialization method. When making the change, be mindful of axis order changes: https://pyproj4.github.io/pyproj/stable/gotchas.html#axis-order-changes-in-proj-6\n",
      "  return _prepare_from_string(\" \".join(pjargs))\n"
     ]
    }
   ],
   "source": [
    "filosofi_paris[\"geometry\"] = filosofi_paris[\"geometry\"].to_crs({'init' :'epsg:4326'})"
   ]
  },
  {
   "cell_type": "code",
   "execution_count": 12,
   "metadata": {
    "ExecuteTime": {
     "end_time": "2020-12-14T22:27:56.695715Z",
     "start_time": "2020-12-14T22:27:56.671152Z"
    },
    "scrolled": true
   },
   "outputs": [
    {
     "data": {
      "text/html": [
       "<div>\n",
       "<style scoped>\n",
       "    .dataframe tbody tr th:only-of-type {\n",
       "        vertical-align: middle;\n",
       "    }\n",
       "\n",
       "    .dataframe tbody tr th {\n",
       "        vertical-align: top;\n",
       "    }\n",
       "\n",
       "    .dataframe thead th {\n",
       "        text-align: right;\n",
       "    }\n",
       "</style>\n",
       "<table border=\"1\" class=\"dataframe\">\n",
       "  <thead>\n",
       "    <tr style=\"text-align: right;\">\n",
       "      <th></th>\n",
       "      <th>IdINSPIRE</th>\n",
       "      <th>Id_carr1km</th>\n",
       "      <th>I_est_cr</th>\n",
       "      <th>Id_carr_n</th>\n",
       "      <th>Groupe</th>\n",
       "      <th>Depcom</th>\n",
       "      <th>I_pauv</th>\n",
       "      <th>Id_car2010</th>\n",
       "      <th>Ind</th>\n",
       "      <th>Men</th>\n",
       "      <th>...</th>\n",
       "      <th>Ind_11_17</th>\n",
       "      <th>Ind_18_24</th>\n",
       "      <th>Ind_25_39</th>\n",
       "      <th>Ind_40_54</th>\n",
       "      <th>Ind_55_64</th>\n",
       "      <th>Ind_65_79</th>\n",
       "      <th>Ind_80p</th>\n",
       "      <th>Ind_inc</th>\n",
       "      <th>I_est_1km</th>\n",
       "      <th>geometry</th>\n",
       "    </tr>\n",
       "  </thead>\n",
       "  <tbody>\n",
       "    <tr>\n",
       "      <th>0</th>\n",
       "      <td>CRS3035RES200mN2893400E3763200</td>\n",
       "      <td>CRS3035RES1000mN2893000E3763000</td>\n",
       "      <td>0</td>\n",
       "      <td>CRS3035RES1000mN2893000E3763000</td>\n",
       "      <td>866132</td>\n",
       "      <td>75119</td>\n",
       "      <td>0</td>\n",
       "      <td>CRS3035RES200mN2893400E3763200</td>\n",
       "      <td>2818.5</td>\n",
       "      <td>990.0</td>\n",
       "      <td>...</td>\n",
       "      <td>308.0</td>\n",
       "      <td>208.0</td>\n",
       "      <td>517.0</td>\n",
       "      <td>524.0</td>\n",
       "      <td>362.0</td>\n",
       "      <td>351.0</td>\n",
       "      <td>93.0</td>\n",
       "      <td>69.0</td>\n",
       "      <td>0</td>\n",
       "      <td>POLYGON ((2.37974 48.89386, 2.37946 48.89565, ...</td>\n",
       "    </tr>\n",
       "    <tr>\n",
       "      <th>1</th>\n",
       "      <td>CRS3035RES200mN2890000E3762200</td>\n",
       "      <td>CRS3035RES1000mN2890000E3762000</td>\n",
       "      <td>0</td>\n",
       "      <td>CRS3035RES200mN2890000E3762200</td>\n",
       "      <td>862504</td>\n",
       "      <td>75111</td>\n",
       "      <td>0</td>\n",
       "      <td>CRS3035RES200mN2890000E3762200</td>\n",
       "      <td>1543.5</td>\n",
       "      <td>926.0</td>\n",
       "      <td>...</td>\n",
       "      <td>57.0</td>\n",
       "      <td>57.5</td>\n",
       "      <td>577.5</td>\n",
       "      <td>305.0</td>\n",
       "      <td>162.0</td>\n",
       "      <td>155.0</td>\n",
       "      <td>64.0</td>\n",
       "      <td>23.0</td>\n",
       "      <td>0</td>\n",
       "      <td>POLYGON ((2.37086 48.86254, 2.37058 48.86432, ...</td>\n",
       "    </tr>\n",
       "    <tr>\n",
       "      <th>2</th>\n",
       "      <td>CRS3035RES200mN2893400E3762400</td>\n",
       "      <td>CRS3035RES1000mN2893000E3762000</td>\n",
       "      <td>0</td>\n",
       "      <td>CRS3035RES1000mN2893000E3762000</td>\n",
       "      <td>866107</td>\n",
       "      <td>75119</td>\n",
       "      <td>0</td>\n",
       "      <td>CRS3035RES200mN2893400E3762400</td>\n",
       "      <td>1338.0</td>\n",
       "      <td>508.0</td>\n",
       "      <td>...</td>\n",
       "      <td>126.5</td>\n",
       "      <td>83.5</td>\n",
       "      <td>244.0</td>\n",
       "      <td>276.0</td>\n",
       "      <td>185.0</td>\n",
       "      <td>173.0</td>\n",
       "      <td>47.0</td>\n",
       "      <td>25.0</td>\n",
       "      <td>0</td>\n",
       "      <td>POLYGON ((2.36888 48.89312, 2.36860 48.89490, ...</td>\n",
       "    </tr>\n",
       "    <tr>\n",
       "      <th>3</th>\n",
       "      <td>CRS3035RES200mN2891800E3763600</td>\n",
       "      <td>CRS3035RES1000mN2891000E3763000</td>\n",
       "      <td>0</td>\n",
       "      <td>CRS3035RES200mN2891800E3763600</td>\n",
       "      <td>862421</td>\n",
       "      <td>75119</td>\n",
       "      <td>0</td>\n",
       "      <td>CRS3035RES200mN2891800E3763600</td>\n",
       "      <td>1235.5</td>\n",
       "      <td>633.0</td>\n",
       "      <td>...</td>\n",
       "      <td>87.5</td>\n",
       "      <td>39.0</td>\n",
       "      <td>345.0</td>\n",
       "      <td>270.0</td>\n",
       "      <td>124.0</td>\n",
       "      <td>126.0</td>\n",
       "      <td>68.0</td>\n",
       "      <td>35.0</td>\n",
       "      <td>0</td>\n",
       "      <td>POLYGON ((2.38737 48.87993, 2.38710 48.88172, ...</td>\n",
       "    </tr>\n",
       "    <tr>\n",
       "      <th>4</th>\n",
       "      <td>CRS3035RES200mN2890800E3763200</td>\n",
       "      <td>CRS3035RES1000mN2890000E3763000</td>\n",
       "      <td>0</td>\n",
       "      <td>CRS3035RES200mN2890800E3763200</td>\n",
       "      <td>862464</td>\n",
       "      <td>75120</td>\n",
       "      <td>0</td>\n",
       "      <td>CRS3035RES200mN2890800E3763200</td>\n",
       "      <td>685.0</td>\n",
       "      <td>349.0</td>\n",
       "      <td>...</td>\n",
       "      <td>48.5</td>\n",
       "      <td>24.5</td>\n",
       "      <td>152.0</td>\n",
       "      <td>141.0</td>\n",
       "      <td>69.0</td>\n",
       "      <td>124.0</td>\n",
       "      <td>38.0</td>\n",
       "      <td>13.0</td>\n",
       "      <td>0</td>\n",
       "      <td>POLYGON ((2.38332 48.87062, 2.38305 48.87240, ...</td>\n",
       "    </tr>\n",
       "  </tbody>\n",
       "</table>\n",
       "<p>5 rows × 38 columns</p>\n",
       "</div>"
      ],
      "text/plain": [
       "                        IdINSPIRE                       Id_carr1km  I_est_cr  \\\n",
       "0  CRS3035RES200mN2893400E3763200  CRS3035RES1000mN2893000E3763000         0   \n",
       "1  CRS3035RES200mN2890000E3762200  CRS3035RES1000mN2890000E3762000         0   \n",
       "2  CRS3035RES200mN2893400E3762400  CRS3035RES1000mN2893000E3762000         0   \n",
       "3  CRS3035RES200mN2891800E3763600  CRS3035RES1000mN2891000E3763000         0   \n",
       "4  CRS3035RES200mN2890800E3763200  CRS3035RES1000mN2890000E3763000         0   \n",
       "\n",
       "                         Id_carr_n  Groupe Depcom  I_pauv  \\\n",
       "0  CRS3035RES1000mN2893000E3763000  866132  75119       0   \n",
       "1   CRS3035RES200mN2890000E3762200  862504  75111       0   \n",
       "2  CRS3035RES1000mN2893000E3762000  866107  75119       0   \n",
       "3   CRS3035RES200mN2891800E3763600  862421  75119       0   \n",
       "4   CRS3035RES200mN2890800E3763200  862464  75120       0   \n",
       "\n",
       "                       Id_car2010     Ind    Men  ...  Ind_11_17  Ind_18_24  \\\n",
       "0  CRS3035RES200mN2893400E3763200  2818.5  990.0  ...      308.0      208.0   \n",
       "1  CRS3035RES200mN2890000E3762200  1543.5  926.0  ...       57.0       57.5   \n",
       "2  CRS3035RES200mN2893400E3762400  1338.0  508.0  ...      126.5       83.5   \n",
       "3  CRS3035RES200mN2891800E3763600  1235.5  633.0  ...       87.5       39.0   \n",
       "4  CRS3035RES200mN2890800E3763200   685.0  349.0  ...       48.5       24.5   \n",
       "\n",
       "   Ind_25_39  Ind_40_54  Ind_55_64  Ind_65_79  Ind_80p  Ind_inc  I_est_1km  \\\n",
       "0      517.0      524.0      362.0      351.0     93.0     69.0          0   \n",
       "1      577.5      305.0      162.0      155.0     64.0     23.0          0   \n",
       "2      244.0      276.0      185.0      173.0     47.0     25.0          0   \n",
       "3      345.0      270.0      124.0      126.0     68.0     35.0          0   \n",
       "4      152.0      141.0       69.0      124.0     38.0     13.0          0   \n",
       "\n",
       "                                            geometry  \n",
       "0  POLYGON ((2.37974 48.89386, 2.37946 48.89565, ...  \n",
       "1  POLYGON ((2.37086 48.86254, 2.37058 48.86432, ...  \n",
       "2  POLYGON ((2.36888 48.89312, 2.36860 48.89490, ...  \n",
       "3  POLYGON ((2.38737 48.87993, 2.38710 48.88172, ...  \n",
       "4  POLYGON ((2.38332 48.87062, 2.38305 48.87240, ...  \n",
       "\n",
       "[5 rows x 38 columns]"
      ]
     },
     "execution_count": 12,
     "metadata": {},
     "output_type": "execute_result"
    }
   ],
   "source": [
    "filosofi_paris.head()"
   ]
  },
  {
   "cell_type": "markdown",
   "metadata": {},
   "source": [
    "### Sauvegarde du fichier restreint à Paris"
   ]
  },
  {
   "cell_type": "markdown",
   "metadata": {},
   "source": [
    "Le fichier est ici enregistré afin de réduire le temps d'ouverture de la table pour les prochaines analyses."
   ]
  },
  {
   "cell_type": "code",
   "execution_count": 13,
   "metadata": {
    "ExecuteTime": {
     "end_time": "2020-12-14T22:31:17.909375Z",
     "start_time": "2020-12-14T22:31:16.485559Z"
    }
   },
   "outputs": [],
   "source": [
    "filosofi_paris.to_file(\"../good_data/filosofi/metropole/filosofi_75.shp\")"
   ]
  },
  {
   "cell_type": "markdown",
   "metadata": {},
   "source": [
    "### Analyse de la table"
   ]
  },
  {
   "cell_type": "markdown",
   "metadata": {},
   "source": [
    "#### Quelques définitions"
   ]
  },
  {
   "cell_type": "markdown",
   "metadata": {},
   "source": [
    "#### Lecture"
   ]
  },
  {
   "cell_type": "code",
   "execution_count": 14,
   "metadata": {
    "ExecuteTime": {
     "end_time": "2020-12-14T22:31:47.890814Z",
     "start_time": "2020-12-14T22:31:47.683724Z"
    }
   },
   "outputs": [],
   "source": [
    "filosofi_paris = gpd.read_file(\"../good_data/filosofi/metropole/filosofi_75.shp\")"
   ]
  },
  {
   "cell_type": "markdown",
   "metadata": {},
   "source": [
    "Cette table est constituée des 37 variables suivantes : \n",
    "\n",
    "|  IdINSPIRE |                                                                             Identifiant Inspire du carreau de 200 m                                                                             |\n",
    "|:----------:|:-----------------------------------------------------------------------------------------------------------------------------------------------------------------------------------------------:|\n",
    "| Id_carr1km |                                                           Identifiant Inspire du carreau de 1 km auquel appartient le carreau de 200 m                                                          |\n",
    "|  I_est_cr  |                                                           Vaut 1 si le carreau de 200 m est imputé par une valeur approchée, 0 sinon.                                                           |\n",
    "|  Id_carr_n |                                                      Identifiant Inspire du carreau de niveau naturel auquel appartient le carreau de 200 m                                                     |\n",
    "|   Groupe   |                                                               Numéro du groupe auquel appartient le carreau (voir documentation).                                                               |\n",
    "|   Depcom   |                                        Code commune, selon le code officiel géographique 2019, auquel sont rattachés la majorité des ménages du carreau.                                        |\n",
    "|   I_pauv   |                            Nombre de carreaux de 200 m compris dans le carreau qui ont été traités pour respecter la confidentialité sur le nombre de ménages pauvres                           |\n",
    "| Id_car2010 | Identifiant Inspire du carreau de 200 m figurant dans la base de données carroyées à 200 m diffusée avec la source RFL2010 (le nombre de caractères peut être différent de celui de IdINSPIRE). |\n",
    "|     Ind    |                                                                                        Nombre d’individus                                                                                       |\n",
    "|     Men    |                                                                                        Nombre de ménages                                                                                        |\n",
    "|  Men_pauv  |                                                                                    Nombre de ménages pauvres                                                                                    |\n",
    "|  Men_1ind  |                                                                               Nombre de ménages d’un seul individu                                                                              |\n",
    "|  Men_5ind  |                                                                             Nombre de ménages de 5 individus ou plus                                                                            |\n",
    "|  Men_prop  |                                                                                 Nombre de ménages propriétaires                                                                                 |\n",
    "|   Men_fmp  |                                                                                 Nombre de ménages monoparentaux                                                                                 |\n",
    "|   Ind_snv  |                                                                        Somme des niveaux de vie winsorisés des individus                                                                        |\n",
    "|  Men_surf  |                                                                           Somme de la surface des logements du carreau                                                                          |\n",
    "|  Men_coll  |                                                                            Nombre de ménages en logements collectifs                                                                            |\n",
    "|  Men_mais  |                                                                                   Nombre de ménages en maison                                                                                   |\n",
    "|  Log_av45  |                                                                            Nombre de logements construits avant 1945                                                                            |\n",
    "|  Log_45_70 |                                                                        Nombre de logements construits entre 1945 et 1969                                                                        |\n",
    "|  Log_70_90 |                                                                        Nombre de logements construits entre 1970 et 1989                                                                        |\n",
    "|  Log_ap90  |                                                                            Nombre de logements construits depuis 1990                                                                           |\n",
    "|   Log_inc  |                                                                  Nombre de logements dont la date de construction est inconnue                                                                  |\n",
    "|   Log_soc  |                                                                                   Nombre de logements sociaux                                                                                   |\n",
    "|   Ind_0_3  |                                                                                 Nombre d’individus de 0 à 3 ans                                                                                 |\n",
    "|   Ind_4_5  |                                                                                 Nombre d’individus de 4 à 5 ans                                                                                 |\n",
    "|  Ind_6_10  |                                                                                 Nombre d’individus de 6 à 10 ans                                                                                |\n",
    "|  Ind_11_17 |                                                                                Nombre d’individus de 11 à 17 ans                                                                                |\n",
    "|  Ind_18_24 |                                                                                Nombre d’individus de 18 à 24 ans                                                                                |\n",
    "|  Ind_25_39 |                                                                                Nombre d’individus de 25 à 39 ans                                                                                |\n",
    "|  Ind_40_54 |                                                                                Nombre d’individus de 40 à 54 ans                                                                                |\n",
    "|  Ind_55_64 |                                                                                Nombre d’individus de 55 à 64 ans                                                                                |\n",
    "|  Ind_65_79 |                                                                                Nombre d’individus de 65 à 79 ans                                                                                |\n",
    "|   Ind_80p  |                                                                               Nombre d’individus de 80 ans ou plus                                                                              |\n",
    "|   Ind_inc  |                                                                            Nombre d’individus dont l’âge est inconnu                                                                            |\n",
    "|  I_est_1km |                                        Vaut 1 si le carreau de 1 km auquel est rattaché le carreau de 200 m est imputé par une valeur approchée, 0 sinon.                                       |"
   ]
  },
  {
   "cell_type": "markdown",
   "metadata": {},
   "source": [
    "##### Fonction pour un zonage quelconque"
   ]
  },
  {
   "cell_type": "markdown",
   "metadata": {},
   "source": [
    "Cette fonction permet de calculer des agrégats supplémentaires. Par exemple, la population est donnée en nombre d'habitants pour différentes tranches. Il peut être intéressant d'intégrer les proportions de chacune des tranches à la place."
   ]
  },
  {
   "cell_type": "code",
   "execution_count": 15,
   "metadata": {
    "ExecuteTime": {
     "end_time": "2020-12-14T22:33:11.794139Z",
     "start_time": "2020-12-14T22:33:11.778147Z"
    }
   },
   "outputs": [],
   "source": [
    "def recompute_data(filosofi, nom_var_zonage):\n",
    "    filosofi_copie = filosofi.copy(deep = True)\n",
    "    ind_par_zonage = filosofi_copie.filter(regex = \"(?i)(.*(\" + nom_var_zonage + \"|men|log|ind|geometry).*)\").groupby([nom_var_zonage]).sum() \n",
    "    #Compute proportion by age\n",
    "    ind_par_zonage.loc[:,\"Ind_0_3\":\"Ind_inc\"] = ind_par_zonage.loc[:,\"Ind_0_3\":\"Ind_inc\"].apply(lambda x : 100*x /ind_par_zonage[\"Ind\"])\n",
    "    #Compute statistics on \"logement\"        \n",
    "    nb_log = ind_par_zonage.loc[:, \"Log_av45\":\"Log_inc\"].apply(sum, axis = 1)\n",
    "    ind_par_zonage.loc[:, \"Log_av45\":\"Log_inc\"] = ind_par_zonage.loc[:, \"Log_av45\":\"Log_inc\"].apply(lambda x: 100*x/nb_log) #la lambda fonction est appliquée colonne par colonne\n",
    "    ind_par_zonage[\"Log_soc\"] = 100*ind_par_zonage[\"Log_soc\"]/nb_log\n",
    "    #Compute statistics on household\n",
    "    ind_par_zonage.loc[:, \"Men_pauv\":\"Men_fmp\"] = ind_par_zonage.loc[:, \"Men_pauv\":\"Men_fmp\"].apply(lambda x : 100*x / ind_par_zonage[\"Men\"])\n",
    "    ind_par_zonage.loc[:, \"Men_coll\":\"Men_mais\"] = ind_par_zonage.loc[:, \"Men_coll\":\"Men_mais\"].apply(lambda x : 100*x / ind_par_zonage[\"Men\"])\n",
    "    ind_par_zonage[\"nv_par_hab\"] = ind_par_zonage[\"Ind_snv\"]/ind_par_zonage[\"Ind\"]\n",
    "    ind_par_zonage[\"ind_par_zonage\"] = ind_par_zonage[\"Men_surf\"]/nb_log\n",
    "\n",
    "    #Dans le cas où on n'agrège pas --> on peut ajouter l'objet Point\n",
    "    if nom_var_zonage == \"IdINSPIRE\":\n",
    "      ind_par_zonage = ind_par_zonage.merge(filosofi_copie[[\"IdINSPIRE\", \"geometry\"]], on = \"IdINSPIRE\")\n",
    "      \n",
    "    return ind_par_zonage"
   ]
  },
  {
   "cell_type": "code",
   "execution_count": 16,
   "metadata": {
    "ExecuteTime": {
     "end_time": "2020-12-14T22:33:13.184769Z",
     "start_time": "2020-12-14T22:33:13.050996Z"
    }
   },
   "outputs": [],
   "source": [
    "filosofi_par_carreaux = recompute_data(filosofi_paris, \"IdINSPIRE\")\n",
    "filosofi_par_carreaux.set_index(\"IdINSPIRE\", inplace= True)"
   ]
  },
  {
   "cell_type": "code",
   "execution_count": 17,
   "metadata": {
    "ExecuteTime": {
     "end_time": "2020-12-14T22:33:14.485066Z",
     "start_time": "2020-12-14T22:33:14.478070Z"
    }
   },
   "outputs": [],
   "source": [
    "filosofi_par_carreaux_avec_geom = filosofi_par_carreaux.copy(deep = True)\n",
    "filosofi_par_carreaux.drop(\"geometry\", axis = 1, inplace = True)"
   ]
  }
 ],
 "metadata": {
  "kernelspec": {
   "display_name": "projet_2A",
   "language": "python",
   "name": "projet_2a"
  },
  "language_info": {
   "codemirror_mode": {
    "name": "ipython",
    "version": 3
   },
   "file_extension": ".py",
   "mimetype": "text/x-python",
   "name": "python",
   "nbconvert_exporter": "python",
   "pygments_lexer": "ipython3",
   "version": "3.8.5"
  },
  "latex_envs": {
   "LaTeX_envs_menu_present": true,
   "autoclose": false,
   "autocomplete": true,
   "bibliofile": "biblio.bib",
   "cite_by": "apalike",
   "current_citInitial": 1,
   "eqLabelWithNumbers": true,
   "eqNumInitial": 1,
   "hotkeys": {
    "equation": "Ctrl-E",
    "itemize": "Ctrl-I"
   },
   "labels_anchors": false,
   "latex_user_defs": false,
   "report_style_numbering": false,
   "user_envs_cfg": false
  },
  "toc": {
   "base_numbering": 1,
   "nav_menu": {},
   "number_sections": true,
   "sideBar": true,
   "skip_h1_title": false,
   "title_cell": "Table of Contents",
   "title_sidebar": "Contents",
   "toc_cell": true,
   "toc_position": {},
   "toc_section_display": true,
   "toc_window_display": false
  },
  "varInspector": {
   "cols": {
    "lenName": 16,
    "lenType": 16,
    "lenVar": 40
   },
   "kernels_config": {
    "python": {
     "delete_cmd_postfix": "",
     "delete_cmd_prefix": "del ",
     "library": "var_list.py",
     "varRefreshCmd": "print(var_dic_list())"
    },
    "r": {
     "delete_cmd_postfix": ") ",
     "delete_cmd_prefix": "rm(",
     "library": "var_list.r",
     "varRefreshCmd": "cat(var_dic_list()) "
    }
   },
   "types_to_exclude": [
    "module",
    "function",
    "builtin_function_or_method",
    "instance",
    "_Feature"
   ],
   "window_display": false
  }
 },
 "nbformat": 4,
 "nbformat_minor": 4
}
