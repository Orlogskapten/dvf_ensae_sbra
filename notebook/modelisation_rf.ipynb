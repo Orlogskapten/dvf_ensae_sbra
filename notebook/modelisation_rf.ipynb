{
  "nbformat": 4,
  "nbformat_minor": 0,
  "metadata": {
    "colab": {
      "name": "Untitled5.ipynb",
      "provenance": [],
      "collapsed_sections": [
        "NfMCm_jfgNz5"
      ]
    },
    "kernelspec": {
      "display_name": "Python 3",
      "name": "python3"
    }
  },
  "cells": [
    {
      "cell_type": "markdown",
      "metadata": {
        "id": "l6XuyoK5GnXS"
      },
      "source": [
        "# Prédiction à l'aide de forêts aléatoires"
      ]
    },
    {
      "cell_type": "markdown",
      "metadata": {
        "id": "SIOtacAZIH2F"
      },
      "source": [
        "Les forêts aléatoires sont des modèles de bagging ne nécessitant pas beaucoup de *fine tuning* pour obtenir des performances correctes. De plus, ces méthodes sont plus résitances au surapprentissage par rapport à d'autres méthodes."
      ]
    },
    {
      "cell_type": "code",
      "metadata": {
        "colab": {
          "base_uri": "https://localhost:8080/"
        },
        "id": "CinwfMv7Ejc7",
        "outputId": "377bca8b-05d3-414c-fd03-ff2ddcd3102a"
      },
      "source": [
        "from google.colab import drive\n",
        "drive.mount('/content/drive')"
      ],
      "execution_count": 1,
      "outputs": [
        {
          "output_type": "stream",
          "text": [
            "Drive already mounted at /content/drive; to attempt to forcibly remount, call drive.mount(\"/content/drive\", force_remount=True).\n"
          ],
          "name": "stdout"
        }
      ]
    },
    {
      "cell_type": "code",
      "metadata": {
        "id": "jcO0HgPcGNND"
      },
      "source": [
        "dossier_donnees = \"/content/drive/My Drive/projet_info_Ensae\""
      ],
      "execution_count": 2,
      "outputs": []
    },
    {
      "cell_type": "code",
      "metadata": {
        "id": "Ct4fa2UFGNxm"
      },
      "source": [
        "import pandas as pd\n",
        "from sklearn.ensemble import RandomForestRegressor\n",
        "from sklearn.model_selection import RandomizedSearchCV\n",
        "from sklearn import metrics\n",
        "from sklearn.model_selection import GridSearchCV\n",
        "import numpy as np\n",
        "from matplotlib import pyplot as plt\n"
      ],
      "execution_count": 3,
      "outputs": []
    },
    {
      "cell_type": "markdown",
      "metadata": {
        "id": "cUk86R6nzkkI"
      },
      "source": [
        "## Lecture des données de train et validation"
      ]
    },
    {
      "cell_type": "code",
      "metadata": {
        "id": "yCit_SmvGWMU"
      },
      "source": [
        "donnees = pd.read_csv(dossier_donnees + \"/donnees_model/donnees_train.csv\", index_col = 1)"
      ],
      "execution_count": 4,
      "outputs": []
    },
    {
      "cell_type": "code",
      "metadata": {
        "id": "7-6wl5wPf878"
      },
      "source": [
        "donnees_validation =  pd.read_csv(dossier_donnees + \"/donnees_model/donnees_validation.csv\", index_col = 1)"
      ],
      "execution_count": 5,
      "outputs": []
    },
    {
      "cell_type": "code",
      "metadata": {
        "id": "YNxS5YfvILSs"
      },
      "source": [
        "donnees.drop(columns= \"Unnamed: 0\", inplace = True)"
      ],
      "execution_count": 6,
      "outputs": []
    },
    {
      "cell_type": "code",
      "metadata": {
        "id": "c_HEHSqMOOWu"
      },
      "source": [
        "donnees_validation.drop(columns= \"Unnamed: 0\", inplace = True)"
      ],
      "execution_count": 7,
      "outputs": []
    },
    {
      "cell_type": "markdown",
      "metadata": {
        "id": "u_MDmU0tzoyy"
      },
      "source": [
        "On va faire quelques petites modifications sur les donnees : \n",
        "- Les variables `arrondissement`, `pp`, `mois` vont être considérées comme variable catégorielle\n",
        "- Les variables `datemut` vont être supprimées\n",
        "- La variable `sbati_squa` est retirée en suivant les recommandations de Maître Wenceslas Sanchez."
      ]
    },
    {
      "cell_type": "code",
      "metadata": {
        "id": "BT60pVQzHgWu"
      },
      "source": [
        "donnees[\"arrondissement\"] = donnees[\"arrondissement\"].astype(\"object\")\n",
        "\n",
        "donnees[\"pp\"] = donnees[\"pp\"].astype(\"object\")\n",
        "\n",
        "donnees[\"mois\"] = donnees[\"datemut\"].str[5:7].astype(\"object\")\n",
        "\n",
        "donnees_train = donnees.drop(columns = [\"nblot\", \"nbpar\", \"nblocmut\", \"nblocdep\",\"datemut\",\"sbati_squa\"])\n"
      ],
      "execution_count": 8,
      "outputs": []
    },
    {
      "cell_type": "code",
      "metadata": {
        "id": "nzLd6Ytugnth"
      },
      "source": [
        "donnees_validation[\"arrondissement\"] = donnees_validation[\"arrondissement\"].astype(\"object\")\n",
        "\n",
        "donnees_validation[\"pp\"] = donnees_validation[\"pp\"].astype(\"object\")\n",
        "\n",
        "donnees_validation[\"mois\"] = donnees_validation[\"datemut\"].str[5:7].astype(\"object\")\n",
        "\n",
        "donnees_validation.drop(columns = [\"nblot\", \"nbpar\", \"nblocmut\", \"nblocdep\",\"datemut\",\"sbati_squa\"], inplace = True)"
      ],
      "execution_count": 9,
      "outputs": []
    },
    {
      "cell_type": "code",
      "metadata": {
        "id": "pmzsLTZmiDbb"
      },
      "source": [
        "donnees_train.rename(columns = {\"valfoncact2\" : \"valfoncact\"}, inplace = True)\r\n",
        "donnees_validation.rename(columns = {\"valfoncact2\" : \"valfoncact\"}, inplace = True)"
      ],
      "execution_count": 10,
      "outputs": []
    },
    {
      "cell_type": "code",
      "metadata": {
        "id": "QS3jB2Ify8w9"
      },
      "source": [
        "def preparation(table):\r\n",
        "  #Restriction à certains biens\r\n",
        "  table = table[(table[\"valfoncact\"] > 1e5) & (table[\"valfoncact\"] < 3*(1e6))]\r\n",
        "  #Ajout données brut\r\n",
        "  men_brut = table.loc[:, \"Men\":\"Men_mais\"].apply(lambda x : x*table[\"Men\"], axis = 0).add_suffix(\"_brut\")\r\n",
        "  ind_brut = table.loc[:, \"Ind_0_3\":\"Ind_80p\"].apply(lambda x : x*table[\"Ind\"], axis = 0).add_suffix(\"_brut\")\r\n",
        "  table = pd.concat([table, men_brut, ind_brut],axis = 1)\r\n",
        "  table_X = table.drop(columns = [\"valfoncact\"]).to_numpy()\r\n",
        "  table_Y = table[\"valfoncact\"].to_numpy()\r\n",
        "  nom = table.drop(columns = [\"valfoncact\"]).columns\r\n",
        "  return(table_X,table_Y,nom)"
      ],
      "execution_count": 11,
      "outputs": []
    },
    {
      "cell_type": "code",
      "metadata": {
        "id": "6bUKlgOj0C41"
      },
      "source": [
        "donnees_validation_prep_X,donnees_validation_prep_Y,nom = preparation(donnees_validation)\r\n",
        "donnees_train_prep_X,donnees_train_prep_Y,nom = preparation(donnees_train)"
      ],
      "execution_count": 12,
      "outputs": []
    },
    {
      "cell_type": "markdown",
      "metadata": {
        "id": "AMua3Xiwf3bk"
      },
      "source": [
        "## Modélisation\n"
      ]
    },
    {
      "cell_type": "code",
      "metadata": {
        "id": "79QDsnoYHiJB"
      },
      "source": [
        "rf = RandomForestRegressor(random_state=42,n_jobs = -1)"
      ],
      "execution_count": null,
      "outputs": []
    },
    {
      "cell_type": "markdown",
      "metadata": {
        "id": "Qn1pm3vZ2eqo"
      },
      "source": [
        "Pour le choix du nombre de variables testés à chaque split, Breiman [2000] recommande qu'utiliser dans les problèmes de régression $\\sqrt{p}$ comme valeur où p désigne le nombre de covariables. Ici $p$ vaut 67. On prendra donc $p = 8$ ainsi que $6$ et $16$.\r\n",
        "\r\n",
        "Le nombre d'arbres (`n_estimators`) n'est *a priori* pas le critère le plus déterminant dans la performance des forêts aléatoires au delà d'un certain seuil. Nous essayons ici des valeurs *conventionnelles*.\r\n",
        "\r\n",
        "Pour contrôler la profondeur des feuilles de chaque arbre CART, nous utilisons le nombre d'individus minimums dans chaque feuille de l'arbre. Plus il est grand, plus l'arbre sera petit. Notons que les arbres ne sont pas élagués ici."
      ]
    },
    {
      "cell_type": "code",
      "metadata": {
        "id": "rFyV1VTC1Vy-"
      },
      "source": [
        "param_grid = { \n",
        "    'n_estimators': [100,200,500,1000],\n",
        "    'max_features': [6,8,16],\n",
        "    'min_samples_leaf' : [1,2,5,10]\n",
        "}"
      ],
      "execution_count": null,
      "outputs": []
    },
    {
      "cell_type": "code",
      "metadata": {
        "id": "GC8cGxuLYK34"
      },
      "source": [
        "rf_grid_search = GridSearchCV(estimator = rf, param_grid = param_grid,cv = 3, verbose=2, n_jobs = -1)"
      ],
      "execution_count": null,
      "outputs": []
    },
    {
      "cell_type": "code",
      "metadata": {
        "colab": {
          "base_uri": "https://localhost:8080/"
        },
        "id": "RG1hxp1PIHMU",
        "outputId": "b1e526d0-480a-4862-edab-d275b46735ad"
      },
      "source": [
        "rf_grid_search.fit(donnees_train_prep_X, donnees_train_prep_Y)\r\n",
        "print(rf_grid_search.best_params_)"
      ],
      "execution_count": null,
      "outputs": [
        {
          "output_type": "stream",
          "text": [
            "Fitting 3 folds for each of 48 candidates, totalling 144 fits\n"
          ],
          "name": "stdout"
        },
        {
          "output_type": "stream",
          "text": [
            "[Parallel(n_jobs=-1)]: Using backend LokyBackend with 2 concurrent workers.\n",
            "/usr/local/lib/python3.6/dist-packages/joblib/externals/loky/process_executor.py:691: UserWarning: A worker stopped while some jobs were given to the executor. This can be caused by a too short worker timeout or by a memory leak.\n",
            "  \"timeout or by a memory leak.\", UserWarning\n",
            "[Parallel(n_jobs=-1)]: Done  37 tasks      | elapsed: 62.9min\n",
            "[Parallel(n_jobs=-1)]: Done 144 out of 144 | elapsed: 396.5min finished\n"
          ],
          "name": "stderr"
        },
        {
          "output_type": "stream",
          "text": [
            "{'max_features': 16, 'min_samples_leaf': 2, 'n_estimators': 1000}\n"
          ],
          "name": "stdout"
        }
      ]
    },
    {
      "cell_type": "code",
      "metadata": {
        "id": "HJl_n4GE5wkC"
      },
      "source": [
        "rf2 = RandomForestRegressor(random_state=42,n_jobs = -1, max_features = 16, min_samples_leaf= 2, n_estimators= 1000)"
      ],
      "execution_count": 13,
      "outputs": []
    },
    {
      "cell_type": "code",
      "metadata": {
        "colab": {
          "base_uri": "https://localhost:8080/"
        },
        "id": "UEpWE3EQ52nK",
        "outputId": "507c0096-8bde-4891-eadb-a2be0dc1de63"
      },
      "source": [
        "rf2.fit(donnees_train_prep_X,donnees_train_prep_Y)"
      ],
      "execution_count": 14,
      "outputs": [
        {
          "output_type": "execute_result",
          "data": {
            "text/plain": [
              "RandomForestRegressor(bootstrap=True, ccp_alpha=0.0, criterion='mse',\n",
              "                      max_depth=None, max_features=16, max_leaf_nodes=None,\n",
              "                      max_samples=None, min_impurity_decrease=0.0,\n",
              "                      min_impurity_split=None, min_samples_leaf=2,\n",
              "                      min_samples_split=2, min_weight_fraction_leaf=0.0,\n",
              "                      n_estimators=1000, n_jobs=-1, oob_score=False,\n",
              "                      random_state=42, verbose=0, warm_start=False)"
            ]
          },
          "metadata": {
            "tags": []
          },
          "execution_count": 14
        }
      ]
    },
    {
      "cell_type": "code",
      "metadata": {
        "id": "MtVoaonN-pER"
      },
      "source": [
        "pred = rf2.predict(donnees_validation_prep_X)"
      ],
      "execution_count": 15,
      "outputs": []
    },
    {
      "cell_type": "code",
      "metadata": {
        "colab": {
          "base_uri": "https://localhost:8080/"
        },
        "id": "Ge-LgOi5--5t",
        "outputId": "f7e2ce0a-e6a5-4ef6-c60f-d67250478bba"
      },
      "source": [
        "np.sqrt(metrics.mean_squared_error(donnees_validation_prep_Y,pred))"
      ],
      "execution_count": 16,
      "outputs": [
        {
          "output_type": "execute_result",
          "data": {
            "text/plain": [
              "143325.41074173173"
            ]
          },
          "metadata": {
            "tags": []
          },
          "execution_count": 16
        }
      ]
    },
    {
      "cell_type": "markdown",
      "metadata": {
        "id": "DIb0c4SXQDpF"
      },
      "source": [
        "## Visualisation de l'importance des variables"
      ]
    },
    {
      "cell_type": "markdown",
      "metadata": {
        "id": "BgzBHBC4F8Ke"
      },
      "source": [
        "Afin de savoir quelles sont les variables les plus importantes dans la prédiction, nous allons utiliser l'importance des variables. Il s'agit ici d'une importance basée sur la diminution de l'indice de Gini."
      ]
    },
    {
      "cell_type": "code",
      "metadata": {
        "colab": {
          "base_uri": "https://localhost:8080/",
          "height": 894
        },
        "id": "V5_C0vFJQHmV",
        "outputId": "95337fcd-0595-4700-cd07-e985b512b9f3"
      },
      "source": [
        "sorted_idx = rf2.feature_importances_.argsort()\r\n",
        "plt.figure(figsize=(10,15))\r\n",
        "plt.barh(nom[sorted_idx], rf2.feature_importances_[sorted_idx])\r\n",
        "plt.xlabel(\"Random Forest Feature Importance\")"
      ],
      "execution_count": 17,
      "outputs": [
        {
          "output_type": "execute_result",
          "data": {
            "text/plain": [
              "Text(0.5, 0, 'Random Forest Feature Importance')"
            ]
          },
          "metadata": {
            "tags": []
          },
          "execution_count": 17
        },
        {
          "output_type": "display_data",
          "data": {
            "image/png": "[encoded data removed]",
            "text/plain": [
              "<Figure size 720x1080 with 1 Axes>"
            ]
          },
          "metadata": {
            "tags": [],
            "needs_background": "light"
          }
        }
      ]
    },
    {
      "cell_type": "markdown",
      "metadata": {
        "id": "o0p-NJsZHTdM"
      },
      "source": [
        "On note que les variables les plus importantes pour la prédiction sont : \r\n",
        "- sbati : la surface du bien\r\n",
        "- pp : le nombre de pièces\r\n",
        "- nv_par_hab : le niveau de vie par habitant du carreaux de 200 mètres dans lequel le bien se situe\r\n",
        "- Men_mai : Part de ménages en maison\r\n",
        "- arrondissement : Arrondissement dans lequel se situe le bien\r\n",
        "- Men_prop : Part de ménages propriétaires\r\n",
        "- Ind_80p : Part de plus de 80 ans\r\n",
        "- Ind_65_79 : Part d'individus âgés entre 65 et 79 ans\r\n",
        "- Men_mai_brut : Nombre bruts de ménages en maison"
      ]
    }
  ]
}